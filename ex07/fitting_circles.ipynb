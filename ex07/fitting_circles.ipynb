{
 "cells": [
  {
   "cell_type": "code",
   "execution_count": 3,
   "metadata": {},
   "outputs": [],
   "source": [
    "import numpy as np\n",
    "from matplotlib import pyplot as plt\n",
    "from matplotlib.patches import Arc\n",
    "from matplotlib.pyplot import figure"
   ]
  },
  {
   "cell_type": "code",
   "execution_count": null,
   "metadata": {},
   "outputs": [],
   "source": [
    "data = np.load(\"circles.npy\")"
   ]
  },
  {
   "cell_type": "code",
   "execution_count": null,
   "metadata": {},
   "outputs": [],
   "source": [
    "data.min(axis=0), data.max(axis=0)"
   ]
  },
  {
   "cell_type": "code",
   "execution_count": null,
   "metadata": {},
   "outputs": [],
   "source": [
    "fig, ax = plt.subplots(figsize=(8,8))\n",
    "\n",
    "plt.xlim(-0.01, 1.01)\n",
    "plt.ylim(-0.01, 1.01)\n",
    "plt.gca().set_aspect('equal', adjustable='box')\n",
    "ax.scatter(*data.T)\n",
    "\n",
    "plt.show()"
   ]
  },
  {
   "cell_type": "code",
   "execution_count": null,
   "metadata": {},
   "outputs": [],
   "source": [
    "\n",
    "fig, ax = plt.subplots(figsize=(8,8))\n",
    "\n",
    "plt.xlim(-0.01, 1.01)\n",
    "plt.ylim(-0.01, 1.01)\n",
    "plt.gca().set_aspect('equal', adjustable='box')\n",
    "ax.scatter(*data.T)\n",
    "\n",
    "color = \"y\"\n",
    "linewidth = 5\n",
    "\n",
    "ax.add_patch(Arc((.448, .52), .65, .65, theta1=130, theta2=235, color=color, linewidth=linewidth))\n",
    "ax.add_patch(Arc((.74, .67), .5, .5, theta1=80, theta2=190, color=color, linewidth=linewidth))\n",
    "ax.add_patch(plt.Circle((.23, .8), .17, fill=False, color=color, linewidth=linewidth))\n",
    "ax.add_patch(plt.Circle((.27, .25), .16, fill=False, color=color, linewidth=linewidth))\n",
    "ax.add_patch(plt.Circle((.65, .32), .3, fill=False, color=color, linewidth=linewidth))\n",
    "ax.add_patch(plt.Circle((.73, .27), .13, fill=False, color=color, linewidth=linewidth))\n",
    "\n",
    "plt.show()"
   ]
  },
  {
   "cell_type": "code",
   "execution_count": null,
   "metadata": {},
   "outputs": [],
   "source": []
  },
  {
   "cell_type": "code",
   "execution_count": null,
   "metadata": {},
   "outputs": [],
   "source": [
    "points = np.array([[1, 2], [3, 4], [-4, 0]])\n"
   ]
  },
  {
   "cell_type": "code",
   "execution_count": null,
   "metadata": {},
   "outputs": [],
   "source": [
    "points"
   ]
  },
  {
   "cell_type": "code",
   "execution_count": null,
   "metadata": {},
   "outputs": [],
   "source": [
    "len_squared = np.linalg.norm(points, axis=1) ** 2"
   ]
  },
  {
   "cell_type": "code",
   "execution_count": 11,
   "metadata": {},
   "outputs": [],
   "source": [
    "def find_circle_touching_three_points(points):\n",
    "    \"\"\"This adapts the formular outlined here: https://en.wikipedia.org/wiki/Circumscribed_circle#Cartesian_coordinates\n",
    "    It expects three points in R2, so dim(points) = 3x2\n",
    "    \"\"\"\n",
    "\n",
    "    xs = points[:,0]\n",
    "    ys = points[:,1]\n",
    "    ones = np.ones(len(points))\n",
    "    len_squared = np.linalg.norm(points, axis=1) ** 2\n",
    "\n",
    "    S_x = .5 * np.linalg.det(np.vstack([len_squared, ys, ones]))\n",
    "    S_y = .5 * np.linalg.det(np.vstack([xs, len_squared, ones]))\n",
    "    a = np.linalg.det(np.vstack([xs, ys, ones]))\n",
    "    b = np.linalg.det(np.vstack([xs, ys, len_squared]))\n",
    "\n",
    "    S = np.array([S_x, S_y])\n",
    "    center = S/a\n",
    "\n",
    "    radius = np.sqrt((b / a ) + (np.linalg.norm(S) ** 2 / a ** 2))\n",
    "    return center, radius"
   ]
  },
  {
   "cell_type": "code",
   "execution_count": 23,
   "metadata": {},
   "outputs": [
    {
     "data": {
      "image/png": "[encoded data removed]",
      "text/plain": [
       "<Figure size 432x288 with 1 Axes>"
      ]
     },
     "metadata": {
      "needs_background": "light"
     },
     "output_type": "display_data"
    }
   ],
   "source": [
    "points = np.random.rand(3, 2)\n",
    "center, radius = find_circle_touching_three_points(points)\n",
    "\n",
    "plt.scatter(*points.T)\n",
    "plt.gca().add_patch(plt.Circle(center, radius=radius, fill=False))\n",
    "plt.show()"
   ]
  },
  {
   "cell_type": "code",
   "execution_count": null,
   "metadata": {},
   "outputs": [],
   "source": [
    "! git add fitting_circles."
   ]
  },
  {
   "cell_type": "code",
   "execution_count": null,
   "metadata": {},
   "outputs": [],
   "source": []
  },
  {
   "cell_type": "code",
   "execution_count": null,
   "metadata": {},
   "outputs": [],
   "source": []
  }
 ],
 "metadata": {
  "kernelspec": {
   "display_name": "Python 3",
   "language": "python",
   "name": "python3"
  },
  "language_info": {
   "codemirror_mode": {
    "name": "ipython",
    "version": 3
   },
   "file_extension": ".py",
   "mimetype": "text/x-python",
   "name": "python",
   "nbconvert_exporter": "python",
   "pygments_lexer": "ipython3",
   "version": "3.8.10"
  }
 },
 "nbformat": 4,
 "nbformat_minor": 4
}
