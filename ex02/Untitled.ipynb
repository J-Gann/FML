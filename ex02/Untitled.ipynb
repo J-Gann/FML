{
 "cells": [
  {
   "cell_type": "code",
   "execution_count": 1,
   "id": "a6506d28",
   "metadata": {},
   "outputs": [],
   "source": [
    "from sklearn.datasets import load_digits\n",
    "from sklearn import model_selection\n",
    "from sklearn.neighbors import KNeighborsClassifier\n",
    "import numpy as np\n",
    "import matplotlib.pyplot as plt"
   ]
  },
  {
   "cell_type": "code",
   "execution_count": 2,
   "id": "ad73c9ba",
   "metadata": {},
   "outputs": [],
   "source": [
    "digits = load_digits()"
   ]
  },
  {
   "cell_type": "code",
   "execution_count": null,
   "id": "61aebf43",
   "metadata": {},
   "outputs": [],
   "source": [
    "print(digits.keys())"
   ]
  },
  {
   "cell_type": "code",
   "execution_count": 3,
   "id": "f6da04fc",
   "metadata": {},
   "outputs": [],
   "source": [
    "data = digits.data\n",
    "images = digits.images\n",
    "target = digits.target\n",
    "target_names = digits.target_names"
   ]
  },
  {
   "cell_type": "code",
   "execution_count": null,
   "id": "3e3f2968",
   "metadata": {},
   "outputs": [],
   "source": [
    "data.dtype"
   ]
  },
  {
   "cell_type": "code",
   "execution_count": null,
   "id": "58b02294",
   "metadata": {},
   "outputs": [],
   "source": [
    "data.shape"
   ]
  },
  {
   "cell_type": "code",
   "execution_count": null,
   "id": "b3410153",
   "metadata": {},
   "outputs": [],
   "source": [
    "img = data[0].reshape(8, 8)"
   ]
  },
  {
   "cell_type": "code",
   "execution_count": null,
   "id": "ace67a8b",
   "metadata": {},
   "outputs": [],
   "source": [
    "# each datapoint is a 8x8 image\n",
    "help(load_digits)"
   ]
  },
  {
   "cell_type": "code",
   "execution_count": null,
   "id": "2b189a9a",
   "metadata": {},
   "outputs": [],
   "source": [
    "plt.figure()\n",
    "plt.gray()\n",
    "plt.imshow(images[0], interpolation=\"nearest\")\n",
    "plt.show()"
   ]
  },
  {
   "cell_type": "code",
   "execution_count": null,
   "id": "f005c305",
   "metadata": {},
   "outputs": [],
   "source": [
    "plt.figure()\n",
    "plt.gray()\n",
    "plt.imshow(images[0], interpolation=\"bicubic\")\n",
    "plt.show()"
   ]
  },
  {
   "cell_type": "code",
   "execution_count": 4,
   "id": "052a2741",
   "metadata": {},
   "outputs": [],
   "source": [
    "X_all = data\n",
    "y_all = target\n",
    "\n",
    "X_train, X_test, y_train, y_test = model_selection.train_test_split(digits.data, digits.target, test_size=0.4, random_state=0)"
   ]
  },
  {
   "cell_type": "code",
   "execution_count": null,
   "id": "0c1c25a2",
   "metadata": {},
   "outputs": [],
   "source": [
    "def euclidian_distance(a, b):\n",
    "    return np.linalg.norm(b - a, ord=2)\n",
    "\n",
    "def dist_loop(training, test):\n",
    "    \"\"\"Given N x D training data and M x D test data compute a matrix N x M with the distance of each pair\"\"\"\n",
    "    \n",
    "    N, D = training.shape\n",
    "    M, D2 = test.shape\n",
    "    \n",
    "    assert D == D2, \"different length of pixel vectors\"\n",
    "    \n",
    "    result = np.zeros((N, M))\n",
    "    \n",
    "    for i in range(N):\n",
    "        for j in range(M):\n",
    "            result[i][j] = euclidian_distance(training[i], test[j])\n",
    "    \n",
    "    return result"
   ]
  },
  {
   "cell_type": "code",
   "execution_count": null,
   "id": "00b795bc",
   "metadata": {},
   "outputs": [],
   "source": [
    "res = dist_loop(X_train, X_test)"
   ]
  },
  {
   "cell_type": "code",
   "execution_count": null,
   "id": "6a34027a",
   "metadata": {},
   "outputs": [],
   "source": [
    "res"
   ]
  },
  {
   "cell_type": "code",
   "execution_count": null,
   "id": "9b5ba4b9",
   "metadata": {},
   "outputs": [],
   "source": [
    "\n",
    "def dist_vec(training, test):\n",
    "    \"\"\"Given N x D training data and M x D test data compute a matrix N x M with the distance of each pair\"\"\"\n",
    "    \n",
    "    N, D = training.shape\n",
    "    M, D2 = test.shape\n",
    "    \n",
    "    assert D == D2, \"different length of pixel vectors\"\n",
    "    \n",
    "    return np.apply_along_axis(lambda training_img: \n",
    "                               np.linalg.norm(test - training_img, ord=2, axis=1), axis=1, arr=training)"
   ]
  },
  {
   "cell_type": "code",
   "execution_count": null,
   "id": "51c90575",
   "metadata": {},
   "outputs": [],
   "source": [
    "def dist_vec2(training, test):\n",
    "    squared_diff = np.square(training[:,None] - test)\n",
    "    sum_diffs = np.sum(squared_diff, axis=2)\n",
    "    return np.sqrt(sum_diffs)"
   ]
  },
  {
   "cell_type": "code",
   "execution_count": 5,
   "id": "5c5372e9",
   "metadata": {},
   "outputs": [],
   "source": [
    "def dist_vec(training, test):\n",
    "    # training is N x D matrix\n",
    "    N, D = training.shape\n",
    "    # test is M x D matrix\n",
    "    M, D = test.shape\n",
    "\n",
    "    result = np.empty([N, M])\n",
    "    for n in range(N):\n",
    "        train_element = training[n]\n",
    "        result[n] = np.sqrt(np.sum(np.square(test - train_element)))\n",
    "\n",
    "    return result"
   ]
  },
  {
   "cell_type": "code",
   "execution_count": null,
   "id": "722fa69f",
   "metadata": {},
   "outputs": [],
   "source": [
    "np.all(dist_vec2(X_train[:10], X_test[:5]) == dist_loop(X_train[:10], X_test[:5]))"
   ]
  },
  {
   "cell_type": "code",
   "execution_count": null,
   "id": "20f6d952",
   "metadata": {},
   "outputs": [],
   "source": [
    "%timeit dist_vec(X_train, X_test)"
   ]
  },
  {
   "cell_type": "code",
   "execution_count": null,
   "id": "eddc8f75",
   "metadata": {},
   "outputs": [],
   "source": [
    "%timeit dist_vec2(X_train, X_test)"
   ]
  },
  {
   "cell_type": "code",
   "execution_count": null,
   "id": "0a69d25b",
   "metadata": {},
   "outputs": [],
   "source": [
    "%timeit dist_vec3(X_train, X_test)"
   ]
  },
  {
   "cell_type": "code",
   "execution_count": null,
   "id": "b614081c",
   "metadata": {},
   "outputs": [],
   "source": [
    "%timeit dist_loop(X_train, X_test)\n"
   ]
  },
  {
   "cell_type": "code",
   "execution_count": null,
   "id": "940debf4",
   "metadata": {},
   "outputs": [],
   "source": [
    "help(np.argpartition)"
   ]
  },
  {
   "cell_type": "code",
   "execution_count": 6,
   "id": "bea1acbd",
   "metadata": {},
   "outputs": [],
   "source": [
    "X_train_only_3_9 = X_train[np.isin(y_train, [3,9])]\n",
    "y_train_only_3_9 = y_train[np.isin(y_train, [3,9])]\n",
    "\n",
    "X_test_only_3_9 = X_test[np.isin(y_test, [3,9])]\n",
    "y_test_only_3_9 = y_test[np.isin(y_test, [3,9])]"
   ]
  },
  {
   "cell_type": "code",
   "execution_count": null,
   "id": "cca2c71b",
   "metadata": {},
   "outputs": [],
   "source": []
  },
  {
   "cell_type": "code",
   "execution_count": 7,
   "id": "e3b98855",
   "metadata": {},
   "outputs": [],
   "source": [
    "def k_nearest_neighbor(X_training, Y_training, x, k):\n",
    "    distances = dist_vec(X_training, np.array([x]))[:, 0]\n",
    "    k_nearest_index = np.argpartition(distances, k)[:k]\n",
    "    \n",
    "    k_nearest_neighbors = Y_training[k_nearest_index]\n",
    "    \n",
    "    vote = np.bincount(k_nearest_neighbors).argmax()\n",
    "    \n",
    "    return vote"
   ]
  },
  {
   "cell_type": "code",
   "execution_count": null,
   "id": "86ee88ac",
   "metadata": {},
   "outputs": [],
   "source": [
    "dist_vec"
   ]
  },
  {
   "cell_type": "code",
   "execution_count": 13,
   "id": "83f5860d",
   "metadata": {},
   "outputs": [
    {
     "name": "stdout",
     "output_type": "stream",
     "text": [
      "Help on function argpartition in module numpy:\n",
      "\n",
      "argpartition(a, kth, axis=-1, kind='introselect', order=None)\n",
      "    Perform an indirect partition along the given axis using the\n",
      "    algorithm specified by the `kind` keyword. It returns an array of\n",
      "    indices of the same shape as `a` that index data along the given\n",
      "    axis in partitioned order.\n",
      "    \n",
      "    .. versionadded:: 1.8.0\n",
      "    \n",
      "    Parameters\n",
      "    ----------\n",
      "    a : array_like\n",
      "        Array to sort.\n",
      "    kth : int or sequence of ints\n",
      "        Element index to partition by. The k-th element will be in its\n",
      "        final sorted position and all smaller elements will be moved\n",
      "        before it and all larger elements behind it. The order all\n",
      "        elements in the partitions is undefined. If provided with a\n",
      "        sequence of k-th it will partition all of them into their sorted\n",
      "        position at once.\n",
      "    axis : int or None, optional\n",
      "        Axis along which to sort. The default is -1 (the last axis). If\n",
      "        None, the flattened array is used.\n",
      "    kind : {'introselect'}, optional\n",
      "        Selection algorithm. Default is 'introselect'\n",
      "    order : str or list of str, optional\n",
      "        When `a` is an array with fields defined, this argument\n",
      "        specifies which fields to compare first, second, etc. A single\n",
      "        field can be specified as a string, and not all fields need be\n",
      "        specified, but unspecified fields will still be used, in the\n",
      "        order in which they come up in the dtype, to break ties.\n",
      "    \n",
      "    Returns\n",
      "    -------\n",
      "    index_array : ndarray, int\n",
      "        Array of indices that partition `a` along the specified axis.\n",
      "        If `a` is one-dimensional, ``a[index_array]`` yields a partitioned `a`.\n",
      "        More generally, ``np.take_along_axis(a, index_array, axis=a)`` always\n",
      "        yields the partitioned `a`, irrespective of dimensionality.\n",
      "    \n",
      "    See Also\n",
      "    --------\n",
      "    partition : Describes partition algorithms used.\n",
      "    ndarray.partition : Inplace partition.\n",
      "    argsort : Full indirect sort.\n",
      "    take_along_axis : Apply ``index_array`` from argpartition\n",
      "                      to an array as if by calling partition.\n",
      "    \n",
      "    Notes\n",
      "    -----\n",
      "    See `partition` for notes on the different selection algorithms.\n",
      "    \n",
      "    Examples\n",
      "    --------\n",
      "    One dimensional array:\n",
      "    \n",
      "    >>> x = np.array([3, 4, 2, 1])\n",
      "    >>> x[np.argpartition(x, 3)]\n",
      "    array([2, 1, 3, 4])\n",
      "    >>> x[np.argpartition(x, (1, 3))]\n",
      "    array([1, 2, 3, 4])\n",
      "    \n",
      "    >>> x = [3, 4, 2, 1]\n",
      "    >>> np.array(x)[np.argpartition(x, 3)]\n",
      "    array([2, 1, 3, 4])\n",
      "    \n",
      "    Multi-dimensional array:\n",
      "    \n",
      "    >>> x = np.array([[3, 4, 2], [1, 3, 1]])\n",
      "    >>> index_array = np.argpartition(x, kth=1, axis=-1)\n",
      "    >>> np.take_along_axis(x, index_array, axis=-1)  # same as np.partition(x, kth=1)\n",
      "    array([[2, 3, 4],\n",
      "           [1, 1, 3]])\n",
      "\n"
     ]
    }
   ],
   "source": [
    "def k_nearest_neighbor(X_training, Y_training, X_test, k):\n",
    "    distances = dist_vec(X_training, X_test)\n",
    "    k_nearest_index = np.argpartition(distances, k, axis=1)[:k]\n",
    "    \n",
    "    k_nearest_neighbors = Y_training[k_nearest_index]\n",
    "    \n",
    "    vote = np.bincount(k_nearest_neighbors).argmax()\n",
    "    \n",
    "    return vote"
   ]
  },
  {
   "cell_type": "code",
   "execution_count": null,
   "id": "85d1f201",
   "metadata": {},
   "outputs": [],
   "source": [
    "vote = np.bincount(k_nearest_neighbors).argmax()"
   ]
  },
  {
   "cell_type": "code",
   "execution_count": null,
   "id": "dd31ae61",
   "metadata": {},
   "outputs": [],
   "source": [
    "help(np.bincount)"
   ]
  },
  {
   "cell_type": "code",
   "execution_count": null,
   "id": "a83bd5cf",
   "metadata": {},
   "outputs": [],
   "source": [
    "dist_vec(X_train_only_3_9[:3], y_train_only_3_9[:3])"
   ]
  },
  {
   "cell_type": "code",
   "execution_count": 11,
   "id": "7baf2547",
   "metadata": {},
   "outputs": [
    {
     "data": {
      "image/png": "[encoded data removed]",
      "text/plain": [
       "<Figure size 432x288 with 1 Axes>"
      ]
     },
     "metadata": {
      "needs_background": "light"
     },
     "output_type": "display_data"
    },
    {
     "name": "stdout",
     "output_type": "stream",
     "text": [
      "[51.388888888888886, 51.388888888888886, 51.388888888888886, 51.388888888888886, 51.388888888888886, 51.388888888888886]\n"
     ]
    }
   ],
   "source": [
    "ks = [1, 3, 5, 9, 17, 33]\n",
    "errs = []\n",
    "\n",
    "for k in ks:\n",
    "    predictions = np.apply_along_axis(lambda x: k_nearest_neighbor(X_train_only_3_9, y_train_only_3_9, x, k), arr=X_test_only_3_9, axis=1)\n",
    "\n",
    "    wrong_predictions = sum(predictions != y_test_only_3_9)\n",
    "    errs.append(100 * wrong_predictions / len(y_test_only_3_9))\n",
    "    \n",
    "plt.plot(ks, errs)\n",
    "plt.show()\n",
    "print(errs)"
   ]
  },
  {
   "cell_type": "code",
   "execution_count": null,
   "id": "12d6b49c",
   "metadata": {},
   "outputs": [],
   "source": []
  },
  {
   "cell_type": "code",
   "execution_count": 9,
   "id": "2320af4d",
   "metadata": {},
   "outputs": [
    {
     "data": {
      "text/plain": [
       "array([ 0,  0,  0,  0,  0,  0,  0,  0,  0,  0,  0,  0,  0,  0,  0,  0,  0,\n",
       "        0,  0,  0,  0,  0,  0,  0,  0,  0,  0,  0,  0,  0,  0,  0,  0,  0,\n",
       "        0,  0,  0,  0,  0,  0,  0,  0,  0,  0,  0,  0,  0,  0,  0,  0,  0,\n",
       "        0,  0,  0,  0,  0,  0,  0,  0,  0,  0,  0,  0, -6,  0,  0,  0,  0,\n",
       "        0,  0,  0,  0,  0,  0,  0,  0,  0,  0,  0,  0,  0,  0,  0,  0,  0,\n",
       "        0,  6,  0,  0,  0,  0,  0,  0,  0,  0,  0,  0,  0,  0,  0,  0,  0,\n",
       "        0,  6,  0,  0,  0,  0,  0,  0,  0,  0,  0,  0,  0,  0,  0,  0,  0,\n",
       "        0,  0,  0,  0,  0,  0,  0,  0,  0,  0,  0,  0,  0,  0,  0,  0,  0,\n",
       "        0,  0,  0,  0,  0,  0,  0,  0])"
      ]
     },
     "execution_count": 9,
     "metadata": {},
     "output_type": "execute_result"
    }
   ],
   "source": [
    "predictions - y_test_only_3_9"
   ]
  },
  {
   "cell_type": "code",
   "execution_count": null,
   "id": "e7f1e689",
   "metadata": {},
   "outputs": [],
   "source": [
    "ks = [1, 3, 5, 9, 17]\n",
    "errs = []\n",
    "\n",
    "for k in ks:\n",
    "    predictions = np.apply_along_axis(lambda x: k_nearest_neighbor(X_train, y_train, x, k), arr=X_test, axis=1)\n",
    "\n",
    "    wrong_predictions = sum(predictions != y_test)\n",
    "    errs.append(100 * wrong_predictions / len(y_test))\n",
    "    \n",
    "\n",
    "print(errs)\n",
    "plt.plot(ks, errs)\n",
    "plt.show()\n"
   ]
  },
  {
   "cell_type": "code",
   "execution_count": null,
   "id": "cb1c831f",
   "metadata": {},
   "outputs": [],
   "source": []
  },
  {
   "cell_type": "markdown",
   "id": "b54457e3",
   "metadata": {},
   "source": [
    "# 2 Cross-validation"
   ]
  },
  {
   "cell_type": "code",
   "execution_count": 14,
   "id": "75db02fb",
   "metadata": {},
   "outputs": [],
   "source": [
    "def split_folds(data, labels, L):\n",
    "    assert len(data) == len(labels), \"lables and data must have same length\"\n",
    "    \n",
    "    shuffled_indicies = np.random.permutation(len(data))\n",
    "    \n",
    "    data = data[shuffled_indicies]\n",
    "    labels = data[shuffled_indicies]\n",
    "    \n",
    "    return np.array_split(data, L), np.array_split(labels, L)"
   ]
  },
  {
   "cell_type": "code",
   "execution_count": null,
   "id": "8f31490a",
   "metadata": {},
   "outputs": [],
   "source": [
    "def kth_fold(data, k):\n",
    "    return data[k], data[:k] + data[k+1:]\n",
    "\n",
    "\n",
    "def test_classifier(X, y, L):\n",
    "    X_folds, y_folds = split_folds(X, y)\n",
    "    \n",
    "    for i in range(len(X_folds)):\n",
    "        x_test, x_train = kth_test_data(X_folds, i)\n",
    "        y_test, y_train = kth_test_data(y_folds, i)\n",
    "        \n",
    "        "
   ]
  },
  {
   "cell_type": "code",
   "execution_count": null,
   "id": "c87f97d2",
   "metadata": {},
   "outputs": [],
   "source": [
    "classifier = KNeighborsClassifier()"
   ]
  },
  {
   "cell_type": "code",
   "execution_count": null,
   "id": "fc0870bf",
   "metadata": {},
   "outputs": [],
   "source": [
    "Ls = [2 ,5, 10]\n",
    "\n",
    "for L in Ls:"
   ]
  },
  {
   "cell_type": "code",
   "execution_count": null,
   "id": "7c88561f",
   "metadata": {},
   "outputs": [],
   "source": [
    "arr = [1, 2, 3, 4, 5, 6]\n",
    "arr[3], arr[:3] + arr[3 + 1:]"
   ]
  }
 ],
 "metadata": {
  "kernelspec": {
   "display_name": "Python 3 (ipykernel)",
   "language": "python",
   "name": "python3"
  },
  "language_info": {
   "codemirror_mode": {
    "name": "ipython",
    "version": 3
   },
   "file_extension": ".py",
   "mimetype": "text/x-python",
   "name": "python",
   "nbconvert_exporter": "python",
   "pygments_lexer": "ipython3",
   "version": "3.9.7"
  }
 },
 "nbformat": 4,
 "nbformat_minor": 5
}
