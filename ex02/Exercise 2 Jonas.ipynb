{
 "cells": [
  {
   "cell_type": "code",
   "execution_count": 485,
   "metadata": {},
   "outputs": [
    {
     "name": "stdout",
     "output_type": "stream",
     "text": [
      "dict_keys(['data', 'target', 'frame', 'feature_names', 'target_names', 'images', 'DESCR'])\n"
     ]
    }
   ],
   "source": [
    "from sklearn.datasets import load_digits\n",
    "digits = load_digits()\n",
    "print(digits.keys())\n",
    "data = digits[\"data\"]\n",
    "images = digits[\"images\"]\n",
    "target = digits[\"target\"]\n",
    "target_names = digits[\"target_names\"]"
   ]
  },
  {
   "cell_type": "code",
   "execution_count": 486,
   "metadata": {},
   "outputs": [],
   "source": [
    "import numpy as np\n",
    "import matplotlib.pyplot as plt"
   ]
  },
  {
   "cell_type": "code",
   "execution_count": 487,
   "metadata": {},
   "outputs": [
    {
     "data": {
      "image/png": "[encoded data removed]",
      "text/plain": [
       "<Figure size 432x288 with 1 Axes>"
      ]
     },
     "metadata": {
      "needs_background": "light"
     },
     "output_type": "display_data"
    },
    {
     "data": {
      "image/png": "[encoded data removed]",
      "text/plain": [
       "<Figure size 432x288 with 1 Axes>"
      ]
     },
     "metadata": {
      "needs_background": "light"
     },
     "output_type": "display_data"
    }
   ],
   "source": [
    "plt.figure()\n",
    "plt.gray()\n",
    "plt.imshow(images[1], interpolation=\"nearest\")\n",
    "plt.show()\n",
    "plt.imshow(images[7], interpolation=\"nearest\")\n",
    "plt.show()"
   ]
  },
  {
   "cell_type": "code",
   "execution_count": 488,
   "metadata": {},
   "outputs": [],
   "source": [
    "x = images[7]\n",
    "x[0][6] = 0"
   ]
  },
  {
   "cell_type": "code",
   "execution_count": 489,
   "metadata": {},
   "outputs": [
    {
     "data": {
      "image/png": "[encoded data removed]",
      "text/plain": [
       "<Figure size 432x288 with 1 Axes>"
      ]
     },
     "metadata": {
      "needs_background": "light"
     },
     "output_type": "display_data"
    }
   ],
   "source": [
    "plt.imshow(x, interpolation=\"nearest\")\n",
    "plt.show()"
   ]
  },
  {
   "cell_type": "code",
   "execution_count": 490,
   "metadata": {},
   "outputs": [],
   "source": [
    "def reduce_dim(x):\n",
    "    # limit to pixel [7][4] and [0][6]\n",
    "    # images is 7 if [7][4] is dark and [0][6] is white, otherwise image is 1\n",
    "    return np.array([[image[7*8+4], image[0*8+6]] for image in x])"
   ]
  },
  {
   "cell_type": "code",
   "execution_count": 491,
   "metadata": {},
   "outputs": [],
   "source": [
    "one_indices = np.where(target == 1)\n",
    "one_labels = target[one_indices]\n",
    "one_images = data[one_indices]\n",
    "\n",
    "seven_indices = np.where(target == 7)\n",
    "seven_labels = target[seven_indices]\n",
    "seven_images = data[seven_indices]\n",
    "\n",
    "one_images_reduced = reduce_dim(one_images)\n",
    "seven_images_reduced = reduce_dim(seven_images)\n"
   ]
  },
  {
   "cell_type": "code",
   "execution_count": 492,
   "metadata": {},
   "outputs": [
    {
     "data": {
      "text/plain": [
       "<matplotlib.collections.PathCollection at 0x7f0e94dcc5b0>"
      ]
     },
     "execution_count": 492,
     "metadata": {},
     "output_type": "execute_result"
    },
    {
     "data": {
      "image/png": "[encoded data removed]",
      "text/plain": [
       "<Figure size 432x288 with 1 Axes>"
      ]
     },
     "metadata": {
      "needs_background": "light"
     },
     "output_type": "display_data"
    }
   ],
   "source": [
    "x1 = [ image[0] for image in one_images_reduced]\n",
    "y1 = [ image[1] for image in one_images_reduced]\n",
    "plt.scatter(x=x1, y=y1, c=\"red\")\n",
    "x2 = [ image[0] for image in seven_images_reduced] \n",
    "y2 = [ image[1] for image in seven_images_reduced] \n",
    "plt.scatter(x=x2, y=y2, c=\"blue\")"
   ]
  },
  {
   "cell_type": "code",
   "execution_count": 493,
   "metadata": {},
   "outputs": [],
   "source": [
    "def nearest_mean(training_features, training_labels, test_features):\n",
    "    labels = np.unique(training_labels)\n",
    "    mean = np.zeros((labels.size,2))\n",
    "    for label in labels:\n",
    "        indices = np.where(training_labels == label)\n",
    "        features = training_features[indices]\n",
    "        features_sum = np.sum(features, axis=0)\n",
    "        features_mean = features_sum / features.size\n",
    "\n",
    "        label_index = np.where(labels == label)\n",
    "        mean[label_index] = features_mean\n",
    "\n",
    "    def dist_vec(a, b):\n",
    "        squared_diff = np.square(a[:,None] - b)\n",
    "        sum_diffs = np.sum(squared_diff, axis=2)\n",
    "        result = np.sqrt(sum_diffs)\n",
    "        return result\n",
    "    \n",
    "\n",
    "    distances = dist_vec(test_features, mean)\n",
    "\n",
    "    return np.array([labels[np.argmin(distance)] for distance in distances])"
   ]
  },
  {
   "cell_type": "code",
   "execution_count": 494,
   "metadata": {},
   "outputs": [],
   "source": [
    "from sklearn import model_selection\n",
    "\n",
    "X_all = data\n",
    "y_all = target\n",
    "X_train, X_test, y_train, y_test = model_selection.train_test_split(digits.data, digits.target, test_size = 0.4, random_state = 0)\n",
    "\n",
    "one_indices_train = np.where(y_train == 1)\n",
    "one_labels_train = y_train[one_indices_train]\n",
    "one_images_train = X_train[one_indices_train]\n",
    "\n",
    "seven_indices_train = np.where(y_train == 7)\n",
    "seven_labels_train = y_train[seven_indices_train]\n",
    "seven_images_train = X_train[seven_indices_train]\n",
    "\n",
    "one_images_reduced_train = reduce_dim(one_images_train)\n",
    "seven_images_reduced_train = reduce_dim(seven_images_train)\n",
    "\n",
    "one_indices_test = np.where(y_test == 1)\n",
    "one_labels_test = y_test[one_indices_test]\n",
    "one_images_test = X_test[one_indices_test]\n",
    "\n",
    "seven_indices_test = np.where(y_test == 7)\n",
    "seven_labels_test = y_test[seven_indices_test]\n",
    "seven_images_test = X_test[seven_indices_test]\n",
    "\n",
    "one_images_reduced_test = reduce_dim(one_images_test)\n",
    "seven_images_reduced_test = reduce_dim(seven_images_test)\n",
    "\n",
    "\n",
    "training_features = np.concatenate((one_images_reduced_train, seven_images_reduced_train))\n",
    "training_labels = np.concatenate((one_labels_train, seven_labels_train))\n",
    "\n",
    "test_features = np.concatenate((one_images_reduced_test, seven_images_reduced_test))\n",
    "test_labels = np.concatenate((one_labels_test, seven_labels_test))"
   ]
  },
  {
   "cell_type": "code",
   "execution_count": 495,
   "metadata": {},
   "outputs": [],
   "source": [
    "predicted_labels = nearest_mean(training_features, training_labels, test_features)"
   ]
  },
  {
   "cell_type": "code",
   "execution_count": 496,
   "metadata": {},
   "outputs": [
    {
     "data": {
      "text/plain": [
       "10.144927536231885"
      ]
     },
     "execution_count": 496,
     "metadata": {},
     "output_type": "execute_result"
    }
   ],
   "source": [
    "np.sum((predicted_labels != test_labels)) / test_labels.size * 100"
   ]
  },
  {
   "cell_type": "code",
   "execution_count": 497,
   "metadata": {},
   "outputs": [],
   "source": [
    "# find vectorized method\n",
    "decision_regions = []\n",
    "for i in range(200):\n",
    "    for j in range(200):\n",
    "        decision_regions.append([i,j])\n",
    "\n",
    "decision_regions = np.array(decision_regions)"
   ]
  },
  {
   "cell_type": "code",
   "execution_count": 498,
   "metadata": {},
   "outputs": [],
   "source": [
    "predicted_labels_decision_regions = nearest_mean(training_features, training_labels, decision_regions)"
   ]
  },
  {
   "cell_type": "code",
   "execution_count": 499,
   "metadata": {},
   "outputs": [],
   "source": [
    "\n",
    "one_indices_decision_regions = np.where(predicted_labels_decision_regions == 1)\n",
    "ones_decision_regions = decision_regions[one_indices_decision_regions]\n",
    "\n",
    "seven_indices_decision_regions = np.where(predicted_labels_decision_regions == 7)\n",
    "sevens_decision_regions = decision_regions[seven_indices_decision_regions]"
   ]
  },
  {
   "cell_type": "code",
   "execution_count": 500,
   "metadata": {},
   "outputs": [
    {
     "data": {
      "text/plain": [
       "<matplotlib.collections.PathCollection at 0x7f0e95317ee0>"
      ]
     },
     "execution_count": 500,
     "metadata": {},
     "output_type": "execute_result"
    },
    {
     "data": {
      "image/png": "[encoded data removed]",
      "text/plain": [
       "<Figure size 432x288 with 1 Axes>"
      ]
     },
     "metadata": {
      "needs_background": "light"
     },
     "output_type": "display_data"
    }
   ],
   "source": [
    "x1 = [ image[0] for image in ones_decision_regions]\n",
    "y1 = [ image[1] for image in ones_decision_regions]\n",
    "plt.scatter(x=x1, y=y1, c=\"red\")\n",
    "x2 = [ image[0] for image in sevens_decision_regions] \n",
    "y2 = [ image[1] for image in sevens_decision_regions] \n",
    "plt.scatter(x=x2, y=y2, c=\"blue\")"
   ]
  }
 ],
 "metadata": {
  "interpreter": {
   "hash": "916dbcbb3f70747c44a77c7bcd40155683ae19c65e1c03b4aa3499c5328201f1"
  },
  "kernelspec": {
   "display_name": "Python 3.8.10 64-bit",
   "language": "python",
   "name": "python3"
  },
  "language_info": {
   "codemirror_mode": {
    "name": "ipython",
    "version": 3
   },
   "file_extension": ".py",
   "mimetype": "text/x-python",
   "name": "python",
   "nbconvert_exporter": "python",
   "pygments_lexer": "ipython3",
   "version": "3.8.10"
  },
  "orig_nbformat": 4
 },
 "nbformat": 4,
 "nbformat_minor": 2
}
