{
 "cells": [
  {
   "cell_type": "code",
   "execution_count": 67,
   "metadata": {},
   "outputs": [
    {
     "name": "stdout",
     "output_type": "stream",
     "text": [
      "dict_keys(['data', 'target', 'frame', 'feature_names', 'target_names', 'images', 'DESCR'])\n"
     ]
    }
   ],
   "source": [
    "from sklearn.datasets import load_digits\n",
    "digits = load_digits()\n",
    "print(digits.keys())\n",
    "data = digits[\"data\"]\n",
    "images = digits[\"images\"]\n",
    "target = digits[\"target\"]\n",
    "target_names = digits[\"target_names\"]"
   ]
  },
  {
   "cell_type": "code",
   "execution_count": 68,
   "metadata": {},
   "outputs": [],
   "source": [
    "import numpy as np\n",
    "import matplotlib.pyplot as plt"
   ]
  },
  {
   "cell_type": "code",
   "execution_count": 69,
   "metadata": {},
   "outputs": [
    {
     "data": {
      "image/png": "[encoded data removed]",
      "text/plain": [
       "<Figure size 432x288 with 1 Axes>"
      ]
     },
     "metadata": {
      "needs_background": "light"
     },
     "output_type": "display_data"
    },
    {
     "data": {
      "image/png": "[encoded data removed]",
      "text/plain": [
       "<Figure size 432x288 with 1 Axes>"
      ]
     },
     "metadata": {
      "needs_background": "light"
     },
     "output_type": "display_data"
    }
   ],
   "source": [
    "plt.figure()\n",
    "plt.gray()\n",
    "plt.imshow(images[1], interpolation=\"nearest\")\n",
    "plt.show()\n",
    "plt.imshow(images[7], interpolation=\"nearest\")\n",
    "plt.show()"
   ]
  },
  {
   "cell_type": "code",
   "execution_count": 70,
   "metadata": {},
   "outputs": [],
   "source": [
    "x = images[7]\n",
    "x[0][6] = 0"
   ]
  },
  {
   "cell_type": "code",
   "execution_count": 71,
   "metadata": {},
   "outputs": [
    {
     "data": {
      "image/png": "[encoded data removed]",
      "text/plain": [
       "<Figure size 432x288 with 1 Axes>"
      ]
     },
     "metadata": {
      "needs_background": "light"
     },
     "output_type": "display_data"
    }
   ],
   "source": [
    "plt.imshow(x, interpolation=\"nearest\")\n",
    "plt.show()"
   ]
  },
  {
   "cell_type": "code",
   "execution_count": 72,
   "metadata": {},
   "outputs": [],
   "source": [
    "def reduce_dim(x):\n",
    "    # limit to pixel [7][4] and [0][6]\n",
    "    # images is 7 if [7][4] is dark and [0][6] is white, otherwise image is 1\n",
    "    return np.array([[image[7*8+4], image[0*8+6]] for image in x])"
   ]
  },
  {
   "cell_type": "code",
   "execution_count": 73,
   "metadata": {},
   "outputs": [],
   "source": [
    "one_indices = np.where(target == 1)\n",
    "one_labels = target[one_indices]\n",
    "one_images = data[one_indices]\n",
    "\n",
    "seven_indices = np.where(target == 7)\n",
    "seven_labels = target[seven_indices]\n",
    "seven_images = data[seven_indices]\n",
    "\n",
    "one_images_reduced = reduce_dim(one_images)\n",
    "seven_images_reduced = reduce_dim(seven_images)\n"
   ]
  },
  {
   "cell_type": "code",
   "execution_count": 74,
   "metadata": {},
   "outputs": [
    {
     "data": {
      "text/plain": [
       "<matplotlib.collections.PathCollection at 0x7f263b0e2ee0>"
      ]
     },
     "execution_count": 74,
     "metadata": {},
     "output_type": "execute_result"
    },
    {
     "data": {
      "image/png": "[encoded data removed]",
      "text/plain": [
       "<Figure size 432x288 with 1 Axes>"
      ]
     },
     "metadata": {
      "needs_background": "light"
     },
     "output_type": "display_data"
    }
   ],
   "source": [
    "x1 = [ image[0] for image in one_images_reduced]\n",
    "y1 = [ image[1] for image in one_images_reduced]\n",
    "plt.scatter(x=x1, y=y1, c=\"red\")\n",
    "x2 = [ image[0] for image in seven_images_reduced] \n",
    "y2 = [ image[1] for image in seven_images_reduced] \n",
    "plt.scatter(x=x2, y=y2, c=\"blue\")"
   ]
  },
  {
   "cell_type": "code",
   "execution_count": 75,
   "metadata": {},
   "outputs": [],
   "source": [
    "def nearest_mean(training_features, training_labels, test_features):\n",
    "    labels = np.unique(training_labels)\n",
    "    mean = np.zeros((labels.size,2))\n",
    "    for label in labels:\n",
    "        indices = np.where(training_labels == label)\n",
    "        features = training_features[indices]\n",
    "        features_sum = np.sum(features, axis=0)\n",
    "        features_mean = features_sum / features.size\n",
    "\n",
    "        label_index = np.where(labels == label)\n",
    "        mean[label_index] = features_mean\n",
    "\n",
    "    def dist_vec(a, b):\n",
    "        squared_diff = np.square(a[:,None] - b)\n",
    "        sum_diffs = np.sum(squared_diff, axis=2)\n",
    "        result = np.sqrt(sum_diffs)\n",
    "        return result\n",
    "    \n",
    "\n",
    "    distances = dist_vec(test_features, mean)\n",
    "\n",
    "    return np.array([labels[np.argmin(distance)] for distance in distances])"
   ]
  },
  {
   "cell_type": "code",
   "execution_count": 76,
   "metadata": {},
   "outputs": [],
   "source": [
    "from sklearn import model_selection\n",
    "\n",
    "X_all = data\n",
    "y_all = target\n",
    "X_train, X_test, y_train, y_test = model_selection.train_test_split(digits.data, digits.target, test_size = 0.4, random_state = 0)\n",
    "\n",
    "one_indices_train = np.where(y_train == 1)\n",
    "one_labels_train = y_train[one_indices_train]\n",
    "one_images_train = X_train[one_indices_train]\n",
    "\n",
    "seven_indices_train = np.where(y_train == 7)\n",
    "seven_labels_train = y_train[seven_indices_train]\n",
    "seven_images_train = X_train[seven_indices_train]\n",
    "\n",
    "one_images_reduced_train = reduce_dim(one_images_train)\n",
    "seven_images_reduced_train = reduce_dim(seven_images_train)\n",
    "\n",
    "one_indices_test = np.where(y_test == 1)\n",
    "one_labels_test = y_test[one_indices_test]\n",
    "one_images_test = X_test[one_indices_test]\n",
    "\n",
    "seven_indices_test = np.where(y_test == 7)\n",
    "seven_labels_test = y_test[seven_indices_test]\n",
    "seven_images_test = X_test[seven_indices_test]\n",
    "\n",
    "one_images_reduced_test = reduce_dim(one_images_test)\n",
    "seven_images_reduced_test = reduce_dim(seven_images_test)\n",
    "\n",
    "\n",
    "training_features = np.concatenate((one_images_reduced_train, seven_images_reduced_train))\n",
    "training_labels = np.concatenate((one_labels_train, seven_labels_train))\n",
    "\n",
    "test_features = np.concatenate((one_images_reduced_test, seven_images_reduced_test))\n",
    "test_labels = np.concatenate((one_labels_test, seven_labels_test))"
   ]
  },
  {
   "cell_type": "code",
   "execution_count": 77,
   "metadata": {},
   "outputs": [],
   "source": [
    "predicted_labels = nearest_mean(training_features, training_labels, test_features)"
   ]
  },
  {
   "cell_type": "code",
   "execution_count": 78,
   "metadata": {},
   "outputs": [
    {
     "data": {
      "text/plain": [
       "10.144927536231885"
      ]
     },
     "execution_count": 78,
     "metadata": {},
     "output_type": "execute_result"
    }
   ],
   "source": [
    "np.sum((predicted_labels != test_labels)) / test_labels.size * 100"
   ]
  },
  {
   "cell_type": "code",
   "execution_count": 79,
   "metadata": {},
   "outputs": [],
   "source": [
    "# find vectorized method\n",
    "decision_regions = []\n",
    "for i in range(200):\n",
    "    for j in range(200):\n",
    "        decision_regions.append([i,j])\n",
    "\n",
    "decision_regions = np.array(decision_regions)"
   ]
  },
  {
   "cell_type": "code",
   "execution_count": 80,
   "metadata": {},
   "outputs": [],
   "source": [
    "predicted_labels_decision_regions = nearest_mean(training_features, training_labels, decision_regions)"
   ]
  },
  {
   "cell_type": "code",
   "execution_count": 81,
   "metadata": {},
   "outputs": [],
   "source": [
    "\n",
    "one_indices_decision_regions = np.where(predicted_labels_decision_regions == 1)\n",
    "ones_decision_regions = decision_regions[one_indices_decision_regions]\n",
    "\n",
    "seven_indices_decision_regions = np.where(predicted_labels_decision_regions == 7)\n",
    "sevens_decision_regions = decision_regions[seven_indices_decision_regions]"
   ]
  },
  {
   "cell_type": "code",
   "execution_count": 82,
   "metadata": {},
   "outputs": [
    {
     "data": {
      "text/plain": [
       "<matplotlib.collections.PathCollection at 0x7f263b145580>"
      ]
     },
     "execution_count": 82,
     "metadata": {},
     "output_type": "execute_result"
    },
    {
     "data": {
      "image/png": "[encoded data removed]",
      "text/plain": [
       "<Figure size 432x288 with 1 Axes>"
      ]
     },
     "metadata": {
      "needs_background": "light"
     },
     "output_type": "display_data"
    }
   ],
   "source": [
    "x1 = [ image[1] for image in ones_decision_regions]\n",
    "y1 = [ image[0] for image in ones_decision_regions]\n",
    "plt.scatter(x=x1, y=y1, c=\"red\")\n",
    "x2 = [ image[1] for image in sevens_decision_regions] \n",
    "y2 = [ image[0] for image in sevens_decision_regions] \n",
    "plt.scatter(x=x2, y=y2, c=\"blue\")"
   ]
  },
  {
   "cell_type": "markdown",
   "metadata": {},
   "source": [
    "1. Create classwise subsets of trainingset\n",
    "\n",
    "For each class:\n",
    "\n",
    "2. Learn the prior: $p(y=k) = \\frac{\\#TS_k }{N}$\n",
    "\n",
    "3. $\\mu_k = \\frac{1}{N_k} \\sum_{i \\in TS_k} x_i$ and $\\Sigma_k = \\frac{1}{N_k} \\sum_{i \\in TS_k} (x_i - \\mu_k)^T (x_i - \\mu_k)$"
   ]
  },
  {
   "cell_type": "code",
   "execution_count": 83,
   "metadata": {},
   "outputs": [],
   "source": [
    "def fit_qda(training_features, training_labels):\n",
    "    # 1)\n",
    "    one_indices = np.where(training_labels == 1)\n",
    "    one_labels = training_labels[one_indices]\n",
    "    one_features = training_features[one_indices]\n",
    "\n",
    "    seven_indices = np.where(training_labels == 7)\n",
    "    seven_labels = training_labels[seven_indices]\n",
    "    seven_features = training_features[seven_indices]\n",
    "\n",
    "    # 2)\n",
    "\n",
    "    prior_one = one_labels.size / training_labels.size\n",
    "    prior_seven = seven_labels.size / training_labels.size\n",
    "\n",
    "    # 3)\n",
    "\n",
    "    mu_one = np.sum(one_features, axis=0) / one_features.size\n",
    "    mu_seven = np.sum(seven_features, axis=0) / seven_features.size\n",
    "\n",
    "    sigma_one = np.dot(np.transpose((one_features - mu_one)), (one_features - mu_one)) / one_features.size\n",
    "    sigma_seven = np.dot(np.transpose((seven_features - mu_seven)), (seven_features - mu_seven)) / seven_features.size\n",
    "\n",
    "    return np.array([mu_one, mu_seven]), np.array([sigma_one, sigma_seven]), np.array([prior_one, prior_seven])\n"
   ]
  },
  {
   "cell_type": "code",
   "execution_count": 84,
   "metadata": {},
   "outputs": [],
   "source": [
    "mu, covmat, p = fit_qda(training_features, training_labels)"
   ]
  },
  {
   "cell_type": "code",
   "execution_count": 85,
   "metadata": {},
   "outputs": [
    {
     "data": {
      "text/plain": [
       "(2, 2)"
      ]
     },
     "execution_count": 85,
     "metadata": {},
     "output_type": "execute_result"
    }
   ],
   "source": [
    "mu.shape"
   ]
  },
  {
   "cell_type": "code",
   "execution_count": 86,
   "metadata": {},
   "outputs": [
    {
     "data": {
      "text/plain": [
       "(2, 2, 2)"
      ]
     },
     "execution_count": 86,
     "metadata": {},
     "output_type": "execute_result"
    }
   ],
   "source": [
    "covmat.shape"
   ]
  },
  {
   "cell_type": "code",
   "execution_count": 87,
   "metadata": {},
   "outputs": [
    {
     "data": {
      "text/plain": [
       "(2,)"
      ]
     },
     "execution_count": 87,
     "metadata": {},
     "output_type": "execute_result"
    }
   ],
   "source": [
    "p.shape"
   ]
  },
  {
   "cell_type": "markdown",
   "metadata": {},
   "source": [
    "1. Learn liklihood: $p(x|y=k) = \\mathcal{N}(\\mu_k, \\Sigma_k)$\n",
    "2. Calculate evidence: $p(x) =\\sum_{k=1}^{c}p(y=k) * p(x|y=k)$\n",
    "3. Calculate posterior: $(Y=k|x_{test}) = \\frac{p(x_{test}|y=k) p(y=k)}{p(x_{test})}$"
   ]
  },
  {
   "cell_type": "code",
   "execution_count": 88,
   "metadata": {},
   "outputs": [],
   "source": [
    "def b_k(cov, p):\n",
    "    return np.log(np.sqrt(np.linalg.det(2 * np.pi * covmat))) - np.log(p)"
   ]
  },
  {
   "cell_type": "code",
   "execution_count": 89,
   "metadata": {},
   "outputs": [],
   "source": [
    "def predict_qda(mu, covmat, p, test_features):\n",
    "    return np.array([np.argmin([0.5 * (x_i - mu[k]).dot(np.linalg.inv(covmat[k])).dot((x_i - mu[k])) + b_k(covmat, p)[k] for k in [0, 1]])\n",
    "               for x_i in test_features])"
   ]
  },
  {
   "cell_type": "code",
   "execution_count": 96,
   "metadata": {},
   "outputs": [
    {
     "data": {
      "text/plain": [
       "array([0, 0, 1, 0, 1, 0, 0, 0, 0, 0, 0, 0, 0, 0, 0, 0, 0, 1, 0, 0, 0, 0,\n",
       "       0, 0, 0, 0, 0, 0, 0, 0, 0, 0, 0, 0, 0, 0, 0, 0, 0, 1, 0, 0, 0, 0,\n",
       "       0, 0, 0, 1, 0, 1, 0, 0, 0, 0, 0, 0, 0, 0, 0, 1, 0, 0, 0, 1, 0, 0,\n",
       "       0, 0, 0, 0, 0, 0, 0, 1, 1, 1, 1, 1, 1, 0, 1, 1, 1, 1, 1, 1, 1, 1,\n",
       "       0, 1, 1, 1, 1, 1, 1, 1, 1, 1, 1, 1, 1, 1, 1, 0, 1, 1, 1, 1, 1, 1,\n",
       "       1, 1, 1, 1, 1, 1, 1, 0, 1, 0, 1, 1, 0, 1, 1, 1, 1, 1, 1, 1, 1, 1,\n",
       "       1, 1, 1, 1, 1, 1])"
      ]
     },
     "execution_count": 96,
     "metadata": {},
     "output_type": "execute_result"
    }
   ],
   "source": [
    "predict_qda(mu, covmat, p, test_features)"
   ]
  },
  {
   "cell_type": "code",
   "execution_count": null,
   "metadata": {},
   "outputs": [],
   "source": []
  }
 ],
 "metadata": {
  "interpreter": {
   "hash": "916dbcbb3f70747c44a77c7bcd40155683ae19c65e1c03b4aa3499c5328201f1"
  },
  "kernelspec": {
   "display_name": "Python 3.8.10 64-bit",
   "language": "python",
   "name": "python3"
  },
  "language_info": {
   "codemirror_mode": {
    "name": "ipython",
    "version": 3
   },
   "file_extension": ".py",
   "mimetype": "text/x-python",
   "name": "python",
   "nbconvert_exporter": "python",
   "pygments_lexer": "ipython3",
   "version": "3.8.10"
  },
  "orig_nbformat": 4
 },
 "nbformat": 4,
 "nbformat_minor": 2
}
