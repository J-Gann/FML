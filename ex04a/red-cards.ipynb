{
 "cells": [
  {
   "cell_type": "code",
   "execution_count": 62,
   "metadata": {},
   "outputs": [],
   "source": [
    "import numpy as np\n",
    "import pandas as pd\n",
    "import os"
   ]
  },
  {
   "cell_type": "code",
   "execution_count": 63,
   "metadata": {},
   "outputs": [],
   "source": [
    "filename=os.path.join('crowdstorm_disaggregated.csv') \n",
    "df = pd.read_csv(filename)"
   ]
  },
  {
   "cell_type": "code",
   "execution_count": 64,
   "metadata": {},
   "outputs": [
    {
     "data": {
      "text/plain": [
       "Index(['playerShort', 'player', 'club', 'leagueCountry', 'birthday', 'height',\n",
       "       'weight', 'position', 'games', 'victories', 'ties', 'defeats', 'goals',\n",
       "       'yellowCards', 'yellowReds', 'redCards', 'photoID', 'rater1', 'rater2',\n",
       "       'refNum', 'refCountry', 'Alpha_3', 'meanIAT', 'nIAT', 'seIAT',\n",
       "       'meanExp', 'nExp', 'seExp', 'skintone', 'allreds', 'allredsStrict',\n",
       "       'refCount'],\n",
       "      dtype='object')"
      ]
     },
     "execution_count": 64,
     "metadata": {},
     "output_type": "execute_result"
    }
   ],
   "source": [
    "df.columns"
   ]
  },
  {
   "cell_type": "code",
   "execution_count": 65,
   "metadata": {},
   "outputs": [],
   "source": [
    "# TODO: Improve data preparation!\n",
    "# take average of the two raters\n",
    "df[\"rating\"] = (df[\"rater1\"] + df[\"rater2\"]) / 2\n",
    "# preliminary selection of features\n",
    "df = df[[\"rating\", \"height\", \"weight\", \"games\", \"victories\", \"ties\", \"defeats\", \"goals\", \"yellowCards\", \"yellowReds\", \"redCards\"]]\n",
    "# drop instances with undefined values => check if there aer better options: https://en.wikipedia.org/wiki/Missing_data\n",
    "df = df.dropna()"
   ]
  },
  {
   "cell_type": "code",
   "execution_count": 66,
   "metadata": {},
   "outputs": [],
   "source": [
    "x = np.array(df[[\"rating\", \"height\", \"weight\", \"games\", \"victories\", \"ties\", \"defeats\", \"goals\", \"yellowCards\", \"yellowReds\", \"redCards\"]])\n",
    "y = np.array(df[\"redCards\"] / df[\"games\"]) # target should be the fraction of games with red cards"
   ]
  },
  {
   "cell_type": "code",
   "execution_count": 67,
   "metadata": {},
   "outputs": [],
   "source": [
    "from sklearn import linear_model\n",
    "from sklearn.ensemble import RandomForestRegressor\n",
    "from sklearn.model_selection import train_test_split\n",
    "from sklearn.metrics import mean_squared_error"
   ]
  },
  {
   "cell_type": "code",
   "execution_count": 68,
   "metadata": {},
   "outputs": [],
   "source": [
    "X_train, X_test, y_train, y_test = train_test_split(x, y, test_size=0.4, random_state=0)"
   ]
  },
  {
   "cell_type": "code",
   "execution_count": 69,
   "metadata": {},
   "outputs": [
    {
     "data": {
      "text/plain": [
       "0.0007450238012380009"
      ]
     },
     "execution_count": 69,
     "metadata": {},
     "output_type": "execute_result"
    }
   ],
   "source": [
    "reg = linear_model.LinearRegression()\n",
    "reg.fit(X_train, y_train)\n",
    "prediction = reg.predict(X_test)\n",
    "mean_squared_error(y_test, prediction)"
   ]
  },
  {
   "cell_type": "code",
   "execution_count": 70,
   "metadata": {},
   "outputs": [
    {
     "data": {
      "text/plain": [
       "4.890885096727856e-07"
      ]
     },
     "execution_count": 70,
     "metadata": {},
     "output_type": "execute_result"
    }
   ],
   "source": [
    "regr = RandomForestRegressor()\n",
    "regr = regr.fit(X_train, y_train)\n",
    "prediction = regr.predict(X_test)\n",
    "mean_squared_error(y_test, prediction)"
   ]
  },
  {
   "cell_type": "code",
   "execution_count": 71,
   "metadata": {},
   "outputs": [
    {
     "name": "stdout",
     "output_type": "stream",
     "text": [
      "0.0007450214748805821\n",
      "0.0007450214748805821\n"
     ]
    }
   ],
   "source": [
    "errors1 = []\n",
    "errors2 = []\n",
    "rating = x[:,0]\n",
    "for it in range(19):\n",
    "    randomRating = np.random.permutation(rating)\n",
    "    data = x.copy()\n",
    "    data[:,0] = randomRating\n",
    "\n",
    "    X_train, X_test, y_train, y_test = train_test_split(data, y, test_size=0.4, random_state=0)\n",
    "\n",
    "    reg = linear_model.LinearRegression()\n",
    "    reg.fit(X_train, y_train)\n",
    "    prediction = reg.predict(X_test)\n",
    "\n",
    "    error = mean_squared_error(y_test, prediction)\n",
    "    errors1.append(error)\n",
    "\n",
    "    # Takes very long (ca. 5min)\n",
    "    #regr = RandomForestRegressor()\n",
    "    #regr = regr.fit(X_train, y_train)\n",
    "    #prediction = regr.predict(X_test)\n",
    "\n",
    "    error = mean_squared_error(y_test, prediction)\n",
    "    errors2.append(error)\n",
    "\n",
    "print(np.average(errors1))\n",
    "print(np.average(errors2))"
   ]
  }
 ],
 "metadata": {
  "interpreter": {
   "hash": "916dbcbb3f70747c44a77c7bcd40155683ae19c65e1c03b4aa3499c5328201f1"
  },
  "kernelspec": {
   "display_name": "Python 3.8.10 64-bit",
   "language": "python",
   "name": "python3"
  },
  "language_info": {
   "codemirror_mode": {
    "name": "ipython",
    "version": 3
   },
   "file_extension": ".py",
   "mimetype": "text/x-python",
   "name": "python",
   "nbconvert_exporter": "python",
   "pygments_lexer": "ipython3",
   "version": "3.8.10"
  },
  "orig_nbformat": 4
 },
 "nbformat": 4,
 "nbformat_minor": 2
}
