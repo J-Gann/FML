{
 "cells": [
  {
   "cell_type": "code",
   "execution_count": 1,
   "metadata": {},
   "outputs": [],
   "source": [
    "import numpy as np\n",
    "import matplotlib.pyplot as plt"
   ]
  },
  {
   "cell_type": "markdown",
   "metadata": {},
   "source": [
    "## 1 Monte-Carlo Simulation"
   ]
  },
  {
   "cell_type": "markdown",
   "metadata": {},
   "source": [
    "Let $Y=1 \\newline\n",
    "\\Rightarrow p(X|Y=1) = 2X \\newline\n",
    "\\Rightarrow F(X)=X^2=u, \\; u \\in [0,1] \\newline\n",
    "\\Rightarrow F^{-1}(u)=X = \\sqrt{u}$\n",
    "Let $Y=0 \\newline\n",
    "\\Rightarrow p(X|Y=0) = 2 - 2X \\newline\n",
    "\\Rightarrow F(X)=2X-X^2=u, \\; u \\in [0,1] \\newline\n",
    "\\Rightarrow F^{-1}(u)=X = 1 - \\sqrt{1 - u}$"
   ]
  },
  {
   "cell_type": "markdown",
   "metadata": {},
   "source": []
  },
  {
   "cell_type": "markdown",
   "metadata": {},
   "source": [
    "<span style=\"color:green;font-weight:bold\">\n",
    "Instead of returning a one dimensionally array like this [X ... Y], you can create a 2d array [[X...], [Y...]] which makes the usage a bit easier. This can be done using np.hstack. \n",
    "</span>"
   ]
  },
  {
   "cell_type": "code",
   "execution_count": 12,
   "metadata": {},
   "outputs": [
    {
     "data": {
      "text/plain": [
       "Text(0.5, 1.0, 'Shape of Distributions')"
      ]
     },
     "execution_count": 12,
     "metadata": {},
     "output_type": "execute_result"
    },
    {
     "data": {
      "image/png": "[encoded data removed]",
      "text/plain": [
       "<Figure size 432x288 with 1 Axes>"
      ]
     },
     "metadata": {
      "needs_background": "light"
     },
     "output_type": "display_data"
    }
   ],
   "source": [
    "def create_data(N):\n",
    "    y = np.array(np.random.choice([0, 1], size=N))\n",
    "    x = np.array(np.random.random(N))\n",
    "    for i in range(0,N):\n",
    "        if y[i] == 1:\n",
    "            x[i] = np.sqrt(x[i])\n",
    "        else:\n",
    "             x[i] = 1 - np.sqrt(1 - x[i])\n",
    "    result = np.concatenate((x, y), axis=0)\n",
    "    return(result)\n",
    "\n",
    "a_y0=[]\n",
    "a_y1=[]\n",
    "a = create_data(1000000)\n",
    "\n",
    "for i in range(0,1000000):\n",
    "        if a[i+1000000] == 1:\n",
    "            a_y1.append(a[i])\n",
    "        else: \n",
    "            a_y0.append(a[i])\n",
    "\n",
    "\n",
    "plt.hist(a_y0, label=\"X|Y = 0\", bins=50)\n",
    "plt.hist(a_y1, label=\"X|Y = 1\", bins=50)\n",
    "plt.legend(loc=\"upper right\")\n",
    "plt.title(\"Shape of Distributions\")"
   ]
  },
  {
   "cell_type": "markdown",
   "metadata": {},
   "source": [
    "## 1.2 Classification by Thresholding"
   ]
  },
  {
   "cell_type": "markdown",
   "metadata": {},
   "source": [
    "<span style=\"color:green;font-weight:bold\">\n",
    "I think you are making the right computations but the plots look a bit off.\n",
    "\n",
    "1. Error bars are supposed to be vertical not horizontal\n",
    "2. A logarithmic scale for x would improve the plot a lot (since N is exponential)\n",
    "    \n",
    "The code looks a bit \"data science-y\" (not very easy to read). Moving inner loops into functions and magic numbers into variables plus some list comprehensions would help a lot.\n",
    "</span>"
   ]
  },
  {
   "cell_type": "code",
   "execution_count": 11,
   "metadata": {},
   "outputs": [
    {
     "data": {
      "text/plain": [
       "<matplotlib.legend.Legend at 0x7f45b00b1220>"
      ]
     },
     "execution_count": 11,
     "metadata": {},
     "output_type": "execute_result"
    },
    {
     "data": {
      "image/png": "[encoded data removed]",
      "text/plain": [
       "<Figure size 432x288 with 1 Axes>"
      ]
     },
     "metadata": {
      "needs_background": "light"
     },
     "output_type": "display_data"
    }
   ],
   "source": [
    "sum_error = []\n",
    "mean_error = []\n",
    "std_error = []\n",
    "count = 0\n",
    "std = []\n",
    "\n",
    "for i in [0, 0.2, 0.5, 0.6]:\n",
    "    for N in [10,100,1000,10000]:\n",
    "        while(count < 10):\n",
    "            count+=1\n",
    "            data = create_data(N)\n",
    "            X = data[0:N]\n",
    "            Y = data[N:]\n",
    "            pred = np.array(X >= i, dtype=int)\n",
    "            error = np.array(pred != Y, dtype=int)\n",
    "            sum_error.append(sum(error)/N)\n",
    "            std.append(np.std(error))\n",
    "        mean_error.append(sum(sum_error)/10)\n",
    "        sum_error = []\n",
    "        count = 0\n",
    "        std_error.append(sum(std)/10)\n",
    "    plt.plot([10,100,1000,10000], mean_error, label = f\"Threshold = {i}\")\n",
    "    mean_error = []\n",
    "    \n",
    "plt.plot([-100, 10100], [0.5, 0.5], \"r--\", label = \"0.5\")\n",
    "plt.plot([-100, 10100], [0.25, 0.25],  \"r--\", label = \"0.25\")\n",
    "plt.legend(loc=\"upper right\")"
   ]
  },
  {
   "cell_type": "markdown",
   "metadata": {},
   "source": [
    "### Standard Deviation: Error"
   ]
  },
  {
   "cell_type": "markdown",
   "metadata": {},
   "source": [
    "<span style=\"color:green;font-weight:bold\">\n",
    "Keeping all errors in the same error makes it really complicated. Also it seems like the deviation gets worse with more samples, which seems odd.\n",
    "</span>"
   ]
  },
  {
   "cell_type": "code",
   "execution_count": 17,
   "metadata": {},
   "outputs": [
    {
     "data": {
      "image/png": "[encoded data removed]",
      "text/plain": [
       "<Figure size 432x144 with 1 Axes>"
      ]
     },
     "metadata": {
      "needs_background": "light"
     },
     "output_type": "display_data"
    },
    {
     "data": {
      "image/png": "[encoded data removed]",
      "text/plain": [
       "<Figure size 432x144 with 1 Axes>"
      ]
     },
     "metadata": {
      "needs_background": "light"
     },
     "output_type": "display_data"
    },
    {
     "data": {
      "image/png": "[encoded data removed]",
      "text/plain": [
       "<Figure size 432x144 with 1 Axes>"
      ]
     },
     "metadata": {
      "needs_background": "light"
     },
     "output_type": "display_data"
    },
    {
     "data": {
      "image/png": "[encoded data removed]",
      "text/plain": [
       "<Figure size 432x144 with 1 Axes>"
      ]
     },
     "metadata": {
      "needs_background": "light"
     },
     "output_type": "display_data"
    }
   ],
   "source": [
    "j=1\n",
    "for i in [0, 0.2, 0.5, 0.6]:\n",
    "    b=4*j\n",
    "    plt.figure(figsize=(6, 2))\n",
    "    plt.bar([\"10\", \"100\", \"1000\", \"10000\"], std_error[b-4:b])\n",
    "    plt.title(f\"Threshold={i}\")\n",
    "    j=j+1\n",
    "std_error\n",
    "plt.show()"
   ]
  },
  {
   "cell_type": "markdown",
   "metadata": {},
   "source": [
    "## 1.3 Baseline Classifiers"
   ]
  },
  {
   "cell_type": "markdown",
   "metadata": {},
   "source": [
    "### Rule C"
   ]
  },
  {
   "cell_type": "code",
   "execution_count": 5,
   "metadata": {},
   "outputs": [
    {
     "data": {
      "image/png": "[encoded data removed]",
      "text/plain": [
       "<Figure size 432x288 with 1 Axes>"
      ]
     },
     "metadata": {
      "needs_background": "light"
     },
     "output_type": "display_data"
    }
   ],
   "source": [
    "sum_error = []\n",
    "mean_error = []\n",
    "count = 0\n",
    "for N in [10,100,1000,10000]:\n",
    "    while(count < 10):\n",
    "        count+=1\n",
    "        data = create_data(N)\n",
    "        X = data[0:N]\n",
    "        Y = data[N:]\n",
    "        C = np.array(np.random.choice([0, 1], size=N))\n",
    "        error = np.array(np.not_equal(C, Y), dtype=int)\n",
    "        sum_error.append(sum(error)/N)\n",
    "    mean_error.append(sum(sum_error)/10)\n",
    "    sum_error = []\n",
    "    count = 0\n",
    "plt.bar([\"10\", \"100\", \"1000\", \"10000\"], mean_error)\n",
    "mean_error=[]"
   ]
  },
  {
   "cell_type": "markdown",
   "metadata": {},
   "source": [
    "### Rule D"
   ]
  },
  {
   "cell_type": "code",
   "execution_count": 6,
   "metadata": {
    "scrolled": true
   },
   "outputs": [
    {
     "data": {
      "image/png": "[encoded data removed]",
      "text/plain": [
       "<Figure size 432x288 with 1 Axes>"
      ]
     },
     "metadata": {
      "needs_background": "light"
     },
     "output_type": "display_data"
    }
   ],
   "source": [
    "# Rule D\n",
    "sum_error = []\n",
    "mean_error = []\n",
    "count = 0\n",
    "for N in [10,100,1000,10000]:\n",
    "    while(count < 10):\n",
    "        count+=1\n",
    "        data = create_data(N)\n",
    "        X = data[0:N]\n",
    "        Y = data[N:]\n",
    "        D = np.ones(N)\n",
    "        error = np.array(np.not_equal(D, Y), dtype=int)\n",
    "        sum_error.append(sum(error)/N)\n",
    "    mean_error.append(sum(sum_error)/10)\n",
    "    sum_error = []\n",
    "    count = 0\n",
    "plt.bar([\"10\", \"100\", \"1000\", \"10000\"], mean_error)\n",
    "mean_error=[]"
   ]
  },
  {
   "cell_type": "markdown",
   "metadata": {},
   "source": [
    "## 1.4 Nearest Neighbor Classification"
   ]
  },
  {
   "cell_type": "markdown",
   "metadata": {},
   "source": [
    "<span style=\"color:green;font-weight:bold\">\n",
    "The results are correct and the solutions \n",
    "</span>"
   ]
  },
  {
   "cell_type": "code",
   "execution_count": 7,
   "metadata": {},
   "outputs": [
    {
     "name": "stdout",
     "output_type": "stream",
     "text": [
      "Label-Summen: Alte Funktion - [1.0, 0.0, 1.0, 1.0, 1.0, 0.0, 0.0, 2.0, 0.0, 2.0] \n",
      "Label-Summen: Neue Funktion - [1.0, 1.0, 1.0, 1.0, 1.0, 1.0, 1.0, 1.0, 1.0, 1.0]\n"
     ]
    }
   ],
   "source": [
    "def toy_nearest_neighbor(Xtest, Xtrain, Ytrain):\n",
    "    classifications = []\n",
    "    for X in Xtest:\n",
    "        dist = np.abs(Xtrain - X)\n",
    "        ind = np.where(dist == np.amin(dist))\n",
    "        Y = Ytrain[ind].tolist()[0]\n",
    "        classifications.append(Y)\n",
    "    return classifications\n",
    "\n",
    "def create_data_2(N):\n",
    "    if N < 2:\n",
    "        return \"Not usefull\"\n",
    "    result = create_data(N)\n",
    "    if np.amax(result[N:]) != 1:\n",
    "        result[N-1]= np.sqrt(np.random.random(1))\n",
    "        result[-1] = 1\n",
    "    if np.amin(result[N:]) == 1:\n",
    "        result[N-1]= 1 - np.sqrt(1 - np.random.random(1))\n",
    "        result[-1] = 0\n",
    "    return result\n",
    "\n",
    "#Testrun:\n",
    "label_1=[]\n",
    "label_2=[]\n",
    "for i in range(10):\n",
    "    label_2.append(sum(create_data_2(2)[2:]))\n",
    "for i in range(10):\n",
    "    label_1.append(sum(create_data(2)[2:]))\n",
    "print(f\"Label-Summen: Alte Funktion - {label_1} \\nLabel-Summen: Neue Funktion - {label_2}\")"
   ]
  },
  {
   "cell_type": "markdown",
   "metadata": {},
   "source": [
    "### Small Training Set, one try only."
   ]
  },
  {
   "cell_type": "code",
   "execution_count": 8,
   "metadata": {},
   "outputs": [
    {
     "name": "stdout",
     "output_type": "stream",
     "text": [
      "0.7432\n"
     ]
    }
   ],
   "source": [
    "n=2\n",
    "ntest = 5000\n",
    "Traindata = create_data_2(n)\n",
    "Xtest = create_data_2(ntest)\n",
    "classification = toy_nearest_neighbor(Xtest[:ntest], Traindata[:n], Traindata[n:])\n",
    "error = sum(np.array(np.not_equal(classification, Xtest[ntest:]), dtype=int))/ntest\n",
    "\n",
    "print(error)"
   ]
  },
  {
   "cell_type": "markdown",
   "metadata": {},
   "source": [
    "### Small Training Set, 100 tries."
   ]
  },
  {
   "cell_type": "code",
   "execution_count": 9,
   "metadata": {},
   "outputs": [
    {
     "name": "stdout",
     "output_type": "stream",
     "text": [
      "0.3632000000000002\n"
     ]
    }
   ],
   "source": [
    "sum_error =[]\n",
    "for i in range(100):\n",
    "    n=2\n",
    "    ntest = 500\n",
    "    Traindata = create_data_2(n)\n",
    "    Xtest = create_data_2(ntest)\n",
    "    classification = toy_nearest_neighbor(Xtest[:ntest], Traindata[:n], Traindata[n:])\n",
    "    error = sum(np.array(np.not_equal(classification, Xtest[ntest:]), dtype=int))/ntest\n",
    "    sum_error.append(error)\n",
    "print(sum(sum_error)/100)"
   ]
  },
  {
   "cell_type": "markdown",
   "metadata": {},
   "source": [
    "### Large Training Set, 100 tries."
   ]
  },
  {
   "cell_type": "code",
   "execution_count": 10,
   "metadata": {},
   "outputs": [
    {
     "name": "stdout",
     "output_type": "stream",
     "text": [
      "0.3366000000000001\n"
     ]
    }
   ],
   "source": [
    "sum_error =[]\n",
    "for i in range(100):\n",
    "    n=100\n",
    "    ntest = 500\n",
    "    Traindata = create_data_2(n)\n",
    "    Xtest = create_data_2(ntest)\n",
    "    classification = toy_nearest_neighbor(Xtest[:ntest], Traindata[:n], Traindata[n:])\n",
    "    error = sum(np.array(np.not_equal(classification, Xtest[ntest:]), dtype=int))/ntest\n",
    "    sum_error.append(error)\n",
    "print(sum(sum_error)/100)"
   ]
  }
 ],
 "metadata": {
  "kernelspec": {
   "display_name": "Python 3",
   "language": "python",
   "name": "python3"
  },
  "language_info": {
   "codemirror_mode": {
    "name": "ipython",
    "version": 3
   },
   "file_extension": ".py",
   "mimetype": "text/x-python",
   "name": "python",
   "nbconvert_exporter": "python",
   "pygments_lexer": "ipython3",
   "version": "3.8.10"
  }
 },
 "nbformat": 4,
 "nbformat_minor": 5
}
