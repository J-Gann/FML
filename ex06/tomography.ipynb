{
 "cells": [
  {
   "cell_type": "code",
   "execution_count": 1,
   "metadata": {},
   "outputs": [],
   "source": [
    "import math\n",
    "import numpy as np\n",
    "from scipy.sparse import coo_matrix, vstack, identity\n",
    "import scipy.sparse.linalg\n",
    "import matplotlib.pyplot as plt\n",
    "from matplotlib import patches\n",
    "from scipy.ndimage.filters import gaussian_filter"
   ]
  },
  {
   "cell_type": "markdown",
   "metadata": {},
   "source": [
    "# 2"
   ]
  },
  {
   "cell_type": "code",
   "execution_count": 2,
   "metadata": {},
   "outputs": [],
   "source": [
    "alphas_77 = np.load(\"./hs_tomography/alphas_77.npy\")\n",
    "alphas_195 = np.load(\"./hs_tomography/alphas_195.npy\")\n",
    "y_195 = np.load(\"hs_tomography/y_195.npy\", allow_pickle=True)\n",
    "y_77 = np.load(\"hs_tomography/y_77.npy\", allow_pickle=True)"
   ]
  },
  {
   "cell_type": "code",
   "execution_count": 3,
   "metadata": {},
   "outputs": [],
   "source": [
    "def construct_X(M, alphas, Np = None, tau=0):\n",
    "    Np = Np if Np else math.ceil(math.sqrt(2) * M)\n",
    "    No = alphas.shape[0]    # Number of orientations\n",
    "    N =  No * Np            # flattened array length of intensitie measurements\n",
    "    D = M * M               # flattened array length of tomogram\n",
    "\n",
    "    # Compute two indices a and b for each pixel\n",
    "    ja = np.mgrid[0:D] % M\n",
    "    jb = (np.mgrid[0:D] - ja) / M\n",
    "\n",
    "    C = np.array([ja, jb])\n",
    "\n",
    "    # Move pixels such that the middle pixel (M/2, M/2) is in the origin of the coordinate system\n",
    "    C_moved = C - np.array([[M / 2],[M / 2]])\n",
    "\n",
    "    all_weights = []\n",
    "    all_i_indices = []\n",
    "    all_j_indices = []\n",
    "\n",
    "    for io in range(No):\n",
    "\n",
    "        alpha = np.radians(alphas[io])\n",
    "        # Calculate unit vector in direction of sensor array using 2D rotation matrix\n",
    "        # negate the y value, as coordinate system goes the \"opposite\" direction\n",
    "        n = np.array([[math.cos(alpha)], [-math.sin(alpha)]])\n",
    "        p = np.dot(n.T, C_moved) \n",
    "\n",
    "        p = p[0]\n",
    "\n",
    "        # Center of sensor array is at origin => add half the length of the sensor array\n",
    "        p = p + Np / 2\n",
    "\n",
    "        # Calculate index of the two sensors\n",
    "        idx_sensor1 = np.floor(p) + Np * io\n",
    "        idx_sensor2 = np.ceil(p) + Np * io\n",
    "\n",
    "        # Calculate the weights of the two sensors\n",
    "        weight2 = p - np.floor(p)\n",
    "        weight1 = 1 - weight2\n",
    "\n",
    "        # Calculate the index of the pixels\n",
    "        idx_pixel1 = np.mgrid[0:D]\n",
    "        idx_pixel2 = np.mgrid[0:D]\n",
    "\n",
    "        weights = np.append(weight1, weight2)\n",
    "        idx_sensor = np.append(idx_sensor1, idx_sensor2)\n",
    "        idx_pixel = np.append(idx_pixel1, idx_pixel2)\n",
    "\n",
    "        all_weights.extend(weights)\n",
    "        all_j_indices.extend(idx_pixel)\n",
    "        all_i_indices.extend(idx_sensor)\n",
    "\n",
    "\n",
    "    all_weights = np.array(all_weights)\n",
    "    all_i_indices = np.array(all_i_indices)\n",
    "    all_j_indices = np.array(all_j_indices)\n",
    "\n",
    "    X = coo_matrix((all_weights, (all_i_indices, all_j_indices)), shape=(N, D), dtype = np.float32)\n",
    "\n",
    "    # regularization\n",
    "    if(tau): X = vstack([X, identity(D) * math.sqrt(tau)])\n",
    "\n",
    "    return X"
   ]
  },
  {
   "cell_type": "code",
   "execution_count": 4,
   "metadata": {},
   "outputs": [
    {
     "data": {
      "image/png": "[encoded data removed]",
      "text/plain": [
       "<Figure size 432x288 with 1 Axes>"
      ]
     },
     "metadata": {
      "needs_background": "light"
     },
     "output_type": "display_data"
    }
   ],
   "source": [
    "# verify construct_M\n",
    "X_small = construct_X(M=10, alphas=np.array([-33, 1, 42]), Np=15, tau=10)\n",
    "plt.imshow(X_small.todense())\n",
    "plt.show()"
   ]
  },
  {
   "cell_type": "code",
   "execution_count": 5,
   "metadata": {},
   "outputs": [],
   "source": [
    "def reconstruct_image(X, y, tolerance):\n",
    "    X = scipy.sparse.csc_matrix(X)\n",
    "    beta, solution, *_ = scipy.sparse.linalg.lsqr(X, y, atol=tolerance, btol=tolerance)\n",
    "    \n",
    "    #if solution != 1:\n",
    "    #    print(\"system could only be solved by minimizing squared errors\")\n",
    "\n",
    "    return beta"
   ]
  },
  {
   "cell_type": "code",
   "execution_count": 6,
   "metadata": {},
   "outputs": [],
   "source": [
    "def test_regularization(y, tolerance, M, alphas, Np, tau, alphasize):\n",
    "    alphas = alphas[:alphasize]\n",
    "    y = y[0:Np*alphasize]\n",
    "    X = construct_X(M, alphas, Np, tau)\n",
    "    if(tau):\n",
    "        y = np.append(y, np.zeros(M*M))\n",
    "    beta = reconstruct_image(X, y, tolerance)\n",
    "    img = beta.reshape((M, M))\n",
    "\n",
    "    return img"
   ]
  },
  {
   "cell_type": "markdown",
   "metadata": {},
   "source": [
    "Note, that the image looks distorted because the size of alpha was limited to 64 angles, as required by the exercise. "
   ]
  },
  {
   "cell_type": "code",
   "execution_count": null,
   "metadata": {},
   "outputs": [],
   "source": [
    "fig, axes = plt.subplots(3, 2, figsize = (8,16))\n",
    "\n",
    "taus = [0, 1, 10, 100, 1000, 10_000]\n",
    "for i, tau in enumerate(taus):\n",
    "    img = test_regularization(y=y_195, tolerance=3e-3, M=195, alphas=alphas_195, Np=275, tau=tau, alphasize=64)\n",
    "    axes.flat[i].imshow(img, vmin = 0, vmax = 255, interpolation = 'nearest')\n",
    "    axes.flat[i].set_title(f\"Regularization with tau = {tau}\")\n",
    "    axes.flat[i].add_patch(patches.Rectangle((120, 40), 30, 80, angle=60, linewidth=1, edgecolor='r', facecolor='none'))\n",
    "\n",
    "fig.tight_layout()\n",
    "plt.show()"
   ]
  },
  {
   "cell_type": "code",
   "execution_count": null,
   "metadata": {},
   "outputs": [],
   "source": [
    "def test_gaussian_filter(y, tolerance, M, alphas, Np, sigma, alphasize):\n",
    "    alphas = alphas[:alphasize]\n",
    "    y = y[0:Np*alphasize]\n",
    "    X = construct_X(M, alphas, Np)\n",
    "\n",
    "    beta = reconstruct_image(X, y, tolerance)\n",
    "    img = beta.reshape((M, M))\n",
    "\n",
    "    img = gaussian_filter(img, sigma)\n",
    "    return img"
   ]
  },
  {
   "cell_type": "code",
   "execution_count": null,
   "metadata": {},
   "outputs": [],
   "source": [
    "fig, axes = plt.subplots(3, 2, figsize = (8,16))\n",
    "\n",
    "sigmas = [1, 2, 3, 5, 7]\n",
    "\n",
    "for i, sigma in enumerate(sigmas):\n",
    "    img = test_gaussian_filter(y=y_195, tolerance=3e-3, M=195, alphas=alphas_195, Np=275, sigma=sigma, alphasize=64)\n",
    "\n",
    "    axes.flat[i].imshow(img, vmin = 0, vmax = 255, interpolation = 'nearest')\n",
    "    axes.flat[i].set_title(f\"Gaussian filter with sigma = {sigma}\")\n",
    "    axes.flat[i].add_patch(patches.Rectangle((120, 40), 30, 80, angle=60, linewidth=1, edgecolor='r', facecolor='none'))\n",
    "\n",
    "fig.delaxes(axes.flat[-1])\n",
    "fig.tight_layout()\n",
    "plt.show()"
   ]
  },
  {
   "cell_type": "markdown",
   "metadata": {},
   "source": [
    "# 3"
   ]
  },
  {
   "cell_type": "code",
   "execution_count": null,
   "metadata": {},
   "outputs": [],
   "source": [
    "from scipy.linalg import lstsq\n",
    "from sklearn.linear_model import LinearRegression\n",
    "from sklearn.datasets import load_digits\n",
    "from sklearn import model_selection\n",
    "import seaborn as sn"
   ]
  },
  {
   "cell_type": "markdown",
   "metadata": {},
   "source": [
    "# 3.1"
   ]
  },
  {
   "cell_type": "code",
   "execution_count": null,
   "metadata": {},
   "outputs": [],
   "source": [
    "def omp_regression(X, y, T):\n",
    "    D = X.shape[1]\n",
    "    N = X.shape[0]\n",
    "    X_inactive = X\n",
    "    X_active = np.array([])\n",
    "    j_current = None\n",
    "    r_current = y\n",
    "    A = np.array([], dtype=int)\n",
    "    B = np.mgrid[0:D]\n",
    "    solution = np.zeros((T, D))\n",
    "    for t in range(T):\n",
    "        j_current = np.argmax(np.abs(X_inactive.T.dot(r_current)))\n",
    "        A = np.append(A, B[j_current])\n",
    "        A = np.sort(A)\n",
    "        B = np.delete(B, j_current)\n",
    "\n",
    "        X_active = X[:,A]\n",
    "        X_inactive = X[:,B]\n",
    "        beta, r, *_ = lstsq(X_active, y)\n",
    "        r_current = y - X_active.dot(beta)\n",
    "        np.put(solution[t], A, beta)\n",
    "    return solution"
   ]
  },
  {
   "cell_type": "markdown",
   "metadata": {},
   "source": [
    "# 3.2"
   ]
  },
  {
   "cell_type": "code",
   "execution_count": null,
   "metadata": {},
   "outputs": [],
   "source": [
    "digits = load_digits()\n",
    "data = digits[\"data\"]\n",
    "images = digits[\"images\"]\n",
    "target = digits[\"target\"]\n",
    "target_names = digits[\"target_names\"]"
   ]
  },
  {
   "cell_type": "code",
   "execution_count": null,
   "metadata": {},
   "outputs": [],
   "source": [
    "one_label = target[target == 1] * 1\n",
    "seven_label = target[target == 7] / -7\n",
    "\n",
    "one_data = data[target == 1]\n",
    "seven_data = data[target == 7]\n",
    "\n",
    "X_all = np.vstack((one_data, seven_data))\n",
    "y_all = np.hstack((one_label, seven_label))\n",
    "\n",
    "X_train, X_test, y_train, y_test = model_selection.train_test_split(X_all, y_all, test_size = 0.4, random_state = 0)"
   ]
  },
  {
   "cell_type": "code",
   "execution_count": null,
   "metadata": {},
   "outputs": [],
   "source": [
    "T = 15\n",
    "beta = omp_regression(X_train, y_train, T)\n",
    "err = []\n",
    "\n",
    "for t in range(T):\n",
    "    y_predicted = X_test.dot(beta[t])\n",
    "    y_predicted[y_predicted < 0] = -1\n",
    "    y_predicted[y_predicted > 0] = 1\n",
    "    err.append(np.mean(y_predicted != y_test))\n",
    "\n",
    "plt.plot(range(T), err)\n",
    "plt.show()"
   ]
  },
  {
   "cell_type": "markdown",
   "metadata": {},
   "source": [
    "The error stays about the same for more than 10 pixels. Therefore between 2 and 10 pixels should be selected."
   ]
  },
  {
   "cell_type": "code",
   "execution_count": null,
   "metadata": {},
   "outputs": [],
   "source": [
    "selection_order = np.transpose(np.nonzero(beta))[:,1]\n",
    "_, index = np.unique(selection_order, return_index=True)\n",
    "unique_order = selection_order[np.sort(index)]"
   ]
  },
  {
   "cell_type": "code",
   "execution_count": null,
   "metadata": {},
   "outputs": [],
   "source": [
    "vote = beta[T-1][unique_order]"
   ]
  },
  {
   "cell_type": "code",
   "execution_count": null,
   "metadata": {},
   "outputs": [],
   "source": [
    "N = T\n",
    "ind = np.arange(N)    # the x locations for the groups\n",
    "\n",
    "fig, ax = plt.subplots()\n",
    "p1 = ax.bar(ind, vote, width=0.7)\n",
    "ax.axhline(0, color='grey', linewidth=0.8)\n",
    "ax.set_xticks(ind, labels=map(str, unique_order))\n",
    "ax.set_ylabel('Vote')\n",
    "ax.set_xlabel('Pixel')\n",
    "ax.set_title('Votes of pixels in order of selection for 1 or -1')\n",
    "plt.show()"
   ]
  },
  {
   "cell_type": "markdown",
   "metadata": {},
   "source": [
    "# 3.3"
   ]
  },
  {
   "cell_type": "code",
   "execution_count": null,
   "metadata": {},
   "outputs": [],
   "source": [
    "T = 1"
   ]
  },
  {
   "cell_type": "code",
   "execution_count": null,
   "metadata": {},
   "outputs": [],
   "source": [
    "def random_index(N):\n",
    "    return np.random.permutation(np.arange(N))"
   ]
  },
  {
   "cell_type": "code",
   "execution_count": null,
   "metadata": {},
   "outputs": [],
   "source": [
    "# filter out training set so that for each class there are T elements\n",
    "def create_training_and_test_sets(T):\n",
    "    training_indices = np.array([np.arange(len(target))[target == c][random_index(T)]\n",
    "                                    for c in np.unique(target)]).flatten()\n",
    "\n",
    "    X_train = data[training_indices]\n",
    "    y_train = target[training_indices]\n",
    "    X_test = np.delete(data, training_indices, axis=0)\n",
    "    y_test = np.delete(target, training_indices, axis=0)\n",
    "    \n",
    "    return X_train, y_train, X_test, y_test"
   ]
  },
  {
   "cell_type": "code",
   "execution_count": null,
   "metadata": {},
   "outputs": [],
   "source": [
    "def random_elements(arr, N):\n",
    "    return arr[random_index(N)]\n",
    "    \n",
    "def aux_training_set(X, y, k, T):\n",
    "    X_pos = X[y == k]\n",
    "    X_pos = random_elements(X_pos, T)\n",
    "    \n",
    "    X_neg = X[y != k]\n",
    "    X_neg = random_elements(X_neg, T)\n",
    "    \n",
    "    y = np.concatenate([np.ones(T), -np.ones(T)])\n",
    "    X = np.concatenate([X_pos, X_neg])\n",
    "    \n",
    "    shuffle = random_index(2 * T)\n",
    "\n",
    "    return X[shuffle], y[shuffle]"
   ]
  },
  {
   "cell_type": "code",
   "execution_count": null,
   "metadata": {},
   "outputs": [],
   "source": [
    "def train_one_vs_rest(X_train, y_train, T):\n",
    "    C_k = [aux_training_set(X_train, y_train, num, T) for num in np.unique(y_train)]\n",
    "    ldas = np.array([omp_regression(X_k, y_k, 30) for X_k, y_k in C_k])\n",
    "    \n",
    "    return ldas"
   ]
  },
  {
   "cell_type": "code",
   "execution_count": null,
   "metadata": {},
   "outputs": [],
   "source": [
    "def predict_one_vs_rest(X_test, ldas):\n",
    "    votes = X_test.dot(ldas.transpose((0, 2, 1)))\n",
    "    votes[votes < 0] = -1\n",
    "    votes[votes >= 0] = 1\n",
    "\n",
    "    votes = votes.sum(axis=2)\n",
    "\n",
    "    # count votes and select prediction with most\n",
    "    pred = votes.argmax(axis=1)\n",
    "\n",
    "    # unkown category\n",
    "    pred[np.all(votes < 0, axis=1)] = -1\n",
    "    \n",
    "    return pred"
   ]
  },
  {
   "cell_type": "code",
   "execution_count": null,
   "metadata": {},
   "outputs": [],
   "source": [
    "X_train, y_train, X_test, y_test = create_training_and_test_sets(T)\n",
    "ldas = train_one_vs_rest(X_train, y_train, T)"
   ]
  },
  {
   "cell_type": "code",
   "execution_count": null,
   "metadata": {},
   "outputs": [],
   "source": [
    "pred = predict_one_vs_rest(X_test, ldas)"
   ]
  },
  {
   "cell_type": "code",
   "execution_count": null,
   "metadata": {},
   "outputs": [],
   "source": [
    "sum(y_test != pred) / len(pred)"
   ]
  },
  {
   "cell_type": "code",
   "execution_count": null,
   "metadata": {},
   "outputs": [],
   "source": [
    "def confusion_matrix(pred, y_test):\n",
    "    confusion = np.zeros((10, 11))\n",
    "\n",
    "    for i, real_label in enumerate(range(10)):\n",
    "        ind = y_test == real_label\n",
    "\n",
    "        for j, predicted_label in enumerate(list(range(10)) + [-1]):\n",
    "            confusion[i, j] = 100 * sum(pred[ind] == predicted_label) / len(pred)\n",
    "            \n",
    "    return confusion"
   ]
  },
  {
   "cell_type": "code",
   "execution_count": null,
   "metadata": {},
   "outputs": [],
   "source": []
  },
  {
   "cell_type": "code",
   "execution_count": null,
   "metadata": {},
   "outputs": [],
   "source": [
    "confusion = confusion_matrix(pred, y_test)\n",
    "plt.figure(figsize=(10,7))\n",
    "\n",
    "sn.set(font_scale=0.9) # for label size\n",
    "sn.heatmap(confusion, annot=True, annot_kws={\"size\": 12}) # font size\n",
    "plt.xlabel(\"Predictions\")\n",
    "plt.xticks(range(11), list(range(10)) + [\"unkown\"], rotation=40)\n",
    "plt.ylabel(\"Real Values\")\n",
    "plt.show()"
   ]
  },
  {
   "cell_type": "code",
   "execution_count": null,
   "metadata": {},
   "outputs": [],
   "source": [
    "np.any(pred == -1)"
   ]
  }
 ],
 "metadata": {
  "interpreter": {
   "hash": "916dbcbb3f70747c44a77c7bcd40155683ae19c65e1c03b4aa3499c5328201f1"
  },
  "kernelspec": {
   "display_name": "Python 3",
   "language": "python",
   "name": "python3"
  },
  "language_info": {
   "codemirror_mode": {
    "name": "ipython",
    "version": 3
   },
   "file_extension": ".py",
   "mimetype": "text/x-python",
   "name": "python",
   "nbconvert_exporter": "python",
   "pygments_lexer": "ipython3",
   "version": "3.8.10"
  }
 },
 "nbformat": 4,
 "nbformat_minor": 2
}
