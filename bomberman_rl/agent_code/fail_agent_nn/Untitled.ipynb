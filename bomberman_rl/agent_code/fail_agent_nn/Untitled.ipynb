{
 "cells": [
  {
   "cell_type": "code",
   "execution_count": 1,
   "metadata": {},
   "outputs": [],
   "source": [
    "import pandas as pd\n",
    "import numpy as np\n",
    "from os import listdir\n",
    "from tqdm.auto import tqdm\n",
    "tqdm.pandas()\n",
    "\n",
    "from random import choice"
   ]
  },
  {
   "cell_type": "code",
   "execution_count": 2,
   "metadata": {},
   "outputs": [],
   "source": [
    "from agent_code.my_agent.features.movement_graph import MovementGraph\n",
    "from agent_code.my_agent.features.feature import FeatureCollector\n",
    "from agent_code.my_agent.features.actions import Actions"
   ]
  },
  {
   "cell_type": "code",
   "execution_count": 3,
   "metadata": {},
   "outputs": [
    {
     "name": "stderr",
     "output_type": "stream",
     "text": [
      "Widget Javascript not detected.  It may not be installed or enabled properly.\n"
     ]
    },
    {
     "data": {
      "application/vnd.jupyter.widget-view+json": {
       "model_id": "caa01f43e8cb44fba28d5fbced4527ea"
      }
     },
     "metadata": {},
     "output_type": "display_data"
    },
    {
     "name": "stdout",
     "output_type": "stream",
     "text": [
      "\n"
     ]
    },
    {
     "name": "stderr",
     "output_type": "stream",
     "text": [
      "Widget Javascript not detected.  It may not be installed or enabled properly.\n"
     ]
    },
    {
     "data": {
      "application/vnd.jupyter.widget-view+json": {
       "model_id": "09ce6e7f82fb404fb8dfb791569d2b1a"
      }
     },
     "metadata": {},
     "output_type": "display_data"
    },
    {
     "name": "stdout",
     "output_type": "stream",
     "text": [
      "\n"
     ]
    }
   ],
   "source": [
    "batch_files = [f for f in listdir(\"batches\") if f.startswith(\"batch\")]\n",
    "batches = len(batch_files) * [None]\n",
    "\n",
    "for batch_file in tqdm(batch_files):\n",
    "    batch_number = int(batch_file.split(\"_\")[1].split(\".\")[0]) \n",
    "\n",
    "    batch = pd.read_pickle(f\"batches/{batch_file}\")\n",
    "    batch[\"batch_number\"] = batch_number\n",
    "    # already sort by batch number\n",
    "    batches[batch_number - 1] = batch\n",
    "    \n",
    "assert not any(b is None for b in batches)\n",
    "\n",
    "last_round = 0\n",
    "\n",
    "for i, batch in tqdm(enumerate(batches)):\n",
    "    batch = batch.rename({\"round\": \"rounds\"}, axis=1)\n",
    "    batch.rounds += last_round\n",
    "    last_round = batch.rounds.max()\n",
    "    \n",
    "    batches[i] = batch"
   ]
  },
  {
   "cell_type": "code",
   "execution_count": 4,
   "metadata": {},
   "outputs": [],
   "source": [
    "data = pd.concat(batches).reset_index(drop=True)"
   ]
  },
  {
   "cell_type": "code",
   "execution_count": 5,
   "metadata": {},
   "outputs": [],
   "source": [
    "# zero indexed, does not exists\n",
    "data = data.drop(labels=[\"agent_4_state\", \"agent_4_action\"], axis=1)"
   ]
  },
  {
   "cell_type": "code",
   "execution_count": 6,
   "metadata": {},
   "outputs": [
    {
     "name": "stdout",
     "output_type": "stream",
     "text": [
      "rounds               0\n",
      "step                 0\n",
      "field                0\n",
      "bombs                0\n",
      "coins                0\n",
      "agent_1_state        0\n",
      "agent_1_action    5570\n",
      "agent_2_state        0\n",
      "agent_2_action    3698\n",
      "agent_3_state        0\n",
      "agent_3_action    1612\n",
      "agent_0_action    6016\n",
      "agent_0_state        0\n",
      "explosion_map        0\n",
      "batch_number         0\n",
      "dtype: int64\n",
      "rounds            0\n",
      "step              0\n",
      "field             0\n",
      "bombs             0\n",
      "coins             0\n",
      "agent_1_state     0\n",
      "agent_1_action    0\n",
      "agent_2_state     0\n",
      "agent_2_action    0\n",
      "agent_3_state     0\n",
      "agent_3_action    0\n",
      "agent_0_action    0\n",
      "agent_0_state     0\n",
      "explosion_map     0\n",
      "batch_number      0\n",
      "dtype: int64\n"
     ]
    }
   ],
   "source": [
    "print(data.isna().sum())\n",
    "\n",
    "data = data.fillna(\"NONE\")\n",
    "\n",
    "print(data.isna().sum())"
   ]
  },
  {
   "cell_type": "code",
   "execution_count": 7,
   "metadata": {},
   "outputs": [],
   "source": [
    "# convert action strings to actrion enum values\n",
    "for agent in range(4):\n",
    "    col_name = f\"agent_{agent}_action\"\n",
    "    data[col_name] = data[col_name].apply(lambda x: Actions[x])"
   ]
  },
  {
   "cell_type": "code",
   "execution_count": 8,
   "metadata": {},
   "outputs": [
    {
     "name": "stderr",
     "output_type": "stream",
     "text": [
      "Widget Javascript not detected.  It may not be installed or enabled properly.\n"
     ]
    },
    {
     "data": {
      "application/vnd.jupyter.widget-view+json": {
       "model_id": "d6fde269405043f195a977f7a12a0a8d"
      }
     },
     "metadata": {},
     "output_type": "display_data"
    },
    {
     "name": "stdout",
     "output_type": "stream",
     "text": [
      "\n"
     ]
    }
   ],
   "source": [
    "for shift_by in tqdm(range(1, 5)):\n",
    "    shifted = data.groupby([\"rounds\"])\\\n",
    "        .shift(shift_by)\\\n",
    "        .fillna(Actions.NONE)\n",
    "    you\n",
    "    for agent in range(4):\n",
    "        data[f\"agent_{agent}_move_{shift_by}_step_ago\"] = shifted[f\"agent_{agent}_action\"]"
   ]
  },
  {
   "cell_type": "code",
   "execution_count": 9,
   "metadata": {},
   "outputs": [
    {
     "data": {
      "text/html": [
       "<div>\n",
       "<style scoped>\n",
       "    .dataframe tbody tr th:only-of-type {\n",
       "        vertical-align: middle;\n",
       "    }\n",
       "\n",
       "    .dataframe tbody tr th {\n",
       "        vertical-align: top;\n",
       "    }\n",
       "\n",
       "    .dataframe thead th {\n",
       "        text-align: right;\n",
       "    }\n",
       "</style>\n",
       "<table border=\"1\" class=\"dataframe\">\n",
       "  <thead>\n",
       "    <tr style=\"text-align: right;\">\n",
       "      <th></th>\n",
       "      <th>rounds</th>\n",
       "      <th>step</th>\n",
       "      <th>field</th>\n",
       "      <th>bombs</th>\n",
       "      <th>coins</th>\n",
       "      <th>agent_1_state</th>\n",
       "      <th>agent_1_action</th>\n",
       "      <th>agent_2_state</th>\n",
       "      <th>agent_2_action</th>\n",
       "      <th>agent_3_state</th>\n",
       "      <th>...</th>\n",
       "      <th>agent_2_move_2_step_ago</th>\n",
       "      <th>agent_3_move_2_step_ago</th>\n",
       "      <th>agent_0_move_3_step_ago</th>\n",
       "      <th>agent_1_move_3_step_ago</th>\n",
       "      <th>agent_2_move_3_step_ago</th>\n",
       "      <th>agent_3_move_3_step_ago</th>\n",
       "      <th>agent_0_move_4_step_ago</th>\n",
       "      <th>agent_1_move_4_step_ago</th>\n",
       "      <th>agent_2_move_4_step_ago</th>\n",
       "      <th>agent_3_move_4_step_ago</th>\n",
       "    </tr>\n",
       "  </thead>\n",
       "  <tbody>\n",
       "    <tr>\n",
       "      <th>0</th>\n",
       "      <td>1</td>\n",
       "      <td>1</td>\n",
       "      <td>[[-1, -1, -1, -1, -1, -1, -1, -1, -1, -1, -1, ...</td>\n",
       "      <td>[]</td>\n",
       "      <td>[]</td>\n",
       "      <td>(rule_based_agent_1, 0, True, (15, 1))</td>\n",
       "      <td>Actions.DOWN</td>\n",
       "      <td>(rule_based_agent_2, 0, True, (1, 1))</td>\n",
       "      <td>Actions.RIGHT</td>\n",
       "      <td>(rule_based_agent_3, 0, True, (1, 15))</td>\n",
       "      <td>...</td>\n",
       "      <td>Actions.NONE</td>\n",
       "      <td>Actions.NONE</td>\n",
       "      <td>Actions.NONE</td>\n",
       "      <td>Actions.NONE</td>\n",
       "      <td>Actions.NONE</td>\n",
       "      <td>Actions.NONE</td>\n",
       "      <td>Actions.NONE</td>\n",
       "      <td>Actions.NONE</td>\n",
       "      <td>Actions.NONE</td>\n",
       "      <td>Actions.NONE</td>\n",
       "    </tr>\n",
       "    <tr>\n",
       "      <th>1</th>\n",
       "      <td>1</td>\n",
       "      <td>2</td>\n",
       "      <td>[[-1, -1, -1, -1, -1, -1, -1, -1, -1, -1, -1, ...</td>\n",
       "      <td>[]</td>\n",
       "      <td>[]</td>\n",
       "      <td>(rule_based_agent_1, 0, True, (15, 2))</td>\n",
       "      <td>Actions.DOWN</td>\n",
       "      <td>(rule_based_agent_2, 0, True, (2, 1))</td>\n",
       "      <td>Actions.BOMB</td>\n",
       "      <td>(rule_based_agent_3, 0, True, (1, 14))</td>\n",
       "      <td>...</td>\n",
       "      <td>Actions.NONE</td>\n",
       "      <td>Actions.NONE</td>\n",
       "      <td>Actions.NONE</td>\n",
       "      <td>Actions.NONE</td>\n",
       "      <td>Actions.NONE</td>\n",
       "      <td>Actions.NONE</td>\n",
       "      <td>Actions.NONE</td>\n",
       "      <td>Actions.NONE</td>\n",
       "      <td>Actions.NONE</td>\n",
       "      <td>Actions.NONE</td>\n",
       "    </tr>\n",
       "    <tr>\n",
       "      <th>2</th>\n",
       "      <td>1</td>\n",
       "      <td>3</td>\n",
       "      <td>[[-1, -1, -1, -1, -1, -1, -1, -1, -1, -1, -1, ...</td>\n",
       "      <td>[((1, 14), 3), ((2, 1), 3), ((15, 14), 3)]</td>\n",
       "      <td>[]</td>\n",
       "      <td>(rule_based_agent_1, 0, True, (15, 3))</td>\n",
       "      <td>Actions.BOMB</td>\n",
       "      <td>(rule_based_agent_2, 0, False, (2, 1))</td>\n",
       "      <td>Actions.LEFT</td>\n",
       "      <td>(rule_based_agent_3, 0, False, (1, 14))</td>\n",
       "      <td>...</td>\n",
       "      <td>Actions.RIGHT</td>\n",
       "      <td>Actions.UP</td>\n",
       "      <td>Actions.NONE</td>\n",
       "      <td>Actions.NONE</td>\n",
       "      <td>Actions.NONE</td>\n",
       "      <td>Actions.NONE</td>\n",
       "      <td>Actions.NONE</td>\n",
       "      <td>Actions.NONE</td>\n",
       "      <td>Actions.NONE</td>\n",
       "      <td>Actions.NONE</td>\n",
       "    </tr>\n",
       "    <tr>\n",
       "      <th>3</th>\n",
       "      <td>1</td>\n",
       "      <td>4</td>\n",
       "      <td>[[-1, -1, -1, -1, -1, -1, -1, -1, -1, -1, -1, ...</td>\n",
       "      <td>[((1, 14), 2), ((2, 1), 2), ((15, 14), 2), ((1...</td>\n",
       "      <td>[]</td>\n",
       "      <td>(rule_based_agent_1, 0, False, (15, 3))</td>\n",
       "      <td>Actions.UP</td>\n",
       "      <td>(rule_based_agent_2, 0, False, (1, 1))</td>\n",
       "      <td>Actions.DOWN</td>\n",
       "      <td>(rule_based_agent_3, 0, False, (1, 15))</td>\n",
       "      <td>...</td>\n",
       "      <td>Actions.BOMB</td>\n",
       "      <td>Actions.BOMB</td>\n",
       "      <td>Actions.UP</td>\n",
       "      <td>Actions.DOWN</td>\n",
       "      <td>Actions.RIGHT</td>\n",
       "      <td>Actions.UP</td>\n",
       "      <td>Actions.NONE</td>\n",
       "      <td>Actions.NONE</td>\n",
       "      <td>Actions.NONE</td>\n",
       "      <td>Actions.NONE</td>\n",
       "    </tr>\n",
       "    <tr>\n",
       "      <th>4</th>\n",
       "      <td>1</td>\n",
       "      <td>5</td>\n",
       "      <td>[[-1, -1, -1, -1, -1, -1, -1, -1, -1, -1, -1, ...</td>\n",
       "      <td>[((1, 14), 1), ((2, 1), 1), ((15, 14), 1), ((1...</td>\n",
       "      <td>[]</td>\n",
       "      <td>(rule_based_agent_1, 0, False, (15, 2))</td>\n",
       "      <td>Actions.UP</td>\n",
       "      <td>(rule_based_agent_2, 0, False, (1, 2))</td>\n",
       "      <td>Actions.UP</td>\n",
       "      <td>(rule_based_agent_3, 0, False, (2, 15))</td>\n",
       "      <td>...</td>\n",
       "      <td>Actions.LEFT</td>\n",
       "      <td>Actions.DOWN</td>\n",
       "      <td>Actions.BOMB</td>\n",
       "      <td>Actions.DOWN</td>\n",
       "      <td>Actions.BOMB</td>\n",
       "      <td>Actions.BOMB</td>\n",
       "      <td>Actions.UP</td>\n",
       "      <td>Actions.DOWN</td>\n",
       "      <td>Actions.RIGHT</td>\n",
       "      <td>Actions.UP</td>\n",
       "    </tr>\n",
       "    <tr>\n",
       "      <th>...</th>\n",
       "      <td>...</td>\n",
       "      <td>...</td>\n",
       "      <td>...</td>\n",
       "      <td>...</td>\n",
       "      <td>...</td>\n",
       "      <td>...</td>\n",
       "      <td>...</td>\n",
       "      <td>...</td>\n",
       "      <td>...</td>\n",
       "      <td>...</td>\n",
       "      <td>...</td>\n",
       "      <td>...</td>\n",
       "      <td>...</td>\n",
       "      <td>...</td>\n",
       "      <td>...</td>\n",
       "      <td>...</td>\n",
       "      <td>...</td>\n",
       "      <td>...</td>\n",
       "      <td>...</td>\n",
       "      <td>...</td>\n",
       "      <td>...</td>\n",
       "    </tr>\n",
       "    <tr>\n",
       "      <th>980452</th>\n",
       "      <td>2800</td>\n",
       "      <td>23</td>\n",
       "      <td>[[-1, -1, -1, -1, -1, -1, -1, -1, -1, -1, -1, ...</td>\n",
       "      <td>[]</td>\n",
       "      <td>[(1, 4)]</td>\n",
       "      <td>(random_agent_1, 0, True, (14, 15))</td>\n",
       "      <td>Actions.WAIT</td>\n",
       "      <td>(random_agent_2, 0, True, (1, 15))</td>\n",
       "      <td>Actions.WAIT</td>\n",
       "      <td>(random_agent_3, 0, True, (14, 1))</td>\n",
       "      <td>...</td>\n",
       "      <td>Actions.WAIT</td>\n",
       "      <td>Actions.LEFT</td>\n",
       "      <td>Actions.WAIT</td>\n",
       "      <td>Actions.WAIT</td>\n",
       "      <td>Actions.WAIT</td>\n",
       "      <td>Actions.LEFT</td>\n",
       "      <td>Actions.WAIT</td>\n",
       "      <td>Actions.WAIT</td>\n",
       "      <td>Actions.WAIT</td>\n",
       "      <td>Actions.RIGHT</td>\n",
       "    </tr>\n",
       "    <tr>\n",
       "      <th>980453</th>\n",
       "      <td>2800</td>\n",
       "      <td>24</td>\n",
       "      <td>[[-1, -1, -1, -1, -1, -1, -1, -1, -1, -1, -1, ...</td>\n",
       "      <td>[((14, 1), 3)]</td>\n",
       "      <td>[(1, 4)]</td>\n",
       "      <td>(random_agent_1, 0, True, (14, 15))</td>\n",
       "      <td>Actions.WAIT</td>\n",
       "      <td>(random_agent_2, 0, True, (1, 15))</td>\n",
       "      <td>Actions.WAIT</td>\n",
       "      <td>(random_agent_3, 0, False, (14, 1))</td>\n",
       "      <td>...</td>\n",
       "      <td>Actions.WAIT</td>\n",
       "      <td>Actions.DOWN</td>\n",
       "      <td>Actions.WAIT</td>\n",
       "      <td>Actions.WAIT</td>\n",
       "      <td>Actions.WAIT</td>\n",
       "      <td>Actions.LEFT</td>\n",
       "      <td>Actions.WAIT</td>\n",
       "      <td>Actions.WAIT</td>\n",
       "      <td>Actions.WAIT</td>\n",
       "      <td>Actions.LEFT</td>\n",
       "    </tr>\n",
       "    <tr>\n",
       "      <th>980454</th>\n",
       "      <td>2800</td>\n",
       "      <td>25</td>\n",
       "      <td>[[-1, -1, -1, -1, -1, -1, -1, -1, -1, -1, -1, ...</td>\n",
       "      <td>[((14, 1), 2)]</td>\n",
       "      <td>[(1, 4)]</td>\n",
       "      <td>(random_agent_1, 0, True, (14, 15))</td>\n",
       "      <td>Actions.WAIT</td>\n",
       "      <td>(random_agent_2, 0, True, (1, 15))</td>\n",
       "      <td>Actions.WAIT</td>\n",
       "      <td>(random_agent_3, 0, False, (14, 1))</td>\n",
       "      <td>...</td>\n",
       "      <td>Actions.WAIT</td>\n",
       "      <td>Actions.BOMB</td>\n",
       "      <td>Actions.WAIT</td>\n",
       "      <td>Actions.WAIT</td>\n",
       "      <td>Actions.WAIT</td>\n",
       "      <td>Actions.DOWN</td>\n",
       "      <td>Actions.WAIT</td>\n",
       "      <td>Actions.WAIT</td>\n",
       "      <td>Actions.WAIT</td>\n",
       "      <td>Actions.LEFT</td>\n",
       "    </tr>\n",
       "    <tr>\n",
       "      <th>980455</th>\n",
       "      <td>2800</td>\n",
       "      <td>26</td>\n",
       "      <td>[[-1, -1, -1, -1, -1, -1, -1, -1, -1, -1, -1, ...</td>\n",
       "      <td>[((14, 1), 1)]</td>\n",
       "      <td>[(1, 4)]</td>\n",
       "      <td>(random_agent_1, 0, True, (14, 15))</td>\n",
       "      <td>Actions.WAIT</td>\n",
       "      <td>(random_agent_2, 0, True, (1, 15))</td>\n",
       "      <td>Actions.WAIT</td>\n",
       "      <td>(random_agent_3, 0, False, (14, 1))</td>\n",
       "      <td>...</td>\n",
       "      <td>Actions.WAIT</td>\n",
       "      <td>Actions.UP</td>\n",
       "      <td>Actions.WAIT</td>\n",
       "      <td>Actions.WAIT</td>\n",
       "      <td>Actions.WAIT</td>\n",
       "      <td>Actions.BOMB</td>\n",
       "      <td>Actions.WAIT</td>\n",
       "      <td>Actions.WAIT</td>\n",
       "      <td>Actions.WAIT</td>\n",
       "      <td>Actions.DOWN</td>\n",
       "    </tr>\n",
       "    <tr>\n",
       "      <th>980456</th>\n",
       "      <td>2800</td>\n",
       "      <td>27</td>\n",
       "      <td>[[-1, -1, -1, -1, -1, -1, -1, -1, -1, -1, -1, ...</td>\n",
       "      <td>[((14, 1), 0)]</td>\n",
       "      <td>[(1, 4)]</td>\n",
       "      <td>(random_agent_1, 0, True, (14, 15))</td>\n",
       "      <td>Actions.WAIT</td>\n",
       "      <td>(random_agent_2, 0, True, (1, 15))</td>\n",
       "      <td>Actions.WAIT</td>\n",
       "      <td>(random_agent_3, 0, False, (14, 1))</td>\n",
       "      <td>...</td>\n",
       "      <td>Actions.WAIT</td>\n",
       "      <td>Actions.DOWN</td>\n",
       "      <td>Actions.WAIT</td>\n",
       "      <td>Actions.WAIT</td>\n",
       "      <td>Actions.WAIT</td>\n",
       "      <td>Actions.UP</td>\n",
       "      <td>Actions.WAIT</td>\n",
       "      <td>Actions.WAIT</td>\n",
       "      <td>Actions.WAIT</td>\n",
       "      <td>Actions.BOMB</td>\n",
       "    </tr>\n",
       "  </tbody>\n",
       "</table>\n",
       "<p>980457 rows × 31 columns</p>\n",
       "</div>"
      ],
      "text/plain": [
       "        rounds  step                                              field  \\\n",
       "0            1     1  [[-1, -1, -1, -1, -1, -1, -1, -1, -1, -1, -1, ...   \n",
       "1            1     2  [[-1, -1, -1, -1, -1, -1, -1, -1, -1, -1, -1, ...   \n",
       "2            1     3  [[-1, -1, -1, -1, -1, -1, -1, -1, -1, -1, -1, ...   \n",
       "3            1     4  [[-1, -1, -1, -1, -1, -1, -1, -1, -1, -1, -1, ...   \n",
       "4            1     5  [[-1, -1, -1, -1, -1, -1, -1, -1, -1, -1, -1, ...   \n",
       "...        ...   ...                                                ...   \n",
       "980452    2800    23  [[-1, -1, -1, -1, -1, -1, -1, -1, -1, -1, -1, ...   \n",
       "980453    2800    24  [[-1, -1, -1, -1, -1, -1, -1, -1, -1, -1, -1, ...   \n",
       "980454    2800    25  [[-1, -1, -1, -1, -1, -1, -1, -1, -1, -1, -1, ...   \n",
       "980455    2800    26  [[-1, -1, -1, -1, -1, -1, -1, -1, -1, -1, -1, ...   \n",
       "980456    2800    27  [[-1, -1, -1, -1, -1, -1, -1, -1, -1, -1, -1, ...   \n",
       "\n",
       "                                                    bombs     coins  \\\n",
       "0                                                      []        []   \n",
       "1                                                      []        []   \n",
       "2              [((1, 14), 3), ((2, 1), 3), ((15, 14), 3)]        []   \n",
       "3       [((1, 14), 2), ((2, 1), 2), ((15, 14), 2), ((1...        []   \n",
       "4       [((1, 14), 1), ((2, 1), 1), ((15, 14), 1), ((1...        []   \n",
       "...                                                   ...       ...   \n",
       "980452                                                 []  [(1, 4)]   \n",
       "980453                                     [((14, 1), 3)]  [(1, 4)]   \n",
       "980454                                     [((14, 1), 2)]  [(1, 4)]   \n",
       "980455                                     [((14, 1), 1)]  [(1, 4)]   \n",
       "980456                                     [((14, 1), 0)]  [(1, 4)]   \n",
       "\n",
       "                                  agent_1_state agent_1_action  \\\n",
       "0        (rule_based_agent_1, 0, True, (15, 1))   Actions.DOWN   \n",
       "1        (rule_based_agent_1, 0, True, (15, 2))   Actions.DOWN   \n",
       "2        (rule_based_agent_1, 0, True, (15, 3))   Actions.BOMB   \n",
       "3       (rule_based_agent_1, 0, False, (15, 3))     Actions.UP   \n",
       "4       (rule_based_agent_1, 0, False, (15, 2))     Actions.UP   \n",
       "...                                         ...            ...   \n",
       "980452      (random_agent_1, 0, True, (14, 15))   Actions.WAIT   \n",
       "980453      (random_agent_1, 0, True, (14, 15))   Actions.WAIT   \n",
       "980454      (random_agent_1, 0, True, (14, 15))   Actions.WAIT   \n",
       "980455      (random_agent_1, 0, True, (14, 15))   Actions.WAIT   \n",
       "980456      (random_agent_1, 0, True, (14, 15))   Actions.WAIT   \n",
       "\n",
       "                                 agent_2_state agent_2_action  \\\n",
       "0        (rule_based_agent_2, 0, True, (1, 1))  Actions.RIGHT   \n",
       "1        (rule_based_agent_2, 0, True, (2, 1))   Actions.BOMB   \n",
       "2       (rule_based_agent_2, 0, False, (2, 1))   Actions.LEFT   \n",
       "3       (rule_based_agent_2, 0, False, (1, 1))   Actions.DOWN   \n",
       "4       (rule_based_agent_2, 0, False, (1, 2))     Actions.UP   \n",
       "...                                        ...            ...   \n",
       "980452      (random_agent_2, 0, True, (1, 15))   Actions.WAIT   \n",
       "980453      (random_agent_2, 0, True, (1, 15))   Actions.WAIT   \n",
       "980454      (random_agent_2, 0, True, (1, 15))   Actions.WAIT   \n",
       "980455      (random_agent_2, 0, True, (1, 15))   Actions.WAIT   \n",
       "980456      (random_agent_2, 0, True, (1, 15))   Actions.WAIT   \n",
       "\n",
       "                                  agent_3_state  ... agent_2_move_2_step_ago  \\\n",
       "0        (rule_based_agent_3, 0, True, (1, 15))  ...            Actions.NONE   \n",
       "1        (rule_based_agent_3, 0, True, (1, 14))  ...            Actions.NONE   \n",
       "2       (rule_based_agent_3, 0, False, (1, 14))  ...           Actions.RIGHT   \n",
       "3       (rule_based_agent_3, 0, False, (1, 15))  ...            Actions.BOMB   \n",
       "4       (rule_based_agent_3, 0, False, (2, 15))  ...            Actions.LEFT   \n",
       "...                                         ...  ...                     ...   \n",
       "980452       (random_agent_3, 0, True, (14, 1))  ...            Actions.WAIT   \n",
       "980453      (random_agent_3, 0, False, (14, 1))  ...            Actions.WAIT   \n",
       "980454      (random_agent_3, 0, False, (14, 1))  ...            Actions.WAIT   \n",
       "980455      (random_agent_3, 0, False, (14, 1))  ...            Actions.WAIT   \n",
       "980456      (random_agent_3, 0, False, (14, 1))  ...            Actions.WAIT   \n",
       "\n",
       "       agent_3_move_2_step_ago agent_0_move_3_step_ago  \\\n",
       "0                 Actions.NONE            Actions.NONE   \n",
       "1                 Actions.NONE            Actions.NONE   \n",
       "2                   Actions.UP            Actions.NONE   \n",
       "3                 Actions.BOMB              Actions.UP   \n",
       "4                 Actions.DOWN            Actions.BOMB   \n",
       "...                        ...                     ...   \n",
       "980452            Actions.LEFT            Actions.WAIT   \n",
       "980453            Actions.DOWN            Actions.WAIT   \n",
       "980454            Actions.BOMB            Actions.WAIT   \n",
       "980455              Actions.UP            Actions.WAIT   \n",
       "980456            Actions.DOWN            Actions.WAIT   \n",
       "\n",
       "       agent_1_move_3_step_ago  agent_2_move_3_step_ago  \\\n",
       "0                 Actions.NONE             Actions.NONE   \n",
       "1                 Actions.NONE             Actions.NONE   \n",
       "2                 Actions.NONE             Actions.NONE   \n",
       "3                 Actions.DOWN            Actions.RIGHT   \n",
       "4                 Actions.DOWN             Actions.BOMB   \n",
       "...                        ...                      ...   \n",
       "980452            Actions.WAIT             Actions.WAIT   \n",
       "980453            Actions.WAIT             Actions.WAIT   \n",
       "980454            Actions.WAIT             Actions.WAIT   \n",
       "980455            Actions.WAIT             Actions.WAIT   \n",
       "980456            Actions.WAIT             Actions.WAIT   \n",
       "\n",
       "       agent_3_move_3_step_ago agent_0_move_4_step_ago  \\\n",
       "0                 Actions.NONE            Actions.NONE   \n",
       "1                 Actions.NONE            Actions.NONE   \n",
       "2                 Actions.NONE            Actions.NONE   \n",
       "3                   Actions.UP            Actions.NONE   \n",
       "4                 Actions.BOMB              Actions.UP   \n",
       "...                        ...                     ...   \n",
       "980452            Actions.LEFT            Actions.WAIT   \n",
       "980453            Actions.LEFT            Actions.WAIT   \n",
       "980454            Actions.DOWN            Actions.WAIT   \n",
       "980455            Actions.BOMB            Actions.WAIT   \n",
       "980456              Actions.UP            Actions.WAIT   \n",
       "\n",
       "       agent_1_move_4_step_ago agent_2_move_4_step_ago agent_3_move_4_step_ago  \n",
       "0                 Actions.NONE            Actions.NONE            Actions.NONE  \n",
       "1                 Actions.NONE            Actions.NONE            Actions.NONE  \n",
       "2                 Actions.NONE            Actions.NONE            Actions.NONE  \n",
       "3                 Actions.NONE            Actions.NONE            Actions.NONE  \n",
       "4                 Actions.DOWN           Actions.RIGHT              Actions.UP  \n",
       "...                        ...                     ...                     ...  \n",
       "980452            Actions.WAIT            Actions.WAIT           Actions.RIGHT  \n",
       "980453            Actions.WAIT            Actions.WAIT            Actions.LEFT  \n",
       "980454            Actions.WAIT            Actions.WAIT            Actions.LEFT  \n",
       "980455            Actions.WAIT            Actions.WAIT            Actions.DOWN  \n",
       "980456            Actions.WAIT            Actions.WAIT            Actions.BOMB  \n",
       "\n",
       "[980457 rows x 31 columns]"
      ]
     },
     "execution_count": 9,
     "metadata": {},
     "output_type": "execute_result"
    }
   ],
   "source": [
    "data"
   ]
  },
  {
   "cell_type": "code",
   "execution_count": 35,
   "metadata": {},
   "outputs": [
    {
     "name": "stdout",
     "output_type": "stream",
     "text": [
      "<class 'pandas.core.series.Series'> 0            1\n",
      "1            1\n",
      "2            1\n",
      "3            1\n",
      "4            1\n",
      "          ... \n",
      "980452    2800\n",
      "980453    2800\n",
      "980454    2800\n",
      "980455    2800\n",
      "980456    2800\n",
      "Name: rounds, Length: 980457, dtype: int64\n",
      "<class 'pandas.core.series.Series'> 0          1\n",
      "1          2\n",
      "2          3\n",
      "3          4\n",
      "4          5\n",
      "          ..\n",
      "980452    23\n",
      "980453    24\n",
      "980454    25\n",
      "980455    26\n",
      "980456    27\n",
      "Name: step, Length: 980457, dtype: int64\n",
      "<class 'pandas.core.series.Series'> 0         [[-1, -1, -1, -1, -1, -1, -1, -1, -1, -1, -1, ...\n",
      "1         [[-1, -1, -1, -1, -1, -1, -1, -1, -1, -1, -1, ...\n",
      "2         [[-1, -1, -1, -1, -1, -1, -1, -1, -1, -1, -1, ...\n",
      "3         [[-1, -1, -1, -1, -1, -1, -1, -1, -1, -1, -1, ...\n",
      "4         [[-1, -1, -1, -1, -1, -1, -1, -1, -1, -1, -1, ...\n",
      "                                ...                        \n",
      "980452    [[-1, -1, -1, -1, -1, -1, -1, -1, -1, -1, -1, ...\n",
      "980453    [[-1, -1, -1, -1, -1, -1, -1, -1, -1, -1, -1, ...\n",
      "980454    [[-1, -1, -1, -1, -1, -1, -1, -1, -1, -1, -1, ...\n",
      "980455    [[-1, -1, -1, -1, -1, -1, -1, -1, -1, -1, -1, ...\n",
      "980456    [[-1, -1, -1, -1, -1, -1, -1, -1, -1, -1, -1, ...\n",
      "Name: field, Length: 980457, dtype: object\n",
      "<class 'pandas.core.series.Series'> 0                                                        []\n",
      "1                                                        []\n",
      "2                [((1, 14), 3), ((2, 1), 3), ((15, 14), 3)]\n",
      "3         [((1, 14), 2), ((2, 1), 2), ((15, 14), 2), ((1...\n",
      "4         [((1, 14), 1), ((2, 1), 1), ((15, 14), 1), ((1...\n",
      "                                ...                        \n",
      "980452                                                   []\n",
      "980453                                       [((14, 1), 3)]\n",
      "980454                                       [((14, 1), 2)]\n",
      "980455                                       [((14, 1), 1)]\n",
      "980456                                       [((14, 1), 0)]\n",
      "Name: bombs, Length: 980457, dtype: object\n",
      "<class 'pandas.core.series.Series'> 0               []\n",
      "1               []\n",
      "2               []\n",
      "3               []\n",
      "4               []\n",
      "            ...   \n",
      "980452    [(1, 4)]\n",
      "980453    [(1, 4)]\n",
      "980454    [(1, 4)]\n",
      "980455    [(1, 4)]\n",
      "980456    [(1, 4)]\n",
      "Name: coins, Length: 980457, dtype: object\n",
      "<class 'pandas.core.series.Series'> 0          (rule_based_agent_1, 0, True, (15, 1))\n",
      "1          (rule_based_agent_1, 0, True, (15, 2))\n",
      "2          (rule_based_agent_1, 0, True, (15, 3))\n",
      "3         (rule_based_agent_1, 0, False, (15, 3))\n",
      "4         (rule_based_agent_1, 0, False, (15, 2))\n",
      "                           ...                   \n",
      "980452        (random_agent_1, 0, True, (14, 15))\n",
      "980453        (random_agent_1, 0, True, (14, 15))\n",
      "980454        (random_agent_1, 0, True, (14, 15))\n",
      "980455        (random_agent_1, 0, True, (14, 15))\n",
      "980456        (random_agent_1, 0, True, (14, 15))\n",
      "Name: agent_1_state, Length: 980457, dtype: object\n",
      "<class 'pandas.core.series.Series'> 0         Actions.DOWN\n",
      "1         Actions.DOWN\n",
      "2         Actions.BOMB\n",
      "3           Actions.UP\n",
      "4           Actions.UP\n",
      "              ...     \n",
      "980452    Actions.WAIT\n",
      "980453    Actions.WAIT\n",
      "980454    Actions.WAIT\n",
      "980455    Actions.WAIT\n",
      "980456    Actions.WAIT\n",
      "Name: agent_1_action, Length: 980457, dtype: object\n",
      "<class 'pandas.core.series.Series'> 0          (rule_based_agent_2, 0, True, (1, 1))\n",
      "1          (rule_based_agent_2, 0, True, (2, 1))\n",
      "2         (rule_based_agent_2, 0, False, (2, 1))\n",
      "3         (rule_based_agent_2, 0, False, (1, 1))\n",
      "4         (rule_based_agent_2, 0, False, (1, 2))\n",
      "                           ...                  \n",
      "980452        (random_agent_2, 0, True, (1, 15))\n",
      "980453        (random_agent_2, 0, True, (1, 15))\n",
      "980454        (random_agent_2, 0, True, (1, 15))\n",
      "980455        (random_agent_2, 0, True, (1, 15))\n",
      "980456        (random_agent_2, 0, True, (1, 15))\n",
      "Name: agent_2_state, Length: 980457, dtype: object\n",
      "<class 'pandas.core.series.Series'> 0         Actions.RIGHT\n",
      "1          Actions.BOMB\n",
      "2          Actions.LEFT\n",
      "3          Actions.DOWN\n",
      "4            Actions.UP\n",
      "              ...      \n",
      "980452     Actions.WAIT\n",
      "980453     Actions.WAIT\n",
      "980454     Actions.WAIT\n",
      "980455     Actions.WAIT\n",
      "980456     Actions.WAIT\n",
      "Name: agent_2_action, Length: 980457, dtype: object\n",
      "<class 'pandas.core.series.Series'> 0          (rule_based_agent_3, 0, True, (1, 15))\n",
      "1          (rule_based_agent_3, 0, True, (1, 14))\n",
      "2         (rule_based_agent_3, 0, False, (1, 14))\n",
      "3         (rule_based_agent_3, 0, False, (1, 15))\n",
      "4         (rule_based_agent_3, 0, False, (2, 15))\n",
      "                           ...                   \n",
      "980452         (random_agent_3, 0, True, (14, 1))\n",
      "980453        (random_agent_3, 0, False, (14, 1))\n",
      "980454        (random_agent_3, 0, False, (14, 1))\n",
      "980455        (random_agent_3, 0, False, (14, 1))\n",
      "980456        (random_agent_3, 0, False, (14, 1))\n",
      "Name: agent_3_state, Length: 980457, dtype: object\n",
      "<class 'pandas.core.series.Series'> 0            Actions.UP\n",
      "1          Actions.BOMB\n",
      "2          Actions.DOWN\n",
      "3         Actions.RIGHT\n",
      "4          Actions.LEFT\n",
      "              ...      \n",
      "980452     Actions.BOMB\n",
      "980453       Actions.UP\n",
      "980454     Actions.DOWN\n",
      "980455     Actions.DOWN\n",
      "980456     Actions.DOWN\n",
      "Name: agent_3_action, Length: 980457, dtype: object\n",
      "<class 'pandas.core.series.Series'> 0            Actions.UP\n",
      "1          Actions.BOMB\n",
      "2          Actions.DOWN\n",
      "3          Actions.LEFT\n",
      "4         Actions.RIGHT\n",
      "              ...      \n",
      "980452     Actions.WAIT\n",
      "980453     Actions.WAIT\n",
      "980454     Actions.WAIT\n",
      "980455     Actions.WAIT\n",
      "980456     Actions.WAIT\n",
      "Name: agent_0_action, Length: 980457, dtype: object\n",
      "<class 'pandas.core.series.Series'> 0          (rule_based_agent_0, 0, True, (15, 15))\n",
      "1          (rule_based_agent_0, 0, True, (15, 14))\n",
      "2         (rule_based_agent_0, 0, False, (15, 14))\n",
      "3         (rule_based_agent_0, 0, False, (15, 15))\n",
      "4         (rule_based_agent_0, 0, False, (14, 15))\n",
      "                            ...                   \n",
      "980452           (random_agent_0, 0, True, (2, 1))\n",
      "980453           (random_agent_0, 0, True, (2, 1))\n",
      "980454           (random_agent_0, 0, True, (2, 1))\n",
      "980455           (random_agent_0, 0, True, (2, 1))\n",
      "980456           (random_agent_0, 0, True, (2, 1))\n",
      "Name: agent_0_state, Length: 980457, dtype: object\n",
      "<class 'pandas.core.series.Series'> 0         [[0.0, 0.0, 0.0, 0.0, 0.0, 0.0, 0.0, 0.0, 0.0,...\n",
      "1         [[0.0, 0.0, 0.0, 0.0, 0.0, 0.0, 0.0, 0.0, 0.0,...\n",
      "2         [[0.0, 0.0, 0.0, 0.0, 0.0, 0.0, 0.0, 0.0, 0.0,...\n",
      "3         [[0.0, 0.0, 0.0, 0.0, 0.0, 0.0, 0.0, 0.0, 0.0,...\n",
      "4         [[0.0, 0.0, 0.0, 0.0, 0.0, 0.0, 0.0, 0.0, 0.0,...\n",
      "                                ...                        \n",
      "980452    [[0.0, 0.0, 0.0, 0.0, 0.0, 0.0, 0.0, 0.0, 0.0,...\n",
      "980453    [[0.0, 0.0, 0.0, 0.0, 0.0, 0.0, 0.0, 0.0, 0.0,...\n",
      "980454    [[0.0, 0.0, 0.0, 0.0, 0.0, 0.0, 0.0, 0.0, 0.0,...\n",
      "980455    [[0.0, 0.0, 0.0, 0.0, 0.0, 0.0, 0.0, 0.0, 0.0,...\n",
      "980456    [[0.0, 0.0, 0.0, 0.0, 0.0, 0.0, 0.0, 0.0, 0.0,...\n",
      "Name: explosion_map, Length: 980457, dtype: object\n",
      "<class 'pandas.core.series.Series'> 0          1\n",
      "1          1\n",
      "2          1\n",
      "3          1\n",
      "4          1\n",
      "          ..\n",
      "980452    55\n",
      "980453    55\n",
      "980454    55\n",
      "980455    55\n",
      "980456    55\n",
      "Name: batch_number, Length: 980457, dtype: int64\n",
      "<class 'pandas.core.series.Series'> 0         Actions.NONE\n",
      "1           Actions.UP\n",
      "2         Actions.BOMB\n",
      "3         Actions.DOWN\n",
      "4         Actions.LEFT\n",
      "              ...     \n",
      "980452    Actions.WAIT\n",
      "980453    Actions.WAIT\n",
      "980454    Actions.WAIT\n",
      "980455    Actions.WAIT\n",
      "980456    Actions.WAIT\n",
      "Name: agent_0_move_1_step_ago, Length: 980457, dtype: object\n",
      "<class 'pandas.core.series.Series'> 0         Actions.NONE\n",
      "1         Actions.DOWN\n",
      "2         Actions.DOWN\n",
      "3         Actions.BOMB\n",
      "4           Actions.UP\n",
      "              ...     \n",
      "980452    Actions.WAIT\n",
      "980453    Actions.WAIT\n",
      "980454    Actions.WAIT\n",
      "980455    Actions.WAIT\n",
      "980456    Actions.WAIT\n",
      "Name: agent_1_move_1_step_ago, Length: 980457, dtype: object\n",
      "<class 'pandas.core.series.Series'> 0          Actions.NONE\n",
      "1         Actions.RIGHT\n",
      "2          Actions.BOMB\n",
      "3          Actions.LEFT\n",
      "4          Actions.DOWN\n",
      "              ...      \n",
      "980452     Actions.WAIT\n",
      "980453     Actions.WAIT\n",
      "980454     Actions.WAIT\n",
      "980455     Actions.WAIT\n",
      "980456     Actions.WAIT\n",
      "Name: agent_2_move_1_step_ago, Length: 980457, dtype: object\n",
      "<class 'pandas.core.series.Series'> 0          Actions.NONE\n",
      "1            Actions.UP\n",
      "2          Actions.BOMB\n",
      "3          Actions.DOWN\n",
      "4         Actions.RIGHT\n",
      "              ...      \n",
      "980452     Actions.DOWN\n",
      "980453     Actions.BOMB\n",
      "980454       Actions.UP\n",
      "980455     Actions.DOWN\n",
      "980456     Actions.DOWN\n",
      "Name: agent_3_move_1_step_ago, Length: 980457, dtype: object\n",
      "<class 'pandas.core.series.Series'> 0         Actions.NONE\n",
      "1         Actions.NONE\n",
      "2           Actions.UP\n",
      "3         Actions.BOMB\n",
      "4         Actions.DOWN\n",
      "              ...     \n",
      "980452    Actions.WAIT\n",
      "980453    Actions.WAIT\n",
      "980454    Actions.WAIT\n",
      "980455    Actions.WAIT\n",
      "980456    Actions.WAIT\n",
      "Name: agent_0_move_2_step_ago, Length: 980457, dtype: object\n",
      "<class 'pandas.core.series.Series'> 0         Actions.NONE\n",
      "1         Actions.NONE\n",
      "2         Actions.DOWN\n",
      "3         Actions.DOWN\n",
      "4         Actions.BOMB\n",
      "              ...     \n",
      "980452    Actions.WAIT\n",
      "980453    Actions.WAIT\n",
      "980454    Actions.WAIT\n",
      "980455    Actions.WAIT\n",
      "980456    Actions.WAIT\n",
      "Name: agent_1_move_2_step_ago, Length: 980457, dtype: object\n",
      "<class 'pandas.core.series.Series'> 0          Actions.NONE\n",
      "1          Actions.NONE\n",
      "2         Actions.RIGHT\n",
      "3          Actions.BOMB\n",
      "4          Actions.LEFT\n",
      "              ...      \n",
      "980452     Actions.WAIT\n",
      "980453     Actions.WAIT\n",
      "980454     Actions.WAIT\n",
      "980455     Actions.WAIT\n",
      "980456     Actions.WAIT\n",
      "Name: agent_2_move_2_step_ago, Length: 980457, dtype: object\n",
      "<class 'pandas.core.series.Series'> 0         Actions.NONE\n",
      "1         Actions.NONE\n",
      "2           Actions.UP\n",
      "3         Actions.BOMB\n",
      "4         Actions.DOWN\n",
      "              ...     \n",
      "980452    Actions.LEFT\n",
      "980453    Actions.DOWN\n",
      "980454    Actions.BOMB\n",
      "980455      Actions.UP\n",
      "980456    Actions.DOWN\n",
      "Name: agent_3_move_2_step_ago, Length: 980457, dtype: object\n",
      "<class 'pandas.core.series.Series'> 0         Actions.NONE\n",
      "1         Actions.NONE\n",
      "2         Actions.NONE\n",
      "3           Actions.UP\n",
      "4         Actions.BOMB\n",
      "              ...     \n",
      "980452    Actions.WAIT\n",
      "980453    Actions.WAIT\n",
      "980454    Actions.WAIT\n",
      "980455    Actions.WAIT\n",
      "980456    Actions.WAIT\n",
      "Name: agent_0_move_3_step_ago, Length: 980457, dtype: object\n",
      "<class 'pandas.core.series.Series'> 0         Actions.NONE\n",
      "1         Actions.NONE\n",
      "2         Actions.NONE\n",
      "3         Actions.DOWN\n",
      "4         Actions.DOWN\n",
      "              ...     \n",
      "980452    Actions.WAIT\n",
      "980453    Actions.WAIT\n",
      "980454    Actions.WAIT\n",
      "980455    Actions.WAIT\n",
      "980456    Actions.WAIT\n",
      "Name: agent_1_move_3_step_ago, Length: 980457, dtype: object\n",
      "<class 'pandas.core.series.Series'> 0          Actions.NONE\n",
      "1          Actions.NONE\n",
      "2          Actions.NONE\n",
      "3         Actions.RIGHT\n",
      "4          Actions.BOMB\n",
      "              ...      \n",
      "980452     Actions.WAIT\n",
      "980453     Actions.WAIT\n",
      "980454     Actions.WAIT\n",
      "980455     Actions.WAIT\n",
      "980456     Actions.WAIT\n",
      "Name: agent_2_move_3_step_ago, Length: 980457, dtype: object\n",
      "<class 'pandas.core.series.Series'> 0         Actions.NONE\n",
      "1         Actions.NONE\n",
      "2         Actions.NONE\n",
      "3           Actions.UP\n",
      "4         Actions.BOMB\n",
      "              ...     \n",
      "980452    Actions.LEFT\n",
      "980453    Actions.LEFT\n",
      "980454    Actions.DOWN\n",
      "980455    Actions.BOMB\n",
      "980456      Actions.UP\n",
      "Name: agent_3_move_3_step_ago, Length: 980457, dtype: object\n",
      "<class 'pandas.core.series.Series'> 0         Actions.NONE\n",
      "1         Actions.NONE\n",
      "2         Actions.NONE\n",
      "3         Actions.NONE\n",
      "4           Actions.UP\n",
      "              ...     \n",
      "980452    Actions.WAIT\n",
      "980453    Actions.WAIT\n",
      "980454    Actions.WAIT\n",
      "980455    Actions.WAIT\n",
      "980456    Actions.WAIT\n",
      "Name: agent_0_move_4_step_ago, Length: 980457, dtype: object\n",
      "<class 'pandas.core.series.Series'> 0         Actions.NONE\n",
      "1         Actions.NONE\n",
      "2         Actions.NONE\n",
      "3         Actions.NONE\n",
      "4         Actions.DOWN\n",
      "              ...     \n",
      "980452    Actions.WAIT\n",
      "980453    Actions.WAIT\n",
      "980454    Actions.WAIT\n",
      "980455    Actions.WAIT\n",
      "980456    Actions.WAIT\n",
      "Name: agent_1_move_4_step_ago, Length: 980457, dtype: object\n",
      "<class 'pandas.core.series.Series'> 0          Actions.NONE\n",
      "1          Actions.NONE\n",
      "2          Actions.NONE\n",
      "3          Actions.NONE\n",
      "4         Actions.RIGHT\n",
      "              ...      \n",
      "980452     Actions.WAIT\n",
      "980453     Actions.WAIT\n",
      "980454     Actions.WAIT\n",
      "980455     Actions.WAIT\n",
      "980456     Actions.WAIT\n",
      "Name: agent_2_move_4_step_ago, Length: 980457, dtype: object\n",
      "<class 'pandas.core.series.Series'> 0          Actions.NONE\n",
      "1          Actions.NONE\n",
      "2          Actions.NONE\n",
      "3          Actions.NONE\n",
      "4            Actions.UP\n",
      "              ...      \n",
      "980452    Actions.RIGHT\n",
      "980453     Actions.LEFT\n",
      "980454     Actions.LEFT\n",
      "980455     Actions.DOWN\n",
      "980456     Actions.BOMB\n",
      "Name: agent_3_move_4_step_ago, Length: 980457, dtype: object\n",
      "<class 'pandas.core.series.Series'> 0          (rule_based_agent_0, 0, True, (15, 15))\n",
      "1          (rule_based_agent_0, 0, True, (15, 14))\n",
      "2         (rule_based_agent_0, 0, False, (15, 14))\n",
      "3         (rule_based_agent_0, 0, False, (15, 15))\n",
      "4         (rule_based_agent_0, 0, False, (14, 15))\n",
      "                            ...                   \n",
      "980452           (random_agent_0, 0, True, (2, 1))\n",
      "980453           (random_agent_0, 0, True, (2, 1))\n",
      "980454           (random_agent_0, 0, True, (2, 1))\n",
      "980455           (random_agent_0, 0, True, (2, 1))\n",
      "980456           (random_agent_0, 0, True, (2, 1))\n",
      "Name: self, Length: 980457, dtype: object\n",
      "<class 'pandas.core.series.Series'> 0         [(rule_based_agent_1, 0, True, (15, 1)), (rule...\n",
      "1         [(rule_based_agent_1, 0, True, (15, 2)), (rule...\n",
      "2         [(rule_based_agent_1, 0, True, (15, 3)), (rule...\n",
      "3         [(rule_based_agent_1, 0, False, (15, 3)), (rul...\n",
      "4         [(rule_based_agent_1, 0, False, (15, 2)), (rul...\n",
      "                                ...                        \n",
      "980452    [(random_agent_1, 0, True, (14, 15)), (random_...\n",
      "980453    [(random_agent_1, 0, True, (14, 15)), (random_...\n",
      "980454    [(random_agent_1, 0, True, (14, 15)), (random_...\n",
      "980455    [(random_agent_1, 0, True, (14, 15)), (random_...\n",
      "980456    [(random_agent_1, 0, True, (14, 15)), (random_...\n",
      "Name: others, Length: 980457, dtype: object\n"
     ]
    },
    {
     "data": {
      "text/plain": [
       "rounds                     None\n",
       "step                       None\n",
       "field                      None\n",
       "bombs                      None\n",
       "coins                      None\n",
       "agent_1_state              None\n",
       "agent_1_action             None\n",
       "agent_2_state              None\n",
       "agent_2_action             None\n",
       "agent_3_state              None\n",
       "agent_3_action             None\n",
       "agent_0_action             None\n",
       "agent_0_state              None\n",
       "explosion_map              None\n",
       "batch_number               None\n",
       "agent_0_move_1_step_ago    None\n",
       "agent_1_move_1_step_ago    None\n",
       "agent_2_move_1_step_ago    None\n",
       "agent_3_move_1_step_ago    None\n",
       "agent_0_move_2_step_ago    None\n",
       "agent_1_move_2_step_ago    None\n",
       "agent_2_move_2_step_ago    None\n",
       "agent_3_move_2_step_ago    None\n",
       "agent_0_move_3_step_ago    None\n",
       "agent_1_move_3_step_ago    None\n",
       "agent_2_move_3_step_ago    None\n",
       "agent_3_move_3_step_ago    None\n",
       "agent_0_move_4_step_ago    None\n",
       "agent_1_move_4_step_ago    None\n",
       "agent_2_move_4_step_ago    None\n",
       "agent_3_move_4_step_ago    None\n",
       "self                       None\n",
       "others                     None\n",
       "dtype: object"
      ]
     },
     "execution_count": 35,
     "metadata": {},
     "output_type": "execute_result"
    }
   ],
   "source": [
    "data.apply(lambda x: print(type(x), x))"
   ]
  },
  {
   "cell_type": "code",
   "execution_count": null,
   "metadata": {},
   "outputs": [],
   "source": []
  },
  {
   "cell_type": "code",
   "execution_count": 40,
   "metadata": {},
   "outputs": [
    {
     "name": "stderr",
     "output_type": "stream",
     "text": [
      "Widget Javascript not detected.  It may not be installed or enabled properly.\n"
     ]
    },
    {
     "data": {
      "application/vnd.jupyter.widget-view+json": {
       "model_id": "d9fd818be74d4fad9a4ba5c6bd6f4d32"
      }
     },
     "metadata": {},
     "output_type": "display_data"
    },
    {
     "ename": "KeyboardInterrupt",
     "evalue": "",
     "output_type": "error",
     "traceback": [
      "\u001b[0;31m---------------------------------------------------------------------------\u001b[0m",
      "\u001b[0;31mKeyboardInterrupt\u001b[0m                         Traceback (most recent call last)",
      "\u001b[0;32m<ipython-input-40-bf63d0e4eb0b>\u001b[0m in \u001b[0;36m<module>\u001b[0;34m\u001b[0m\n\u001b[1;32m      5\u001b[0m                                              if i != agent]]\\\n\u001b[1;32m      6\u001b[0m                                .values.tolist())\n\u001b[0;32m----> 7\u001b[0;31m     \u001b[0mdata\u001b[0m\u001b[0;34m[\u001b[0m\u001b[0;34mf\"agent_{agent}_graph\"\u001b[0m\u001b[0;34m]\u001b[0m \u001b[0;34m=\u001b[0m \u001b[0mdata\u001b[0m\u001b[0;34m.\u001b[0m\u001b[0mapply\u001b[0m\u001b[0;34m(\u001b[0m\u001b[0mMovementGraph\u001b[0m\u001b[0;34m,\u001b[0m \u001b[0maxis\u001b[0m\u001b[0;34m=\u001b[0m\u001b[0;36m1\u001b[0m\u001b[0;34m)\u001b[0m\u001b[0;34m\u001b[0m\u001b[0;34m\u001b[0m\u001b[0m\n\u001b[0m",
      "\u001b[0;32m~/.local/lib/python3.8/site-packages/pandas/core/frame.py\u001b[0m in \u001b[0;36mapply\u001b[0;34m(self, func, axis, raw, result_type, args, **kwargs)\u001b[0m\n\u001b[1;32m   8831\u001b[0m             \u001b[0mkwargs\u001b[0m\u001b[0;34m=\u001b[0m\u001b[0mkwargs\u001b[0m\u001b[0;34m,\u001b[0m\u001b[0;34m\u001b[0m\u001b[0;34m\u001b[0m\u001b[0m\n\u001b[1;32m   8832\u001b[0m         )\n\u001b[0;32m-> 8833\u001b[0;31m         \u001b[0;32mreturn\u001b[0m \u001b[0mop\u001b[0m\u001b[0;34m.\u001b[0m\u001b[0mapply\u001b[0m\u001b[0;34m(\u001b[0m\u001b[0;34m)\u001b[0m\u001b[0;34m.\u001b[0m\u001b[0m__finalize__\u001b[0m\u001b[0;34m(\u001b[0m\u001b[0mself\u001b[0m\u001b[0;34m,\u001b[0m \u001b[0mmethod\u001b[0m\u001b[0;34m=\u001b[0m\u001b[0;34m\"apply\"\u001b[0m\u001b[0;34m)\u001b[0m\u001b[0;34m\u001b[0m\u001b[0;34m\u001b[0m\u001b[0m\n\u001b[0m\u001b[1;32m   8834\u001b[0m \u001b[0;34m\u001b[0m\u001b[0m\n\u001b[1;32m   8835\u001b[0m     def applymap(\n",
      "\u001b[0;32m~/.local/lib/python3.8/site-packages/pandas/core/apply.py\u001b[0m in \u001b[0;36mapply\u001b[0;34m(self)\u001b[0m\n\u001b[1;32m    725\u001b[0m             \u001b[0;32mreturn\u001b[0m \u001b[0mself\u001b[0m\u001b[0;34m.\u001b[0m\u001b[0mapply_raw\u001b[0m\u001b[0;34m(\u001b[0m\u001b[0;34m)\u001b[0m\u001b[0;34m\u001b[0m\u001b[0;34m\u001b[0m\u001b[0m\n\u001b[1;32m    726\u001b[0m \u001b[0;34m\u001b[0m\u001b[0m\n\u001b[0;32m--> 727\u001b[0;31m         \u001b[0;32mreturn\u001b[0m \u001b[0mself\u001b[0m\u001b[0;34m.\u001b[0m\u001b[0mapply_standard\u001b[0m\u001b[0;34m(\u001b[0m\u001b[0;34m)\u001b[0m\u001b[0;34m\u001b[0m\u001b[0;34m\u001b[0m\u001b[0m\n\u001b[0m\u001b[1;32m    728\u001b[0m \u001b[0;34m\u001b[0m\u001b[0m\n\u001b[1;32m    729\u001b[0m     \u001b[0;32mdef\u001b[0m \u001b[0magg\u001b[0m\u001b[0;34m(\u001b[0m\u001b[0mself\u001b[0m\u001b[0;34m)\u001b[0m\u001b[0;34m:\u001b[0m\u001b[0;34m\u001b[0m\u001b[0;34m\u001b[0m\u001b[0m\n",
      "\u001b[0;32m~/.local/lib/python3.8/site-packages/pandas/core/apply.py\u001b[0m in \u001b[0;36mapply_standard\u001b[0;34m(self)\u001b[0m\n\u001b[1;32m    849\u001b[0m \u001b[0;34m\u001b[0m\u001b[0m\n\u001b[1;32m    850\u001b[0m     \u001b[0;32mdef\u001b[0m \u001b[0mapply_standard\u001b[0m\u001b[0;34m(\u001b[0m\u001b[0mself\u001b[0m\u001b[0;34m)\u001b[0m\u001b[0;34m:\u001b[0m\u001b[0;34m\u001b[0m\u001b[0;34m\u001b[0m\u001b[0m\n\u001b[0;32m--> 851\u001b[0;31m         \u001b[0mresults\u001b[0m\u001b[0;34m,\u001b[0m \u001b[0mres_index\u001b[0m \u001b[0;34m=\u001b[0m \u001b[0mself\u001b[0m\u001b[0;34m.\u001b[0m\u001b[0mapply_series_generator\u001b[0m\u001b[0;34m(\u001b[0m\u001b[0;34m)\u001b[0m\u001b[0;34m\u001b[0m\u001b[0;34m\u001b[0m\u001b[0m\n\u001b[0m\u001b[1;32m    852\u001b[0m \u001b[0;34m\u001b[0m\u001b[0m\n\u001b[1;32m    853\u001b[0m         \u001b[0;31m# wrap results\u001b[0m\u001b[0;34m\u001b[0m\u001b[0;34m\u001b[0m\u001b[0;34m\u001b[0m\u001b[0m\n",
      "\u001b[0;32m~/.local/lib/python3.8/site-packages/pandas/core/apply.py\u001b[0m in \u001b[0;36mapply_series_generator\u001b[0;34m(self)\u001b[0m\n\u001b[1;32m    865\u001b[0m             \u001b[0;32mfor\u001b[0m \u001b[0mi\u001b[0m\u001b[0;34m,\u001b[0m \u001b[0mv\u001b[0m \u001b[0;32min\u001b[0m \u001b[0menumerate\u001b[0m\u001b[0;34m(\u001b[0m\u001b[0mseries_gen\u001b[0m\u001b[0;34m)\u001b[0m\u001b[0;34m:\u001b[0m\u001b[0;34m\u001b[0m\u001b[0;34m\u001b[0m\u001b[0m\n\u001b[1;32m    866\u001b[0m                 \u001b[0;31m# ignore SettingWithCopy here in case the user mutates\u001b[0m\u001b[0;34m\u001b[0m\u001b[0;34m\u001b[0m\u001b[0;34m\u001b[0m\u001b[0m\n\u001b[0;32m--> 867\u001b[0;31m                 \u001b[0mresults\u001b[0m\u001b[0;34m[\u001b[0m\u001b[0mi\u001b[0m\u001b[0;34m]\u001b[0m \u001b[0;34m=\u001b[0m \u001b[0mself\u001b[0m\u001b[0;34m.\u001b[0m\u001b[0mf\u001b[0m\u001b[0;34m(\u001b[0m\u001b[0mv\u001b[0m\u001b[0;34m)\u001b[0m\u001b[0;34m\u001b[0m\u001b[0;34m\u001b[0m\u001b[0m\n\u001b[0m\u001b[1;32m    868\u001b[0m                 \u001b[0;32mif\u001b[0m \u001b[0misinstance\u001b[0m\u001b[0;34m(\u001b[0m\u001b[0mresults\u001b[0m\u001b[0;34m[\u001b[0m\u001b[0mi\u001b[0m\u001b[0;34m]\u001b[0m\u001b[0;34m,\u001b[0m \u001b[0mABCSeries\u001b[0m\u001b[0;34m)\u001b[0m\u001b[0;34m:\u001b[0m\u001b[0;34m\u001b[0m\u001b[0;34m\u001b[0m\u001b[0m\n\u001b[1;32m    869\u001b[0m                     \u001b[0;31m# If we have a view on v, we need to make a copy because\u001b[0m\u001b[0;34m\u001b[0m\u001b[0;34m\u001b[0m\u001b[0;34m\u001b[0m\u001b[0m\n",
      "\u001b[0;32m~/projects/FML/bomberman_rl/agent_code/my_agent/features/movement_graph.py\u001b[0m in \u001b[0;36m__init__\u001b[0;34m(self, game_state)\u001b[0m\n\u001b[1;32m     47\u001b[0m                         \u001b[0mnode_obstructed\u001b[0m \u001b[0;34m=\u001b[0m \u001b[0mself\u001b[0m\u001b[0;34m.\u001b[0m\u001b[0m_node_obstructed\u001b[0m\u001b[0;34m(\u001b[0m\u001b[0mnode\u001b[0m\u001b[0;34m)\u001b[0m\u001b[0;34m\u001b[0m\u001b[0;34m\u001b[0m\u001b[0m\n\u001b[1;32m     48\u001b[0m                         \u001b[0mself\u001b[0m\u001b[0;34m.\u001b[0m\u001b[0mobstructed\u001b[0m\u001b[0;34m[\u001b[0m\u001b[0mnode\u001b[0m\u001b[0;34m]\u001b[0m \u001b[0;34m=\u001b[0m \u001b[0mnode_obstructed\u001b[0m\u001b[0;34m\u001b[0m\u001b[0;34m\u001b[0m\u001b[0m\n\u001b[0;32m---> 49\u001b[0;31m                         \u001b[0mneighbor_obstructed\u001b[0m \u001b[0;34m=\u001b[0m \u001b[0mself\u001b[0m\u001b[0;34m.\u001b[0m\u001b[0m_node_obstructed\u001b[0m\u001b[0;34m(\u001b[0m\u001b[0mneighbor\u001b[0m\u001b[0;34m)\u001b[0m\u001b[0;34m\u001b[0m\u001b[0;34m\u001b[0m\u001b[0m\n\u001b[0m\u001b[1;32m     50\u001b[0m                         \u001b[0;32mif\u001b[0m \u001b[0;32mnot\u001b[0m \u001b[0mnode_obstructed\u001b[0m \u001b[0;32mand\u001b[0m \u001b[0;32mnot\u001b[0m \u001b[0mneighbor_obstructed\u001b[0m\u001b[0;34m:\u001b[0m\u001b[0;34m\u001b[0m\u001b[0;34m\u001b[0m\u001b[0m\n\u001b[1;32m     51\u001b[0m                             \u001b[0mrow\u001b[0m\u001b[0;34m.\u001b[0m\u001b[0mappend\u001b[0m\u001b[0;34m(\u001b[0m\u001b[0mnode\u001b[0m\u001b[0;34m)\u001b[0m\u001b[0;34m\u001b[0m\u001b[0;34m\u001b[0m\u001b[0m\n",
      "\u001b[0;32m~/projects/FML/bomberman_rl/agent_code/my_agent/features/movement_graph.py\u001b[0m in \u001b[0;36m_node_obstructed\u001b[0;34m(self, node)\u001b[0m\n\u001b[1;32m     60\u001b[0m         \u001b[0;31m# Check if the field is obstructed at the node by wither a wall, a boy or an explosion\u001b[0m\u001b[0;34m\u001b[0m\u001b[0;34m\u001b[0m\u001b[0;34m\u001b[0m\u001b[0m\n\u001b[1;32m     61\u001b[0m         \u001b[0mx\u001b[0m\u001b[0;34m,\u001b[0m \u001b[0my\u001b[0m \u001b[0;34m=\u001b[0m \u001b[0mto_index\u001b[0m\u001b[0;34m(\u001b[0m\u001b[0mnode\u001b[0m\u001b[0;34m)\u001b[0m\u001b[0;34m\u001b[0m\u001b[0;34m\u001b[0m\u001b[0m\n\u001b[0;32m---> 62\u001b[0;31m         \u001b[0;32mreturn\u001b[0m \u001b[0mself\u001b[0m\u001b[0;34m.\u001b[0m\u001b[0m_index_obstructed\u001b[0m\u001b[0;34m(\u001b[0m\u001b[0;34m(\u001b[0m\u001b[0mx\u001b[0m\u001b[0;34m,\u001b[0m \u001b[0my\u001b[0m\u001b[0;34m)\u001b[0m\u001b[0;34m)\u001b[0m\u001b[0;34m\u001b[0m\u001b[0;34m\u001b[0m\u001b[0m\n\u001b[0m\u001b[1;32m     63\u001b[0m \u001b[0;34m\u001b[0m\u001b[0m\n\u001b[1;32m     64\u001b[0m \u001b[0;34m\u001b[0m\u001b[0m\n",
      "\u001b[0;32m~/projects/FML/bomberman_rl/agent_code/my_agent/features/movement_graph.py\u001b[0m in \u001b[0;36m_index_obstructed\u001b[0;34m(self, index)\u001b[0m\n\u001b[1;32m    164\u001b[0m                 \u001b[0;32mif\u001b[0m \u001b[0mself\u001b[0m\u001b[0;34m.\u001b[0m\u001b[0mfield\u001b[0m\u001b[0;34m[\u001b[0m\u001b[0mxb\u001b[0m\u001b[0;34m,\u001b[0m \u001b[0myb\u001b[0m \u001b[0;34m-\u001b[0m \u001b[0mi\u001b[0m\u001b[0;34m]\u001b[0m \u001b[0;34m==\u001b[0m \u001b[0;34m-\u001b[0m\u001b[0;36m1\u001b[0m\u001b[0;34m:\u001b[0m\u001b[0;34m\u001b[0m\u001b[0;34m\u001b[0m\u001b[0m\n\u001b[1;32m    165\u001b[0m                     \u001b[0;32mbreak\u001b[0m\u001b[0;34m\u001b[0m\u001b[0;34m\u001b[0m\u001b[0m\n\u001b[0;32m--> 166\u001b[0;31m                 \u001b[0;32mif\u001b[0m \u001b[0ms\u001b[0m\u001b[0;34m.\u001b[0m\u001b[0mROWS\u001b[0m \u001b[0;34m>\u001b[0m \u001b[0myb\u001b[0m \u001b[0;34m-\u001b[0m \u001b[0mi\u001b[0m \u001b[0;34m>\u001b[0m \u001b[0;36m0\u001b[0m\u001b[0;34m:\u001b[0m\u001b[0;34m\u001b[0m\u001b[0;34m\u001b[0m\u001b[0m\n\u001b[0m\u001b[1;32m    167\u001b[0m                     \u001b[0mblast_indices\u001b[0m\u001b[0;34m.\u001b[0m\u001b[0mappend\u001b[0m\u001b[0;34m(\u001b[0m\u001b[0;34m(\u001b[0m\u001b[0mxb\u001b[0m\u001b[0;34m,\u001b[0m \u001b[0myb\u001b[0m \u001b[0;34m-\u001b[0m \u001b[0mi\u001b[0m\u001b[0;34m)\u001b[0m\u001b[0;34m)\u001b[0m\u001b[0;34m\u001b[0m\u001b[0;34m\u001b[0m\u001b[0m\n\u001b[1;32m    168\u001b[0m             \u001b[0;32mif\u001b[0m \u001b[0;34m(\u001b[0m\u001b[0mx\u001b[0m\u001b[0;34m,\u001b[0m \u001b[0my\u001b[0m\u001b[0;34m)\u001b[0m \u001b[0;32min\u001b[0m \u001b[0mblast_indices\u001b[0m \u001b[0;32mand\u001b[0m \u001b[0mtime_till_explosion\u001b[0m \u001b[0;34m==\u001b[0m \u001b[0;36m0\u001b[0m\u001b[0;34m:\u001b[0m\u001b[0;34m\u001b[0m\u001b[0;34m\u001b[0m\u001b[0m\n",
      "\u001b[0;31mKeyboardInterrupt\u001b[0m: "
     ]
    }
   ],
   "source": [
    "for agent in tqdm(range(4)):\n",
    "    data[\"self\"] = data[f\"agent_{agent}_state\"]\n",
    "    data[\"others\"] = pd.Series(data[[f\"agent_{i}_state\"\n",
    "                                         for i in range(0, 4)\n",
    "                                             if i != agent]]\\\n",
    "                               .values.tolist())\n",
    "    data[f\"agent_{agent}_graph\"] = data.apply(MovementGraph, axis=1)"
   ]
  },
  {
   "cell_type": "code",
   "execution_count": 29,
   "metadata": {},
   "outputs": [
    {
     "data": {
      "text/plain": [
       "0         [(rule_based_agent_1, 0, True, (15, 1)), (rule...\n",
       "1         [(rule_based_agent_1, 0, True, (15, 2)), (rule...\n",
       "2         [(rule_based_agent_1, 0, True, (15, 3)), (rule...\n",
       "3         [(rule_based_agent_1, 0, False, (15, 3)), (rul...\n",
       "4         [(rule_based_agent_1, 0, False, (15, 2)), (rul...\n",
       "                                ...                        \n",
       "980452    [(random_agent_1, 0, True, (14, 15)), (random_...\n",
       "980453    [(random_agent_1, 0, True, (14, 15)), (random_...\n",
       "980454    [(random_agent_1, 0, True, (14, 15)), (random_...\n",
       "980455    [(random_agent_1, 0, True, (14, 15)), (random_...\n",
       "980456    [(random_agent_1, 0, True, (14, 15)), (random_...\n",
       "Length: 980457, dtype: object"
      ]
     },
     "execution_count": 29,
     "metadata": {},
     "output_type": "execute_result"
    }
   ],
   "source": []
  },
  {
   "cell_type": "code",
   "execution_count": null,
   "metadata": {},
   "outputs": [],
   "source": []
  },
  {
   "cell_type": "code",
   "execution_count": null,
   "metadata": {},
   "outputs": [],
   "source": []
  },
  {
   "cell_type": "code",
   "execution_count": 13,
   "metadata": {},
   "outputs": [],
   "source": [
    "def compute_movement_graph_for_step(step):\n",
    "    for j in range(4):\n",
    "        step[\"self\"] = step[f\"agent_{j}_state\"]\n",
    "        step[\"others\"] = [step[f\"agent_{i}_state\"] for i in range(1, 4) if i != j]\n",
    "        step[f\"agent_{j}_graph\"] = MovementGraph(step)\n",
    "    return step\n",
    "\n",
    "\n",
    "fc = FeatureCollector.create_current_version()\n",
    "def compute_features(step):\n",
    "    step = compute_movement_graph_for_step(step)\n",
    "    return fc.compute_feature(step, step)"
   ]
  },
  {
   "cell_type": "code",
   "execution_count": null,
   "metadata": {},
   "outputs": [],
   "source": []
  },
  {
   "cell_type": "code",
   "execution_count": 15,
   "metadata": {},
   "outputs": [
    {
     "ename": "AttributeError",
     "evalue": "'Series' object has no attribute 'past_moves'",
     "output_type": "error",
     "traceback": [
      "\u001b[0;31m---------------------------------------------------------------------------\u001b[0m",
      "\u001b[0;31mAttributeError\u001b[0m                            Traceback (most recent call last)",
      "\u001b[0;32m<ipython-input-15-a49eb505063e>\u001b[0m in \u001b[0;36m<module>\u001b[0;34m\u001b[0m\n\u001b[0;32m----> 1\u001b[0;31m \u001b[0mcompute_features\u001b[0m\u001b[0;34m(\u001b[0m\u001b[0mdata\u001b[0m\u001b[0;34m.\u001b[0m\u001b[0miloc\u001b[0m\u001b[0;34m[\u001b[0m\u001b[0;36m0\u001b[0m\u001b[0;34m]\u001b[0m\u001b[0;34m.\u001b[0m\u001b[0mcopy\u001b[0m\u001b[0;34m(\u001b[0m\u001b[0;34m)\u001b[0m\u001b[0;34m)\u001b[0m\u001b[0;34m\u001b[0m\u001b[0;34m\u001b[0m\u001b[0m\n\u001b[0m",
      "\u001b[0;32m<ipython-input-13-576995efde17>\u001b[0m in \u001b[0;36mcompute_features\u001b[0;34m(step)\u001b[0m\n\u001b[1;32m     10\u001b[0m \u001b[0;32mdef\u001b[0m \u001b[0mcompute_features\u001b[0m\u001b[0;34m(\u001b[0m\u001b[0mstep\u001b[0m\u001b[0;34m)\u001b[0m\u001b[0;34m:\u001b[0m\u001b[0;34m\u001b[0m\u001b[0;34m\u001b[0m\u001b[0m\n\u001b[1;32m     11\u001b[0m     \u001b[0mstep\u001b[0m \u001b[0;34m=\u001b[0m \u001b[0mcompute_movement_graph_for_step\u001b[0m\u001b[0;34m(\u001b[0m\u001b[0mstep\u001b[0m\u001b[0;34m)\u001b[0m\u001b[0;34m\u001b[0m\u001b[0;34m\u001b[0m\u001b[0m\n\u001b[0;32m---> 12\u001b[0;31m     \u001b[0;32mreturn\u001b[0m \u001b[0mfc\u001b[0m\u001b[0;34m.\u001b[0m\u001b[0mcompute_feature\u001b[0m\u001b[0;34m(\u001b[0m\u001b[0mstep\u001b[0m\u001b[0;34m,\u001b[0m \u001b[0mstep\u001b[0m\u001b[0;34m)\u001b[0m\u001b[0;34m\u001b[0m\u001b[0;34m\u001b[0m\u001b[0m\n\u001b[0m",
      "\u001b[0;32m~/projects/FML/bomberman_rl/agent_code/my_agent/features/feature.py\u001b[0m in \u001b[0;36mcompute_feature\u001b[0;34m(self, game_state, self_obj)\u001b[0m\n\u001b[1;32m    517\u001b[0m         \u001b[0mself_obj\u001b[0m\u001b[0;34m.\u001b[0m\u001b[0mmovement_graph\u001b[0m \u001b[0;34m=\u001b[0m \u001b[0mMovementGraph\u001b[0m\u001b[0;34m(\u001b[0m\u001b[0mgame_state\u001b[0m\u001b[0;34m)\u001b[0m\u001b[0;34m\u001b[0m\u001b[0;34m\u001b[0m\u001b[0m\n\u001b[1;32m    518\u001b[0m \u001b[0;34m\u001b[0m\u001b[0m\n\u001b[0;32m--> 519\u001b[0;31m         \u001b[0mvecs\u001b[0m \u001b[0;34m=\u001b[0m \u001b[0;34m[\u001b[0m\u001b[0mf\u001b[0m\u001b[0;34m.\u001b[0m\u001b[0mcompute_feature\u001b[0m\u001b[0;34m(\u001b[0m\u001b[0mgame_state\u001b[0m\u001b[0;34m,\u001b[0m \u001b[0mself_obj\u001b[0m\u001b[0;34m)\u001b[0m\u001b[0;34m.\u001b[0m\u001b[0mflatten\u001b[0m\u001b[0;34m(\u001b[0m\u001b[0;34m)\u001b[0m \u001b[0;32mfor\u001b[0m \u001b[0mf\u001b[0m \u001b[0;32min\u001b[0m \u001b[0mself\u001b[0m\u001b[0;34m.\u001b[0m\u001b[0mfeatures\u001b[0m\u001b[0;34m]\u001b[0m\u001b[0;34m\u001b[0m\u001b[0;34m\u001b[0m\u001b[0m\n\u001b[0m\u001b[1;32m    520\u001b[0m \u001b[0;34m\u001b[0m\u001b[0m\n\u001b[1;32m    521\u001b[0m         \u001b[0;32mreturn\u001b[0m \u001b[0mnp\u001b[0m\u001b[0;34m.\u001b[0m\u001b[0mconcatenate\u001b[0m\u001b[0;34m(\u001b[0m\u001b[0mvecs\u001b[0m\u001b[0;34m)\u001b[0m\u001b[0;34m\u001b[0m\u001b[0;34m\u001b[0m\u001b[0m\n",
      "\u001b[0;32m~/projects/FML/bomberman_rl/agent_code/my_agent/features/feature.py\u001b[0m in \u001b[0;36m<listcomp>\u001b[0;34m(.0)\u001b[0m\n\u001b[1;32m    517\u001b[0m         \u001b[0mself_obj\u001b[0m\u001b[0;34m.\u001b[0m\u001b[0mmovement_graph\u001b[0m \u001b[0;34m=\u001b[0m \u001b[0mMovementGraph\u001b[0m\u001b[0;34m(\u001b[0m\u001b[0mgame_state\u001b[0m\u001b[0;34m)\u001b[0m\u001b[0;34m\u001b[0m\u001b[0;34m\u001b[0m\u001b[0m\n\u001b[1;32m    518\u001b[0m \u001b[0;34m\u001b[0m\u001b[0m\n\u001b[0;32m--> 519\u001b[0;31m         \u001b[0mvecs\u001b[0m \u001b[0;34m=\u001b[0m \u001b[0;34m[\u001b[0m\u001b[0mf\u001b[0m\u001b[0;34m.\u001b[0m\u001b[0mcompute_feature\u001b[0m\u001b[0;34m(\u001b[0m\u001b[0mgame_state\u001b[0m\u001b[0;34m,\u001b[0m \u001b[0mself_obj\u001b[0m\u001b[0;34m)\u001b[0m\u001b[0;34m.\u001b[0m\u001b[0mflatten\u001b[0m\u001b[0;34m(\u001b[0m\u001b[0;34m)\u001b[0m \u001b[0;32mfor\u001b[0m \u001b[0mf\u001b[0m \u001b[0;32min\u001b[0m \u001b[0mself\u001b[0m\u001b[0;34m.\u001b[0m\u001b[0mfeatures\u001b[0m\u001b[0;34m]\u001b[0m\u001b[0;34m\u001b[0m\u001b[0;34m\u001b[0m\u001b[0m\n\u001b[0m\u001b[1;32m    520\u001b[0m \u001b[0;34m\u001b[0m\u001b[0m\n\u001b[1;32m    521\u001b[0m         \u001b[0;32mreturn\u001b[0m \u001b[0mnp\u001b[0m\u001b[0;34m.\u001b[0m\u001b[0mconcatenate\u001b[0m\u001b[0;34m(\u001b[0m\u001b[0mvecs\u001b[0m\u001b[0;34m)\u001b[0m\u001b[0;34m\u001b[0m\u001b[0;34m\u001b[0m\u001b[0m\n",
      "\u001b[0;32m~/projects/FML/bomberman_rl/agent_code/my_agent/features/feature.py\u001b[0m in \u001b[0;36mcompute_feature\u001b[0;34m(self, game_state, self_obj)\u001b[0m\n\u001b[1;32m    306\u001b[0m \u001b[0;34m\u001b[0m\u001b[0m\n\u001b[1;32m    307\u001b[0m     \u001b[0;32mdef\u001b[0m \u001b[0mcompute_feature\u001b[0m\u001b[0;34m(\u001b[0m\u001b[0mself\u001b[0m\u001b[0;34m,\u001b[0m \u001b[0mgame_state\u001b[0m\u001b[0;34m:\u001b[0m \u001b[0mdict\u001b[0m\u001b[0;34m,\u001b[0m \u001b[0mself_obj\u001b[0m\u001b[0;34m)\u001b[0m \u001b[0;34m->\u001b[0m \u001b[0mnp\u001b[0m\u001b[0;34m.\u001b[0m\u001b[0marray\u001b[0m\u001b[0;34m:\u001b[0m\u001b[0;34m\u001b[0m\u001b[0;34m\u001b[0m\u001b[0m\n\u001b[0;32m--> 308\u001b[0;31m         \u001b[0;32mif\u001b[0m \u001b[0mlen\u001b[0m\u001b[0;34m(\u001b[0m\u001b[0mself_obj\u001b[0m\u001b[0;34m.\u001b[0m\u001b[0mpast_moves\u001b[0m\u001b[0;34m)\u001b[0m \u001b[0;34m<\u001b[0m \u001b[0mself\u001b[0m\u001b[0;34m.\u001b[0m\u001b[0mn\u001b[0m\u001b[0;34m:\u001b[0m\u001b[0;34m\u001b[0m\u001b[0;34m\u001b[0m\u001b[0m\n\u001b[0m\u001b[1;32m    309\u001b[0m             \u001b[0;32mreturn\u001b[0m \u001b[0mnp\u001b[0m\u001b[0;34m.\u001b[0m\u001b[0marray\u001b[0m\u001b[0;34m(\u001b[0m\u001b[0;34m[\u001b[0m\u001b[0;34m-\u001b[0m\u001b[0;36m1\u001b[0m \u001b[0;32mfor\u001b[0m \u001b[0mi\u001b[0m \u001b[0;32min\u001b[0m \u001b[0mrange\u001b[0m\u001b[0;34m(\u001b[0m\u001b[0mself\u001b[0m\u001b[0;34m.\u001b[0m\u001b[0mn\u001b[0m\u001b[0;34m)\u001b[0m\u001b[0;34m]\u001b[0m\u001b[0;34m)\u001b[0m\u001b[0;34m\u001b[0m\u001b[0;34m\u001b[0m\u001b[0m\n\u001b[1;32m    310\u001b[0m         \u001b[0;32mreturn\u001b[0m \u001b[0mnp\u001b[0m\u001b[0;34m.\u001b[0m\u001b[0marray\u001b[0m\u001b[0;34m(\u001b[0m\u001b[0;34m[\u001b[0m\u001b[0maction\u001b[0m\u001b[0;34m.\u001b[0m\u001b[0mvalue\u001b[0m \u001b[0;32mfor\u001b[0m \u001b[0maction\u001b[0m \u001b[0;32min\u001b[0m \u001b[0mself_obj\u001b[0m\u001b[0;34m.\u001b[0m\u001b[0mpast_moves\u001b[0m\u001b[0;34m[\u001b[0m\u001b[0;34m-\u001b[0m\u001b[0mself\u001b[0m\u001b[0;34m.\u001b[0m\u001b[0mn\u001b[0m \u001b[0;34m:\u001b[0m\u001b[0;34m]\u001b[0m\u001b[0;34m]\u001b[0m\u001b[0;34m)\u001b[0m\u001b[0;34m\u001b[0m\u001b[0;34m\u001b[0m\u001b[0m\n",
      "\u001b[0;32m~/.local/lib/python3.8/site-packages/pandas/core/generic.py\u001b[0m in \u001b[0;36m__getattr__\u001b[0;34m(self, name)\u001b[0m\n\u001b[1;32m   5581\u001b[0m         ):\n\u001b[1;32m   5582\u001b[0m             \u001b[0;32mreturn\u001b[0m \u001b[0mself\u001b[0m\u001b[0;34m[\u001b[0m\u001b[0mname\u001b[0m\u001b[0;34m]\u001b[0m\u001b[0;34m\u001b[0m\u001b[0;34m\u001b[0m\u001b[0m\n\u001b[0;32m-> 5583\u001b[0;31m         \u001b[0;32mreturn\u001b[0m \u001b[0mobject\u001b[0m\u001b[0;34m.\u001b[0m\u001b[0m__getattribute__\u001b[0m\u001b[0;34m(\u001b[0m\u001b[0mself\u001b[0m\u001b[0;34m,\u001b[0m \u001b[0mname\u001b[0m\u001b[0;34m)\u001b[0m\u001b[0;34m\u001b[0m\u001b[0;34m\u001b[0m\u001b[0m\n\u001b[0m\u001b[1;32m   5584\u001b[0m \u001b[0;34m\u001b[0m\u001b[0m\n\u001b[1;32m   5585\u001b[0m     \u001b[0;32mdef\u001b[0m \u001b[0m__setattr__\u001b[0m\u001b[0;34m(\u001b[0m\u001b[0mself\u001b[0m\u001b[0;34m,\u001b[0m \u001b[0mname\u001b[0m\u001b[0;34m:\u001b[0m \u001b[0mstr\u001b[0m\u001b[0;34m,\u001b[0m \u001b[0mvalue\u001b[0m\u001b[0;34m)\u001b[0m \u001b[0;34m->\u001b[0m \u001b[0;32mNone\u001b[0m\u001b[0;34m:\u001b[0m\u001b[0;34m\u001b[0m\u001b[0;34m\u001b[0m\u001b[0m\n",
      "\u001b[0;31mAttributeError\u001b[0m: 'Series' object has no attribute 'past_moves'"
     ]
    }
   ],
   "source": [
    "compute_features(data.iloc[0].copy())"
   ]
  },
  {
   "cell_type": "code",
   "execution_count": null,
   "metadata": {},
   "outputs": [],
   "source": []
  },
  {
   "cell_type": "code",
   "execution_count": null,
   "metadata": {},
   "outputs": [],
   "source": []
  },
  {
   "cell_type": "code",
   "execution_count": null,
   "metadata": {},
   "outputs": [],
   "source": []
  },
  {
   "cell_type": "code",
   "execution_count": null,
   "metadata": {},
   "outputs": [],
   "source": [
    "res = []\n",
    "for index, step in data[:5].iterrows():\n",
    "    data[index] = compute_movement_graph_for_step(step)\n",
    "\n",
    "data"
   ]
  },
  {
   "cell_type": "code",
   "execution_count": null,
   "metadata": {},
   "outputs": [],
   "source": [
    "MovementGraph(data.iloc[0])"
   ]
  },
  {
   "cell_type": "code",
   "execution_count": null,
   "metadata": {},
   "outputs": [],
   "source": [
    "# added column for agent 4 (instead of agent 0) by mistake\n",
    "# oops\n",
    "# drop them\n",
    "\n",
    "data = data.drop(labels=[\"agent_4_state\", \"agent_4_action\"], axis=1)"
   ]
  },
  {
   "cell_type": "code",
   "execution_count": null,
   "metadata": {},
   "outputs": [],
   "source": [
    "# set round and step as index\n",
    "data.index = pd.MultiIndex.from_arrays([data.rounds, data.step])"
   ]
  },
  {
   "cell_type": "code",
   "execution_count": null,
   "metadata": {},
   "outputs": [],
   "source": [
    "for agent_num in tqdm(range(4)):\n",
    "    agent_name = f\"agent_{agent_num}\"\n",
    "    agent_state = f\"{agent_name}_state\"\n",
    "    \n",
    "    # transform the state tuples to columns\n",
    "    data = data[agent_state].apply(pd.Series).join(data)\n",
    "    data = data.rename(dict(enumerate(f\"{agent_name}_{field_name}\" for field_name \n",
    "                                          in [\"type\", \"score\",\"bomb_possible\", \"position\"])), axis=1)\\\n",
    "               .drop(labels=[agent_state], axis=1)"
   ]
  },
  {
   "cell_type": "code",
   "execution_count": null,
   "metadata": {},
   "outputs": [],
   "source": [
    "data = pd.read_pickle(\"./data.pkl\")"
   ]
  },
  {
   "cell_type": "code",
   "execution_count": null,
   "metadata": {},
   "outputs": [],
   "source": [
    "data = pd.read_pickle(\"./data/data.pkl\")"
   ]
  },
  {
   "cell_type": "code",
   "execution_count": null,
   "metadata": {},
   "outputs": [],
   "source": []
  },
  {
   "cell_type": "code",
   "execution_count": null,
   "metadata": {},
   "outputs": [],
   "source": []
  },
  {
   "cell_type": "code",
   "execution_count": null,
   "metadata": {},
   "outputs": [],
   "source": [
    "MovementGraph"
   ]
  },
  {
   "cell_type": "code",
   "execution_count": null,
   "metadata": {},
   "outputs": [],
   "source": [
    "data.field.apply(lambda x: pd.Series(x.flatten())).to_pickle(\"./field.pkl\")"
   ]
  },
  {
   "cell_type": "code",
   "execution_count": null,
   "metadata": {},
   "outputs": [],
   "source": [
    "data.explosion_map.apply(lambda x: pd.Series(x.flatten())).to_pickle(\"./explosion_map.pkl\")"
   ]
  },
  {
   "cell_type": "code",
   "execution_count": null,
   "metadata": {
    "scrolled": true
   },
   "outputs": [],
   "source": []
  },
  {
   "cell_type": "code",
   "execution_count": null,
   "metadata": {},
   "outputs": [],
   "source": [
    "bombs = data.bombs.apply(pd.Series).rename(dict(enumerate([f\"bomb_{i}\" for i in range(4)])), axis=1)"
   ]
  },
  {
   "cell_type": "code",
   "execution_count": null,
   "metadata": {},
   "outputs": [],
   "source": [
    "bombs.to_pickle(\"./bombs.pkl\")"
   ]
  },
  {
   "cell_type": "code",
   "execution_count": null,
   "metadata": {},
   "outputs": [],
   "source": [
    "bombs = pd.read_pickle(\"./bombs_expanded.pkl\")"
   ]
  },
  {
   "cell_type": "code",
   "execution_count": null,
   "metadata": {},
   "outputs": [],
   "source": [
    "def make_row(bs):\n",
    "    row = dict()\n",
    "    for b_num, b in enumerate(bs):\n",
    "        row[f\"bomb_{b_num}_x\"] = b[0][0]\n",
    "        row[f\"bomb_{b_num}_y\"] = b[0][1]\n",
    "        row[f\"bomb_{b_num}_counter\"] = b[1]\n",
    "    return row\n",
    "\n",
    "bombs = [make_row(data[[\"bombs\"]].loc[i][0]) for i in tqdm(range(len(data)))]\n",
    "bombs = pd.DataFrame(bombs)"
   ]
  },
  {
   "cell_type": "code",
   "execution_count": null,
   "metadata": {},
   "outputs": [],
   "source": [
    "data[[c for c in data.columns if c.startswith(\"agent\")]].to_pickle(\"./agents.pkl\")"
   ]
  },
  {
   "cell_type": "code",
   "execution_count": null,
   "metadata": {},
   "outputs": [],
   "source": [
    "agents = pd.read_pickle(\"./agents.pkl\")"
   ]
  },
  {
   "cell_type": "code",
   "execution_count": null,
   "metadata": {},
   "outputs": [],
   "source": []
  },
  {
   "cell_type": "code",
   "execution_count": null,
   "metadata": {},
   "outputs": [],
   "source": []
  },
  {
   "cell_type": "code",
   "execution_count": null,
   "metadata": {},
   "outputs": [],
   "source": [
    "coins = data.coins.apply(pd.Series)"
   ]
  },
  {
   "cell_type": "code",
   "execution_count": null,
   "metadata": {},
   "outputs": [],
   "source": [
    "coins.isna().sum() / len(coins)"
   ]
  },
  {
   "cell_type": "code",
   "execution_count": null,
   "metadata": {},
   "outputs": [],
   "source": [
    "coins = old_coins"
   ]
  },
  {
   "cell_type": "code",
   "execution_count": null,
   "metadata": {},
   "outputs": [],
   "source": []
  },
  {
   "cell_type": "code",
   "execution_count": null,
   "metadata": {},
   "outputs": [],
   "source": [
    "coins = coins[~coins.isna().any(axis=1)]"
   ]
  },
  {
   "cell_type": "code",
   "execution_count": null,
   "metadata": {},
   "outputs": [],
   "source": [
    "cs = pd.DataFrame(index=coins.index)\n",
    "\n",
    "for i in tqdm(range(coins.shape[1])):\n",
    "    cs = cs.join(coins[i].apply(pd.Series).rename({0: f\"coin_{i}_x\", 1:f\"coin_{i}_y\"}, axis=1))\n",
    "cs.to_pickle(\"coins.pkl\")"
   ]
  },
  {
   "cell_type": "code",
   "execution_count": null,
   "metadata": {},
   "outputs": [],
   "source": [
    "scores = data[[c for c in data.columns if c.endswith(\"score\")]]\n",
    "# we dont want the total scores but just the scores recieved in this step\n",
    "scores = (scores.shift(-1, axis=0) - scores).shift(1, axis=0).fillna(0).astype(int)"
   ]
  },
  {
   "cell_type": "code",
   "execution_count": null,
   "metadata": {},
   "outputs": [],
   "source": [
    "# the problem with this is that the first entry can be negative\n",
    "# the good thing is that we can just set these values, since there can never be a non-zero score\n",
    "# in the first step\n",
    "scores.xs(1, level=\"step\")"
   ]
  },
  {
   "cell_type": "code",
   "execution_count": null,
   "metadata": {},
   "outputs": [],
   "source": [
    "scores[scores.index.get_level_values(1) == 1] = 0\n",
    "scores.to_pickle(\"scores.pkl\")"
   ]
  },
  {
   "cell_type": "code",
   "execution_count": null,
   "metadata": {},
   "outputs": [],
   "source": [
    "scores = pd.read_pickle(\"scores.pkl\")"
   ]
  },
  {
   "cell_type": "code",
   "execution_count": null,
   "metadata": {},
   "outputs": [],
   "source": [
    "scores.xs(1, level=\"rounds\")"
   ]
  },
  {
   "cell_type": "code",
   "execution_count": null,
   "metadata": {},
   "outputs": [],
   "source": [
    "# max step per round is 400\n",
    "scores.groupby(level=0).count().max()"
   ]
  },
  {
   "cell_type": "code",
   "execution_count": null,
   "metadata": {},
   "outputs": [],
   "source": [
    "np.roll(np.arange(10), 1, axis=0)"
   ]
  },
  {
   "cell_type": "code",
   "execution_count": null,
   "metadata": {},
   "outputs": [],
   "source": [
    "x = np.array([1, 2, 3, 4, 5, 6])\n",
    "\n",
    "np.pad(x,(7), mode='constant')[:, :-1]"
   ]
  },
  {
   "cell_type": "code",
   "execution_count": null,
   "metadata": {},
   "outputs": [],
   "source": []
  },
  {
   "cell_type": "code",
   "execution_count": null,
   "metadata": {},
   "outputs": [],
   "source": []
  },
  {
   "cell_type": "code",
   "execution_count": null,
   "metadata": {},
   "outputs": [],
   "source": [
    "def calculate_returns(scores, gamma=.5):\n",
    "    N = scores.shape[-1]\n",
    "    exponents = np.stack([np.arange(-i, N - i) for i in np.arange(N)])\n",
    "    return np.triu(gamma ** exponents).dot(scores.T).T "
   ]
  },
  {
   "cell_type": "code",
   "execution_count": null,
   "metadata": {},
   "outputs": [],
   "source": []
  },
  {
   "cell_type": "code",
   "execution_count": null,
   "metadata": {},
   "outputs": [],
   "source": [
    "def calculate_returns_for_all_agents(scores, agents, gammas):\n",
    "    if not isinstance(gammas, list):\n",
    "        gammas = [gammas]\n",
    "    for gamma in tqdm(gammas):\n",
    "        for agent in tqdm(agents):\n",
    "            col_name = f\"{agent}_return_gamma_{str(gamma).replace('.', '_')}\"\n",
    "\n",
    "            scores[col_name] = scores\\\n",
    "                                  .agent_0_score\\\n",
    "                                  .groupby(level=0)\\\n",
    "                                  .apply(lambda v: pd.Series(calculate_returns(v), \n",
    "                                            index=np.arange(len(v)) + 1))"
   ]
  },
  {
   "cell_type": "code",
   "execution_count": null,
   "metadata": {},
   "outputs": [],
   "source": [
    "calculate_returns_for_all_agents(scores, agents=[f\"agent_{i}\" for i in range(4)], gammas=[0.6, 0.8, 0.95])"
   ]
  },
  {
   "cell_type": "code",
   "execution_count": null,
   "metadata": {},
   "outputs": [],
   "source": [
    "scores.to_pickle(\"returns.p\")"
   ]
  },
  {
   "cell_type": "code",
   "execution_count": null,
   "metadata": {},
   "outputs": [],
   "source": []
  },
  {
   "cell_type": "code",
   "execution_count": null,
   "metadata": {},
   "outputs": [],
   "source": []
  },
  {
   "cell_type": "code",
   "execution_count": null,
   "metadata": {},
   "outputs": [],
   "source": []
  },
  {
   "cell_type": "code",
   "execution_count": null,
   "metadata": {},
   "outputs": [],
   "source": [
    "bar = pd.Series(calculate_returns(scores.agent_0_score.xs(1)))\n",
    "bar.index += 1"
   ]
  },
  {
   "cell_type": "code",
   "execution_count": null,
   "metadata": {},
   "outputs": [],
   "source": [
    "bar"
   ]
  },
  {
   "cell_type": "code",
   "execution_count": null,
   "metadata": {},
   "outputs": [],
   "source": [
    "scores.agent_0_return_gamma_0_5.xs(1)"
   ]
  },
  {
   "cell_type": "code",
   "execution_count": null,
   "metadata": {},
   "outputs": [],
   "source": [
    "scores.agent_0_score.shape"
   ]
  },
  {
   "cell_type": "code",
   "execution_count": null,
   "metadata": {},
   "outputs": [],
   "source": [
    "calculate_returns(scores.agent_0_score.unstack(level=-1).fillna(0), gamma=0.5).reshape((980457)).shape"
   ]
  },
  {
   "cell_type": "code",
   "execution_count": null,
   "metadata": {},
   "outputs": [],
   "source": [
    "pd.DataFrame(calculate_returns(scores.agent_0_score.unstack(level=-1).fillna(0), gamma=0.5), index=scores.agent_0_score.index)"
   ]
  },
  {
   "cell_type": "code",
   "execution_count": null,
   "metadata": {},
   "outputs": [],
   "source": [
    "scores.agent_0_score.unstack(level=-1).fillna(0).shape"
   ]
  },
  {
   "cell_type": "code",
   "execution_count": null,
   "metadata": {},
   "outputs": [],
   "source": [
    "np.array(2) ** np.arange(4)"
   ]
  }
 ],
 "metadata": {
  "kernelspec": {
   "display_name": "Python 3",
   "language": "python",
   "name": "python3"
  },
  "language_info": {
   "codemirror_mode": {
    "name": "ipython",
    "version": 3
   },
   "file_extension": ".py",
   "mimetype": "text/x-python",
   "name": "python",
   "nbconvert_exporter": "python",
   "pygments_lexer": "ipython3",
   "version": "3.8.10"
  }
 },
 "nbformat": 4,
 "nbformat_minor": 4
}
