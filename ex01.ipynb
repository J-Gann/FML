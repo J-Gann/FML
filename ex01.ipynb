{
 "cells": [
  {
   "cell_type": "markdown",
   "id": "200ef974",
   "metadata": {},
   "source": [
    "# Exercise 1a"
   ]
  },
  {
   "cell_type": "markdown",
   "id": "54426f37",
   "metadata": {},
   "source": [
    "## 1. Monte-Carlo Simulation"
   ]
  },
  {
   "cell_type": "markdown",
   "id": "c48acbb9",
   "metadata": {
    "tags": []
   },
   "source": [
    "### 1.1 Data Creation and Visualization\n",
    "#### Method\n",
    "- Let X be a random variable whose distribution can be described by the cumulative distribution function $F_{x}$.\n",
    "- We want to generate values of X which are distributed according to this distribution.\n",
    "\n",
    "The inverse transform sampling method works as follows:\n",
    "\n",
    "1. Generate a random number u from the standard uniform distribution in the interval $[0,1]$.\n",
    "2. Find the inverse of the desired CDF, e.g. $F^{-1}_{X}(x)$.\n",
    "3. Compute $X = F^{-1}_{X}(u)$. The computed random variable $X$ has distribution $F_{X}(x)$.\n",
    "---\n",
    "Information taken from [Wikipedia](https://en.wikipedia.org/wiki/Inverse_transform_sampling)\n",
    "\n",
    "#### Application\n",
    "Sampling $p(Y=0) = p(Y=1) = \\frac{1}{2}$\n",
    "1. Generate a random number u from the standard uniform distribution in the interval $[0,1]$.\n",
    "2. Round random number to 1 if it is $\\geq$ 0.5, otherwise round it to 0.\n",
    "\n",
    "Sampling $p(X=x|Y=0) = 2-2x$\n",
    "1. Generate a random number u from the standard uniform distribution in the interval $[0,1]$.\n",
    "2. Calculate inversion $F^{-1}_{X}(x)$\n",
    "$$F_{X}(x) = \\int_{0}^{x}  2-2x\\,dx $$\n",
    "$$F_{X}(x) = 2x-x^{2} $$\n",
    "$$F^{-1}_{X}(x) = 1-\\sqrt{1-x}, 1+\\sqrt{1-x}$$\n",
    "\n",
    "3. Compute $X = 1-\\sqrt{1-u}$, as the other case is not in range of $[0,1]$. The computed random variable $X$ has distribution $2-2x$\n",
    "\n",
    "Sampling $p(X=x|Y=1) = 2x$\n",
    "1. Generate a random number u from the standard uniform distribution in the interval $[0,1]$.\n",
    "2. Calculate inversion $F^{-1}_{X}(x)$\n",
    "$$F_{X}(x) = \\int_{0}^{x}  2x\\,dx $$\n",
    "$$F_{X}(x) = x^{2} $$\n",
    "$$F^{-1}_{X}(x) = -\\sqrt{x}, \\sqrt{x}$$\n",
    "\n",
    "3. Compute $X = \\sqrt{u}$, as the other case is not in range of $[0,1]$. The computed random variable $X$ has distribution $2x$"
   ]
  },
  {
   "cell_type": "code",
   "execution_count": 1,
   "id": "3ef80dc5",
   "metadata": {},
   "outputs": [],
   "source": [
    "import numpy.random as random\n",
    "import numpy as np\n",
    "import math as math\n",
    "import matplotlib.pyplot as plt"
   ]
  },
  {
   "cell_type": "code",
   "execution_count": 2,
   "id": "80112b0e",
   "metadata": {},
   "outputs": [],
   "source": [
    "def p0():\n",
    "    return 1- math.sqrt(1-random.random())\n",
    "\n",
    "def p1():\n",
    "    return math.sqrt(random.random())\n",
    "\n",
    "# Returns an Array [[N/2 samples for p(X|Y=0)], [N/2 samples for p(X|Y=1)]]\n",
    "def create_data (N):\n",
    "    \n",
    "    Y = random.randint(0, 2, size=N)\n",
    "    X = np.vectorize(lambda x: p0() if x == 0 else p1())\n",
    "\n",
    "    return X(Y), Y"
   ]
  },
  {
   "cell_type": "code",
   "execution_count": 9,
   "id": "2299e575",
   "metadata": {},
   "outputs": [],
   "source": [
    "X, Y = create_data(1000000)"
   ]
  },
  {
   "cell_type": "code",
   "execution_count": 15,
   "id": "d93f9204",
   "metadata": {},
   "outputs": [
    {
     "data": {
      "image/png": "[encoded data removed]",
      "text/plain": [
       "<Figure size 432x288 with 1 Axes>"
      ]
     },
     "metadata": {
      "needs_background": "light"
     },
     "output_type": "display_data"
    }
   ],
   "source": [
    "plt1 = plt.hist([x for x, y in zip(X, Y) if y == 0], bins=50)"
   ]
  },
  {
   "cell_type": "code",
   "execution_count": 17,
   "id": "36193294",
   "metadata": {},
   "outputs": [
    {
     "data": {
      "image/png": "[encoded data removed]",
      "text/plain": [
       "<Figure size 432x288 with 1 Axes>"
      ]
     },
     "metadata": {
      "needs_background": "light"
     },
     "output_type": "display_data"
    }
   ],
   "source": [
    "plt2 = plt.hist([x for x, y in zip(X, Y) if y == 1], bins=50)"
   ]
  },
  {
   "cell_type": "markdown",
   "id": "a9af2f9a",
   "metadata": {},
   "source": [
    "### 1.2 Classification by Thresholding"
   ]
  },
  {
   "cell_type": "code",
   "execution_count": 19,
   "id": "9b7b29f0",
   "metadata": {},
   "outputs": [],
   "source": [
    "def fA(X,x_t):\n",
    "    return int(X >= x_t)\n",
    "\n",
    "def fB(X,x_t):\n",
    "    return int(X < x_t)"
   ]
  },
  {
   "cell_type": "code",
   "execution_count": 20,
   "id": "ea9c8cfe",
   "metadata": {},
   "outputs": [],
   "source": [
    "def test(M, t, f):\n",
    "    errors = []\n",
    "    for i in range(10):\n",
    "        data = create_data(M)\n",
    "        data0 = data[0]\n",
    "        data1 = data[1]\n",
    "\n",
    "        data0thresholds = [f(elem, t) for elem in data0]\n",
    "        data0ones = list(filter(lambda elem: elem == 1, data0thresholds))\n",
    "        data0error = len(data0ones)\n",
    "\n",
    "        data1thresholds = [f(elem, t) for elem in data1]\n",
    "        data1zeros = list(filter(lambda elem: elem == 0, data1thresholds))\n",
    "        data1error = len(data1zeros)\n",
    "\n",
    "        error = (data0error + data1error) / (len(data0) + len(data1))\n",
    "        errors.append(error)\n",
    "    return errors"
   ]
  },
  {
   "cell_type": "code",
   "execution_count": 21,
   "id": "2143cf9d",
   "metadata": {},
   "outputs": [],
   "source": [
    "def mean_error(error_rates):\n",
    "    return sum(error_rates) / len(error_rates)\n",
    "\n",
    "def standard_deviation_error(mean_error, error_rates):\n",
    "    return sum([abs(mean_error - elem) for elem in error_rates]) / len(error_rates)\n",
    "\n",
    "def errors(error_rates):\n",
    "    meanError = mean_error(error_rates)\n",
    "    standardDeviationError = standard_deviation_error(meanError, error_rates)\n",
    "    return meanError, standardDeviationError"
   ]
  },
  {
   "cell_type": "code",
   "execution_count": 40,
   "id": "e1dae3e6",
   "metadata": {},
   "outputs": [],
   "source": [
    "TEST_DATA_SIZES = [10, 100, 1000, 10_000]\n",
    "\n",
    "def experiment(threshold, f):\n",
    "    error_rates = [errors(test(size, threshold, f)) for size in TEST_DATA_SIZES]\n",
    "    print(error_rates[0])\n",
    "    mean_errors = [err for err, _ in error_rates]\n",
    "    std_deviations = [deviation for _, deviation in error_rates]\n",
    "    \n",
    "    plt.plot(TEST_DATA_SIZES, mean_errors, label=\"t = \"+str(threshold))\n",
    "    plt.errorbar(TEST_DATA_SIZES, mean_errors, yerr=std_deviations, ecolor=\"red\" ,ls=\"None\")\n",
    "    plt.legend(loc=\"lower right\")\n",
    "    plt.xscale(\"log\")"
   ]
  },
  {
   "cell_type": "code",
   "execution_count": 41,
   "id": "3eb318bd",
   "metadata": {},
   "outputs": [
    {
     "name": "stdout",
     "output_type": "stream",
     "text": [
      "[0.5, 0.0]\n",
      "[0.625, 0.07999999999999999]\n",
      "[0.4800000000000001, 0.049999999999999996]\n",
      "[0.42000000000000004, 0.05]\n"
     ]
    },
    {
     "data": {
      "image/png": "[encoded data removed]",
      "text/plain": [
       "<Figure size 432x288 with 1 Axes>"
      ]
     },
     "metadata": {
      "needs_background": "light"
     },
     "output_type": "display_data"
    }
   ],
   "source": [
    "experiment(0.0, fA)\n",
    "experiment(0.2, fA)\n",
    "experiment(0.5, fA)\n",
    "experiment(0.6, fA)"
   ]
  },
  {
   "cell_type": "markdown",
   "id": "20b6bcd2",
   "metadata": {},
   "source": [
    "Theoretical error rates:\n",
    "$$p(error|A;x_{t}) = \\frac{1}{4} + (x_{t} - \\frac{1}{2})^{2}$$\n",
    "$$p(error|A;0.0) = \\frac{1}{4} + (0.0 - \\frac{1}{2})^{2} = 0.5$$\n",
    "$$p(error|A;0.2) = \\frac{1}{4} + (0.2 - \\frac{1}{2})^{2} = 0.34$$\n",
    "$$p(error|A;0.5) = \\frac{1}{4} + (0.5 - \\frac{1}{2})^{2} = 0.25$$\n",
    "$$p(error|A;0.6) = \\frac{1}{4} + (0.6 - \\frac{1}{2})^{2} = 0.26$$\n",
    "\n",
    "The error standard deviation decreases exponentially with increasing M.\n",
    "If one compares the expected error rates with the computed error rates, one can see that they are equal for $ M \\to \\infty $.\n"
   ]
  },
  {
   "cell_type": "markdown",
   "id": "94353344",
   "metadata": {},
   "source": [
    "### 1.3 Baseline Classifiers"
   ]
  },
  {
   "cell_type": "code",
   "execution_count": 117,
   "id": "0f179227",
   "metadata": {},
   "outputs": [],
   "source": [
    "def fC(X,t):\n",
    "    r = random.random()\n",
    "    u = 1 if r >= 0.5 else 0\n",
    "    return u\n",
    "\n",
    "def fD(X,t):\n",
    "    return 1"
   ]
  },
  {
   "cell_type": "code",
   "execution_count": 118,
   "id": "f0c0a6b3",
   "metadata": {},
   "outputs": [
    {
     "data": {
      "image/png": "[encoded data removed]",
      "text/plain": [
       "<Figure size 432x288 with 1 Axes>"
      ]
     },
     "metadata": {
      "needs_background": "light"
     },
     "output_type": "display_data"
    }
   ],
   "source": [
    "experiment(0.0, fC)\n",
    "experiment(0.2, fC)\n",
    "experiment(0.5, fC)\n",
    "experiment(0.6, fC)"
   ]
  },
  {
   "cell_type": "code",
   "execution_count": 119,
   "id": "01c5bd2d",
   "metadata": {},
   "outputs": [
    {
     "data": {
      "image/png": "[encoded data removed]",
      "text/plain": [
       "<Figure size 432x288 with 1 Axes>"
      ]
     },
     "metadata": {
      "needs_background": "light"
     },
     "output_type": "display_data"
    }
   ],
   "source": [
    "experiment(0.0, fD)\n",
    "experiment(0.2, fD)\n",
    "experiment(0.5, fD)\n",
    "experiment(0.6, fD)"
   ]
  },
  {
   "cell_type": "markdown",
   "id": "b586dd58",
   "metadata": {},
   "source": [
    "### 1.4 Nearest Neighbor Classification"
   ]
  },
  {
   "cell_type": "code",
   "execution_count": 66,
   "id": "c0697124",
   "metadata": {},
   "outputs": [],
   "source": [
    "def toy_nearest_neighbor_singular(X, Xtrain, Ytrain):\n",
    "    diff = np.array(list(map(lambda elem: abs(X - elem), Xtrain)))\n",
    "    smallestElemIndex = np.argmin(diff)\n",
    "    Y = Ytrain[smallestElemIndex]\n",
    "    return Y \n",
    "\n",
    "def toy_nearest_neighbor(Xtest, Xtrain, Ytrain):\n",
    "    Ytest = list(map(lambda elem: toy_nearest_neighbor_singular(elem, Xtrain, Ytrain), Xtest))\n",
    "    return Ytest"
   ]
  },
  {
   "cell_type": "code",
   "execution_count": 108,
   "id": "48cafecf",
   "metadata": {},
   "outputs": [],
   "source": [
    "def testNNC(N, M):\n",
    "    train = create_data(N)\n",
    "    Xtrain = train[0] + train[1]\n",
    "    Ytrain = [0]*len(train[0]) + [1]*len(train[1])\n",
    "\n",
    "    test = create_data(M)\n",
    "    Xtest = test[0] + test[1]\n",
    "\n",
    "    Ytest = toy_nearest_neighbor(Xtest, Xtrain, Ytrain)\n",
    "\n",
    "    length = len(Ytest)\n",
    "    middle_index = length // 2\n",
    "    first_half = Ytest[:middle_index]\n",
    "    second_half = Ytest[middle_index:]\n",
    "\n",
    "    errors_first_half = sum(first_half)\n",
    "    errors_second_half = len(second_half) - sum(second_half)\n",
    "\n",
    "    error_rate = (errors_first_half + errors_second_half) / length\n",
    "    return error_rate"
   ]
  },
  {
   "cell_type": "code",
   "execution_count": 123,
   "id": "fe9ebfab",
   "metadata": {},
   "outputs": [],
   "source": [
    "def experimentNCC(WDH, N, M):\n",
    "    error_rates = []\n",
    "    for i in range(WDH):\n",
    "        error_rate = testNNC(N, M)\n",
    "        error_rates.append(error_rate)\n",
    "    return sum(error_rates) / len(error_rates)"
   ]
  },
  {
   "cell_type": "code",
   "execution_count": 130,
   "id": "908fcb06",
   "metadata": {},
   "outputs": [
    {
     "data": {
      "text/plain": [
       "0.35629999999999995"
      ]
     },
     "execution_count": 130,
     "metadata": {},
     "output_type": "execute_result"
    }
   ],
   "source": [
    "experimentNCC(100, 2, 100)"
   ]
  },
  {
   "cell_type": "code",
   "execution_count": 131,
   "id": "bb6102fe",
   "metadata": {},
   "outputs": [
    {
     "data": {
      "text/plain": [
       "0.32689999999999986"
      ]
     },
     "execution_count": 131,
     "metadata": {},
     "output_type": "execute_result"
    }
   ],
   "source": [
    "experimentNCC(100, 100, 100)"
   ]
  }
 ],
 "metadata": {
  "interpreter": {
   "hash": "31f2aee4e71d21fbe5cf8b01ff0e069b9275f58929596ceb00d14d90e3e16cd6"
  },
  "kernelspec": {
   "display_name": "Python 3 (ipykernel)",
   "language": "python",
   "name": "python3"
  },
  "language_info": {
   "codemirror_mode": {
    "name": "ipython",
    "version": 3
   },
   "file_extension": ".py",
   "mimetype": "text/x-python",
   "name": "python",
   "nbconvert_exporter": "python",
   "pygments_lexer": "ipython3",
   "version": "3.9.7"
  }
 },
 "nbformat": 4,
 "nbformat_minor": 5
}
