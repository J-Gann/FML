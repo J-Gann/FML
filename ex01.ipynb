{
 "cells": [
  {
   "cell_type": "markdown",
   "id": "09af830f-e763-4f86-80c7-44c4c428e80d",
   "metadata": {},
   "source": [
    "# Exercise 1a"
   ]
  },
  {
   "cell_type": "markdown",
   "id": "fc1782ce-7912-4277-a53c-da0c6945a76b",
   "metadata": {},
   "source": [
    "## 1. Monte-Carlo Simulation"
   ]
  },
  {
   "cell_type": "markdown",
   "id": "2c450d08-045a-4c36-8a73-079a4b0331e7",
   "metadata": {
    "tags": []
   },
   "source": [
    "### 1.1 Data Creation and Visualization\n",
    "#### Method\n",
    "- Let X be a random variable whose distribution can be described by the cumulative distribution function $F_{x}$.\n",
    "- We want to generate values of X which are distributed according to this distribution.\n",
    "\n",
    "The inverse transform sampling method works as follows:\n",
    "\n",
    "1. Generate a random number u from the standard uniform distribution in the interval $[0,1]$.\n",
    "2. Find the inverse of the desired CDF, e.g. $F^{-1}_{X}(x)$.\n",
    "3. Compute $X = F^{-1}_{X}(u)$. The computed random variable $X$ has distribution $F_{X}(x)$.\n",
    "---\n",
    "Information taken from [Wikipedia](https://en.wikipedia.org/wiki/Inverse_transform_sampling)\n",
    "\n",
    "#### Application\n",
    "Sampling $p(Y=0) = p(Y=1) = \\frac{1}{2}$\n",
    "1. Generate a random number u from the standard uniform distribution in the interval $[0,1]$.\n",
    "2. Round random number to 1 if it is $\\geq$ 0.5, otherwise round it to 0.\n",
    "\n",
    "Sampling $p(X=x|Y=0) = 2-2x$\n",
    "1. Generate a random number u from the standard uniform distribution in the interval $[0,1]$.\n",
    "2. Calculate inversion $F^{-1}_{X}(x)$\n",
    "$$F_{X}(x) = \\int_{0}^{x}  2-2x\\,dx $$\n",
    "$$F_{X}(x) = 2x-x^{2} $$\n",
    "$$F^{-1}_{X}(x) = 1-\\sqrt{1-x}, 1+\\sqrt{1-x}$$\n",
    "\n",
    "3. Compute $X = 1-\\sqrt{1-u}$, as the other case is not in range of $[0,1]$. The computed random variable $X$ has distribution $2-2x$\n",
    "\n",
    "Sampling $p(X=x|Y=1) = 2x$\n",
    "1. Generate a random number u from the standard uniform distribution in the interval $[0,1]$.\n",
    "2. Calculate inversion $F^{-1}_{X}(x)$\n",
    "$$F_{X}(x) = \\int_{0}^{x}  2x\\,dx $$\n",
    "$$F_{X}(x) = x^{2} $$\n",
    "$$F^{-1}_{X}(x) = -\\sqrt{x}, \\sqrt{x}$$\n",
    "\n",
    "3. Compute $X = \\sqrt{u}$, as the other case is not in range of $[0,1]$. The computed random variable $X$ has distribution $2x$"
   ]
  },
  {
   "cell_type": "code",
   "execution_count": 27,
   "id": "cfc56542-f9e1-42c4-8797-0e39d880549b",
   "metadata": {},
   "outputs": [],
   "source": [
    "import numpy.random as random\n",
    "import numpy as np\n",
    "import math as math"
   ]
  },
  {
   "cell_type": "code",
   "execution_count": 28,
   "id": "ea588dc6-69e4-43be-bea6-e8c2da477a67",
   "metadata": {},
   "outputs": [],
   "source": [
    "# Returns an Array [[N/2 samples for p(X|Y=0)], [N/2 samples for p(X|Y=1)]]\n",
    "def create_data (N):\n",
    "    p0 = [1-(math.sqrt(1-random.random())) for element in range(math.floor(N/2))]\n",
    "    p1 = [math.sqrt(random.random()) for element in range(math.floor(N/2))]\n",
    "    return [p0, p1]"
   ]
  },
  {
   "cell_type": "code",
   "execution_count": 29,
   "id": "5f85cc61-9b74-46b6-a39c-8afa25db936f",
   "metadata": {},
   "outputs": [],
   "source": [
    "data = create_data(1000000)"
   ]
  },
  {
   "cell_type": "code",
   "execution_count": 30,
   "id": "87804b83-617f-4237-bc90-05ee8aaf2f23",
   "metadata": {},
   "outputs": [],
   "source": [
    "import matplotlib.pyplot as plt"
   ]
  },
  {
   "cell_type": "code",
   "execution_count": 31,
   "id": "1e22a807-22d4-4946-bfbf-18e57e72b2c9",
   "metadata": {},
   "outputs": [
    {
     "data": {
      "image/png": "[encoded data removed]",
      "text/plain": [
       "<Figure size 432x288 with 1 Axes>"
      ]
     },
     "metadata": {
      "needs_background": "light"
     },
     "output_type": "display_data"
    }
   ],
   "source": [
    "plt1 = plt.hist(data[0], bins=50)"
   ]
  },
  {
   "cell_type": "code",
   "execution_count": 32,
   "id": "32a64e4b-f32e-4991-b302-23d410f03e9e",
   "metadata": {},
   "outputs": [
    {
     "data": {
      "image/png": "[encoded data removed]",
      "text/plain": [
       "<Figure size 432x288 with 1 Axes>"
      ]
     },
     "metadata": {
      "needs_background": "light"
     },
     "output_type": "display_data"
    }
   ],
   "source": [
    "plt2 = plt.hist(data[1], bins=50)"
   ]
  },
  {
   "cell_type": "markdown",
   "metadata": {},
   "source": [
    "### 1.2 Classification by Thresholding"
   ]
  },
  {
   "cell_type": "code",
   "execution_count": 33,
   "metadata": {},
   "outputs": [],
   "source": [
    "def fA(X,x_t):\n",
    "    return int(X >= x_t)\n",
    "\n",
    "def fB(X,x_t):\n",
    "    return int(X < x_t)"
   ]
  },
  {
   "cell_type": "code",
   "execution_count": 34,
   "metadata": {},
   "outputs": [],
   "source": [
    "def test(M, t, f):\n",
    "    errors = []\n",
    "    for i in range(10):\n",
    "        data = create_data(M)\n",
    "        data0 = data[0]\n",
    "        data1 = data[1]\n",
    "\n",
    "        data0thresholds = [f(elem, t) for elem in data0]\n",
    "        data0ones = list(filter(lambda elem: elem == 1, data0thresholds))\n",
    "        data0error = len(data0ones)\n",
    "\n",
    "        data1thresholds = [f(elem, t) for elem in data1]\n",
    "        data1zeros = list(filter(lambda elem: elem == 0, data1thresholds))\n",
    "        data1error = len(data1zeros)\n",
    "\n",
    "        error = (data0error + data1error) / (len(data0) + len(data1))\n",
    "        errors.append(error)\n",
    "    return errors"
   ]
  },
  {
   "cell_type": "code",
   "execution_count": 35,
   "metadata": {},
   "outputs": [],
   "source": [
    "def mean_error(error_rates):\n",
    "    return sum(error_rates) / len(error_rates)\n",
    "\n",
    "def standard_deviation_error(mean_error, error_rates):\n",
    "    return sum([abs(mean_error - elem) for elem in error_rates]) / len(error_rates)\n",
    "\n",
    "def errors(error_rates):\n",
    "    meanError = mean_error(error_rates)\n",
    "    standardDeviationError = standard_deviation_error(meanError, error_rates)\n",
    "    return [meanError, standardDeviationError]"
   ]
  },
  {
   "cell_type": "code",
   "execution_count": 36,
   "metadata": {},
   "outputs": [],
   "source": [
    "def experiment(t, f):\n",
    "   # Tests for threshold = t\n",
    "    error_rates10 = test(10, t, f)\n",
    "    errors10 = errors(error_rates10)\n",
    "\n",
    "    error_rates100 = test(100, t, f)\n",
    "    errors100 = errors(error_rates100)\n",
    "\n",
    "    error_rates1000 = test(1000, t, f)\n",
    "    errors1000 = errors(error_rates1000)\n",
    "\n",
    "    error_rates10000 = test(10000, t, f)\n",
    "    errors10000 = errors(error_rates10000)\n",
    "\n",
    "    plt.plot([10, 100, 1000, 10000], [errors10[0], errors100[0], errors1000[0], errors10000[0]], label=\"t = \"+str(t))\n",
    "    plt.errorbar([10, 100, 1000, 10000], [errors10[0], errors100[0], errors1000[0], errors10000[0]], yerr=[errors10[1], errors100[1], errors1000[1], errors10000[1]], ecolor=\"red\" ,ls=\"None\")\n",
    "    plt.legend(loc=\"lower right\")\n",
    "    plt.xscale(\"log\")"
   ]
  },
  {
   "cell_type": "code",
   "execution_count": 37,
   "metadata": {},
   "outputs": [
    {
     "data": {
      "image/png": "[encoded data removed]",
      "text/plain": [
       "<Figure size 432x288 with 1 Axes>"
      ]
     },
     "metadata": {
      "needs_background": "light"
     },
     "output_type": "display_data"
    }
   ],
   "source": [
    "experiment(0.0, fA)\n",
    "experiment(0.2, fA)\n",
    "experiment(0.5, fA)\n",
    "experiment(0.6, fA)"
   ]
  },
  {
   "cell_type": "markdown",
   "metadata": {},
   "source": [
    "Theoretical error rates:\n",
    "$$p(error|A;x_{t}) = \\frac{1}{4} + (x_{t} - \\frac{1}{2})^{2}$$\n",
    "$$p(error|A;0.0) = \\frac{1}{4} + (0.0 - \\frac{1}{2})^{2} = 0.5$$\n",
    "$$p(error|A;0.2) = \\frac{1}{4} + (0.2 - \\frac{1}{2})^{2} = 0.34$$\n",
    "$$p(error|A;0.5) = \\frac{1}{4} + (0.5 - \\frac{1}{2})^{2} = 0.25$$\n",
    "$$p(error|A;0.6) = \\frac{1}{4} + (0.6 - \\frac{1}{2})^{2} = 0.26$$\n",
    "\n",
    "The error standard deviation decreases exponentially with increasing M.\n",
    "If one compares the expected error rates with the computed error rates, one can see that they are equal for $ M \\to \\infty $.\n"
   ]
  },
  {
   "cell_type": "markdown",
   "metadata": {},
   "source": [
    "### 1.3 Baseline Classifiers"
   ]
  },
  {
   "cell_type": "code",
   "execution_count": 38,
   "metadata": {},
   "outputs": [],
   "source": [
    "def fC(X,t):\n",
    "    r = random.random()\n",
    "    u = 1 if r >= 0.5 else 0\n",
    "    return u\n",
    "\n",
    "def fD(X,t):\n",
    "    return 1"
   ]
  },
  {
   "cell_type": "code",
   "execution_count": 40,
   "metadata": {},
   "outputs": [
    {
     "data": {
      "image/png": "[encoded data removed]",
      "text/plain": [
       "<Figure size 432x288 with 1 Axes>"
      ]
     },
     "metadata": {
      "needs_background": "light"
     },
     "output_type": "display_data"
    }
   ],
   "source": [
    "experiment(0.0, fC)\n",
    "experiment(0.2, fC)\n",
    "experiment(0.5, fC)\n",
    "experiment(0.6, fC)"
   ]
  },
  {
   "cell_type": "code",
   "execution_count": 42,
   "metadata": {},
   "outputs": [
    {
     "data": {
      "image/png": "[encoded data removed]",
      "text/plain": [
       "<Figure size 432x288 with 1 Axes>"
      ]
     },
     "metadata": {
      "needs_background": "light"
     },
     "output_type": "display_data"
    }
   ],
   "source": [
    "experiment(0.0, fD)\n",
    "experiment(0.2, fD)\n",
    "experiment(0.5, fD)\n",
    "experiment(0.6, fD)"
   ]
  },
  {
   "cell_type": "code",
   "execution_count": null,
   "metadata": {},
   "outputs": [],
   "source": []
  }
 ],
 "metadata": {
  "interpreter": {
   "hash": "31f2aee4e71d21fbe5cf8b01ff0e069b9275f58929596ceb00d14d90e3e16cd6"
  },
  "kernelspec": {
   "display_name": "Python 3.9.5 64-bit",
   "name": "python3"
  },
  "language_info": {
   "codemirror_mode": {
    "name": "ipython",
    "version": 3
   },
   "file_extension": ".py",
   "mimetype": "text/x-python",
   "name": "python",
   "nbconvert_exporter": "python",
   "pygments_lexer": "ipython3",
   "version": "3.9.5"
  }
 },
 "nbformat": 4,
 "nbformat_minor": 5
}
