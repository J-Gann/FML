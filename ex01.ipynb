{
 "cells": [
  {
   "cell_type": "markdown",
   "id": "09af830f-e763-4f86-80c7-44c4c428e80d",
   "metadata": {},
   "source": [
    "# Exercise 1a"
   ]
  },
  {
   "cell_type": "markdown",
   "id": "fc1782ce-7912-4277-a53c-da0c6945a76b",
   "metadata": {},
   "source": [
    "## Monte-Carlo Simulation"
   ]
  },
  {
   "cell_type": "markdown",
   "id": "2c450d08-045a-4c36-8a73-079a4b0331e7",
   "metadata": {
    "tags": []
   },
   "source": [
    "### Data Creation and Visualization\n",
    "#### Method\n",
    "- Let X be a random variable whose distribution can be described by the cumulative distribution function $F_{x}$.\n",
    "- We want to generate values of X which are distributed according to this distribution.\n",
    "\n",
    "The inverse transform sampling method works as follows:\n",
    "\n",
    "1. Generate a random number u from the standard uniform distribution in the interval $[0,1]$.\n",
    "2. Find the inverse of the desired CDF, e.g. $F^{-1}_{X}(x)$.\n",
    "3. Compute $X = F^{-1}_{X}(u)$. The computed random variable $X$ has distribution $F_{X}(x)$.\n",
    "---\n",
    "Information taken from [Wikipedia](https://en.wikipedia.org/wiki/Inverse_transform_sampling)\n",
    "\n",
    "#### Application\n",
    "Sampling $p(Y=0) = p(Y=1) = \\frac{1}{2}$\n",
    "1. Generate a random number u from the standard uniform distribution in the interval $[0,1]$.\n",
    "2. Round random number to 1 if it is $\\geq$ 0.5, otherwise round it to 0.\n",
    "\n",
    "Sampling $p(X=x|Y=0) = 2-2x$\n",
    "1. Generate a random number u from the standard uniform distribution in the interval $[0,1]$.\n",
    "2. Calculate inversion $F^{-1}_{X}(x)$\n",
    "$$F_{X}(x) = \\int_{0}^{x}  2-2x\\,dx $$\n",
    "$$F_{X}(x) = 2x-x^{2} $$\n",
    "$$F^{-1}_{X}(x) = 1-\\sqrt{1-x}, 1+\\sqrt{1-x}$$\n",
    "\n",
    "3. Compute $X = 1-\\sqrt{1-u}$, as the other case is not in range of $[0,1]$. The computed random variable $X$ has distribution $2-2x$\n",
    "\n",
    "Sampling $p(X=x|Y=1) = 2x$\n",
    "1. Generate a random number u from the standard uniform distribution in the interval $[0,1]$.\n",
    "2. Calculate inversion $F^{-1}_{X}(x)$\n",
    "$$F_{X}(x) = \\int_{0}^{x}  2x\\,dx $$\n",
    "$$F_{X}(x) = x^{2} $$\n",
    "$$F^{-1}_{X}(x) = -\\sqrt{x}, \\sqrt{x}$$\n",
    "\n",
    "3. Compute $X = \\sqrt{u}$, as the other case is not in range of $[0,1]$. The computed random variable $X$ has distribution $2x$"
   ]
  },
  {
   "cell_type": "code",
   "execution_count": 1,
   "id": "cfc56542-f9e1-42c4-8797-0e39d880549b",
   "metadata": {},
   "outputs": [],
   "source": [
    "import numpy.random as random\n",
    "import numpy as np\n",
    "import math as math"
   ]
  },
  {
   "cell_type": "code",
   "execution_count": 2,
   "id": "ea588dc6-69e4-43be-bea6-e8c2da477a67",
   "metadata": {},
   "outputs": [],
   "source": [
    "# Returns an Array [[N/2 samples for p(X|Y=0)], [N/2 samples for p(X|Y=1)]]\n",
    "def create_data (N):\n",
    "    p0 = [1-(math.sqrt(1-random.random())) for element in range(math.floor(N/2))]\n",
    "    p1 = [math.sqrt(random.random()) for element in range(math.floor(N/2))]\n",
    "    return [p0, p1]"
   ]
  },
  {
   "cell_type": "code",
   "execution_count": 3,
   "id": "5f85cc61-9b74-46b6-a39c-8afa25db936f",
   "metadata": {},
   "outputs": [],
   "source": [
    "data = create_data(1000000)"
   ]
  },
  {
   "cell_type": "code",
   "execution_count": 4,
   "id": "87804b83-617f-4237-bc90-05ee8aaf2f23",
   "metadata": {},
   "outputs": [],
   "source": [
    "import matplotlib.pyplot as plt"
   ]
  },
  {
   "cell_type": "code",
   "execution_count": 5,
   "id": "1e22a807-22d4-4946-bfbf-18e57e72b2c9",
   "metadata": {},
   "outputs": [
    {
     "data": {
      "text/plain": [
       "(array([95045., 85093., 75183., 65249., 54784., 45097., 34826., 24923.,\n",
       "        14776.,  5024.]),\n",
       " array([1.25096310e-06, 9.99598281e-02, 1.99918405e-01, 2.99876982e-01,\n",
       "        3.99835559e-01, 4.99794137e-01, 5.99752714e-01, 6.99711291e-01,\n",
       "        7.99669868e-01, 8.99628445e-01, 9.99587022e-01]),\n",
       " <BarContainer object of 10 artists>)"
      ]
     },
     "execution_count": 5,
     "metadata": {},
     "output_type": "execute_result"
    },
    {
     "data": {
      "image/png": "[encoded data removed]",
      "text/plain": [
       "<Figure size 432x288 with 1 Axes>"
      ]
     },
     "metadata": {
      "needs_background": "light"
     },
     "output_type": "display_data"
    }
   ],
   "source": [
    "plt.hist(data[0])"
   ]
  },
  {
   "cell_type": "code",
   "execution_count": 6,
   "id": "32a64e4b-f32e-4991-b302-23d410f03e9e",
   "metadata": {},
   "outputs": [
    {
     "data": {
      "text/plain": [
       "(array([ 5152., 15086., 24810., 35171., 45120., 54808., 64997., 74832.,\n",
       "        85111., 94913.]),\n",
       " array([0.00132808, 0.1011951 , 0.20106213, 0.30092915, 0.40079618,\n",
       "        0.5006632 , 0.60053023, 0.70039725, 0.80026427, 0.9001313 ,\n",
       "        0.99999832]),\n",
       " <BarContainer object of 10 artists>)"
      ]
     },
     "execution_count": 6,
     "metadata": {},
     "output_type": "execute_result"
    },
    {
     "data": {
      "image/png": "[encoded data removed]",
      "text/plain": [
       "<Figure size 432x288 with 1 Axes>"
      ]
     },
     "metadata": {
      "needs_background": "light"
     },
     "output_type": "display_data"
    }
   ],
   "source": [
    "plt.hist(data[1])"
   ]
  },
  {
   "cell_type": "code",
   "execution_count": null,
   "id": "91b25bc3-5dca-4cb6-afaa-6e1d93f882ae",
   "metadata": {},
   "outputs": [],
   "source": []
  }
 ],
 "metadata": {
  "kernelspec": {
   "display_name": "Python 3 (ipykernel)",
   "language": "python",
   "name": "python3"
  },
  "language_info": {
   "codemirror_mode": {
    "name": "ipython",
    "version": 3
   },
   "file_extension": ".py",
   "mimetype": "text/x-python",
   "name": "python",
   "nbconvert_exporter": "python",
   "pygments_lexer": "ipython3",
   "version": "3.9.7"
  }
 },
 "nbformat": 4,
 "nbformat_minor": 5
}
