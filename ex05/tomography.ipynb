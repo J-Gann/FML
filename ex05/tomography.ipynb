{
 "cells": [
  {
   "cell_type": "code",
   "execution_count": 1309,
   "metadata": {},
   "outputs": [],
   "source": [
    "import math\n",
    "import numpy as np\n",
    "from scipy.sparse import coo_matrix\n",
    "import scipy.sparse.linalg\n",
    "import matplotlib.pyplot as plt"
   ]
  },
  {
   "cell_type": "code",
   "execution_count": 1310,
   "metadata": {},
   "outputs": [],
   "source": [
    "alphas_77 = np.load(\"./hs_tomography/alphas_77.npy\")\n",
    "alphas_195 = np.load(\"./hs_tomography/alphas_195.npy\")"
   ]
  },
  {
   "cell_type": "code",
   "execution_count": 1311,
   "metadata": {},
   "outputs": [],
   "source": [
    "def construct_X_not_vectorized(M, alphas, Np = None):\n",
    "    # Np = Np if Np else math.ceil(math.sqrt(2) * M)\n",
    "    No = alphas.shape[0]    # Number of orientations\n",
    "    N =  No * Np            # flattened array length of intensitie measurements\n",
    "    D = M * M               # flattened array length of tomogram\n",
    "    X = np.empty((N, D), dtype=np.float32)\n",
    "\n",
    "    \n",
    "    # non-vectorized solution\n",
    "    # 1. go trough each angle\n",
    "    for io in range(No):\n",
    "\n",
    "        # 2. go trough each pixel of the tomogram \n",
    "        for j in range(M*M):\n",
    "            # 3. calculate where the ray going trough the center of pixel j will hit the sensors\n",
    "            ja = j % M\n",
    "            jb = (j - ja) / M\n",
    "\n",
    "            # calculate length from pixel to central pixel\n",
    "            center_ja = math.floor(M / 2)\n",
    "            center_jb = math.floor(M / 2)\n",
    "\n",
    "            distance = math.sqrt((ja - center_ja)**2 + (jb - center_jb)**2)\n",
    "\n",
    "            # use sinus to compute distance of projection from center\n",
    "\n",
    "            c_length = distance\n",
    "\n",
    "            # Summe der winkel im Dreieck ist 180\n",
    "            alpha_angle = alphas[io]\n",
    "            gamma_angle = 90\n",
    "            beta_angle = 180 - gamma_angle - abs(alpha_angle)\n",
    "\n",
    "            # sinus-satz\n",
    "            b_length = (math.sin(beta_angle) / math.sin(gamma_angle)) * c_length\n",
    "\n",
    "            center_sensor = math.floor(Np / 2)\n",
    "            intercept = center_sensor + b_length\n",
    "\n",
    "            sensor_1 = math.floor(intercept)\n",
    "            sensor_2 = math.ceil(intercept)\n",
    "\n",
    "            sensor_2_weight = intercept - sensor_1\n",
    "            sensor_1_weight = 1 - sensor_2_weight\n",
    "\n",
    "            # 4. store the intensity ratio which the ray has on the two neighboring sensors in X\n",
    "\n",
    "            ip1 = sensor_1\n",
    "            ip2 = sensor_2\n",
    "\n",
    "            i1 = ip1 + Np * io\n",
    "            i2 = ip2 + Np * io\n",
    "\n",
    "            X[i1,j] = sensor_1_weight\n",
    "            X[i2,j] = sensor_2_weight\n",
    "    return X"
   ]
  },
  {
   "cell_type": "code",
   "execution_count": 1312,
   "metadata": {},
   "outputs": [],
   "source": [
    "def construct_X(M, alphas, Np = None, alpha_offset=0):\n",
    "    Np = Np if Np else math.ceil(math.sqrt(2) * M)\n",
    "    No = alphas.shape[0]    # Number of orientations\n",
    "    N =  No * Np            # flattened array length of intensitie measurements\n",
    "    D = M * M               # flattened array length of tomogram\n",
    "\n",
    "    ja = np.mgrid[0:D] % M\n",
    "    jb = (np.mgrid[0:D] - ja) / M\n",
    "\n",
    "    C = np.array([ja, jb])\n",
    "    C_moved = C - np.array([[M / 2],[M / 2]])\n",
    "    all_weights = []\n",
    "    all_i_indices = []\n",
    "    all_j_indices = []\n",
    "\n",
    "    for io in range(No):\n",
    "\n",
    "        alpha = alphas[io] + alpha_offset\n",
    "        ### SOMETHING IS WRONG WITH THE PROJECTION\n",
    "        n = np.array([[math.cos(alpha)], [-math.sin(alpha)]])\n",
    "        p = np.dot(n.T, C_moved) \n",
    "\n",
    "        p = p[0]\n",
    "        p = p + Np / 2\n",
    "\n",
    "        idx_sensor1 = np.floor(p) + Np * io\n",
    "        idx_sensor2 = np.ceil(p) + Np * io\n",
    "\n",
    "        weight2 = p - np.floor(p)\n",
    "        weight1 = 1 - weight2\n",
    "\n",
    "        idx_pixel1 = np.mgrid[0:D]\n",
    "        idx_pixel2 = np.mgrid[0:D]\n",
    "\n",
    "        weights = np.append(weight1, weight2)\n",
    "        idx_sensor = np.append(idx_sensor1, idx_sensor2)\n",
    "        idx_pixel = np.append(idx_pixel1, idx_pixel2)\n",
    "\n",
    "        all_weights.extend(weights)\n",
    "        all_j_indices.extend(idx_pixel)\n",
    "        all_i_indices.extend(idx_sensor)\n",
    "\n",
    "\n",
    "    all_weights = np.array(all_weights)\n",
    "    all_i_indices = np.array(all_i_indices)\n",
    "    all_j_indices = np.array(all_j_indices)\n",
    "\n",
    "    X = coo_matrix((all_weights, (all_i_indices, all_j_indices)), shape=(N, D), dtype = np.float32)\n",
    "    return X"
   ]
  },
  {
   "cell_type": "code",
   "execution_count": 1350,
   "metadata": {},
   "outputs": [
    {
     "data": {
      "text/plain": [
       "<matplotlib.image.AxesImage at 0x7f9d2707d3d0>"
      ]
     },
     "execution_count": 1350,
     "metadata": {},
     "output_type": "execute_result"
    },
    {
     "data": {
      "image/png": "[encoded data removed]",
      "text/plain": [
       "<Figure size 432x288 with 1 Axes>"
      ]
     },
     "metadata": {
      "needs_background": "light"
     },
     "output_type": "display_data"
    }
   ],
   "source": [
    "#X = construct_X(M=195, alphas=alphas_195, Np=275)\n",
    "X = construct_X(M=10, alphas=np.array([-33, 1, 42]), Np=15, alpha_offset=2.1)\n",
    "\n",
    "plt.imshow(X.todense())"
   ]
  },
  {
   "cell_type": "code",
   "execution_count": 908,
   "metadata": {},
   "outputs": [
    {
     "data": {
      "text/plain": [
       "array([1, 2, 3, 4])"
      ]
     },
     "execution_count": 908,
     "metadata": {},
     "output_type": "execute_result"
    }
   ],
   "source": [
    "np.append(np.array([1,2]), np.array([3,4]))"
   ]
  },
  {
   "cell_type": "code",
   "execution_count": 1314,
   "metadata": {},
   "outputs": [
    {
     "ename": "ValueError",
     "evalue": "dimension mismatch",
     "output_type": "error",
     "traceback": [
      "\u001b[0;31m---------------------------------------------------------------------------\u001b[0m",
      "\u001b[0;31mValueError\u001b[0m                                Traceback (most recent call last)",
      "\u001b[0;32m/tmp/ipykernel_8298/2526905927.py\u001b[0m in \u001b[0;36m<module>\u001b[0;34m\u001b[0m\n\u001b[1;32m      2\u001b[0m \u001b[0malphas\u001b[0m \u001b[0;34m=\u001b[0m \u001b[0mnp\u001b[0m\u001b[0;34m.\u001b[0m\u001b[0mload\u001b[0m\u001b[0;34m(\u001b[0m\u001b[0;34m\"hs_tomography/alphas_195.npy\"\u001b[0m\u001b[0;34m,\u001b[0m \u001b[0mallow_pickle\u001b[0m\u001b[0;34m=\u001b[0m\u001b[0;32mTrue\u001b[0m\u001b[0;34m)\u001b[0m\u001b[0;34m\u001b[0m\u001b[0;34m\u001b[0m\u001b[0m\n\u001b[1;32m      3\u001b[0m \u001b[0;34m\u001b[0m\u001b[0m\n\u001b[0;32m----> 4\u001b[0;31m \u001b[0mbeta\u001b[0m\u001b[0;34m,\u001b[0m \u001b[0msolution\u001b[0m\u001b[0;34m,\u001b[0m \u001b[0;34m*\u001b[0m\u001b[0m_\u001b[0m \u001b[0;34m=\u001b[0m \u001b[0mscipy\u001b[0m\u001b[0;34m.\u001b[0m\u001b[0msparse\u001b[0m\u001b[0;34m.\u001b[0m\u001b[0mlinalg\u001b[0m\u001b[0;34m.\u001b[0m\u001b[0mlsqr\u001b[0m\u001b[0;34m(\u001b[0m\u001b[0mX\u001b[0m\u001b[0;34m,\u001b[0m \u001b[0my\u001b[0m\u001b[0;34m,\u001b[0m \u001b[0matol\u001b[0m\u001b[0;34m=\u001b[0m\u001b[0;36m1e-3\u001b[0m\u001b[0;34m,\u001b[0m \u001b[0mbtol\u001b[0m\u001b[0;34m=\u001b[0m\u001b[0;36m1e-3\u001b[0m\u001b[0;34m)\u001b[0m\u001b[0;34m\u001b[0m\u001b[0;34m\u001b[0m\u001b[0m\n\u001b[0m\u001b[1;32m      5\u001b[0m \u001b[0;34m\u001b[0m\u001b[0m\n\u001b[1;32m      6\u001b[0m \u001b[0;31m#assert solution == 1\u001b[0m\u001b[0;34m\u001b[0m\u001b[0;34m\u001b[0m\u001b[0;34m\u001b[0m\u001b[0m\n",
      "\u001b[0;32m~/.local/lib/python3.8/site-packages/scipy/sparse/linalg/isolve/lsqr.py\u001b[0m in \u001b[0;36mlsqr\u001b[0;34m(A, b, damp, atol, btol, conlim, iter_lim, show, calc_var, x0)\u001b[0m\n\u001b[1;32m    367\u001b[0m     \u001b[0;32mif\u001b[0m \u001b[0mbeta\u001b[0m \u001b[0;34m>\u001b[0m \u001b[0;36m0\u001b[0m\u001b[0;34m:\u001b[0m\u001b[0;34m\u001b[0m\u001b[0;34m\u001b[0m\u001b[0m\n\u001b[1;32m    368\u001b[0m         \u001b[0mu\u001b[0m \u001b[0;34m=\u001b[0m \u001b[0;34m(\u001b[0m\u001b[0;36m1\u001b[0m\u001b[0;34m/\u001b[0m\u001b[0mbeta\u001b[0m\u001b[0;34m)\u001b[0m \u001b[0;34m*\u001b[0m \u001b[0mu\u001b[0m\u001b[0;34m\u001b[0m\u001b[0;34m\u001b[0m\u001b[0m\n\u001b[0;32m--> 369\u001b[0;31m         \u001b[0mv\u001b[0m \u001b[0;34m=\u001b[0m \u001b[0mA\u001b[0m\u001b[0;34m.\u001b[0m\u001b[0mrmatvec\u001b[0m\u001b[0;34m(\u001b[0m\u001b[0mu\u001b[0m\u001b[0;34m)\u001b[0m\u001b[0;34m\u001b[0m\u001b[0;34m\u001b[0m\u001b[0m\n\u001b[0m\u001b[1;32m    370\u001b[0m         \u001b[0malfa\u001b[0m \u001b[0;34m=\u001b[0m \u001b[0mnp\u001b[0m\u001b[0;34m.\u001b[0m\u001b[0mlinalg\u001b[0m\u001b[0;34m.\u001b[0m\u001b[0mnorm\u001b[0m\u001b[0;34m(\u001b[0m\u001b[0mv\u001b[0m\u001b[0;34m)\u001b[0m\u001b[0;34m\u001b[0m\u001b[0;34m\u001b[0m\u001b[0m\n\u001b[1;32m    371\u001b[0m     \u001b[0;32melse\u001b[0m\u001b[0;34m:\u001b[0m\u001b[0;34m\u001b[0m\u001b[0;34m\u001b[0m\u001b[0m\n",
      "\u001b[0;32m~/.local/lib/python3.8/site-packages/scipy/sparse/linalg/interface.py\u001b[0m in \u001b[0;36mrmatvec\u001b[0;34m(self, x)\u001b[0m\n\u001b[1;32m    275\u001b[0m \u001b[0;34m\u001b[0m\u001b[0m\n\u001b[1;32m    276\u001b[0m         \u001b[0;32mif\u001b[0m \u001b[0mx\u001b[0m\u001b[0;34m.\u001b[0m\u001b[0mshape\u001b[0m \u001b[0;34m!=\u001b[0m \u001b[0;34m(\u001b[0m\u001b[0mM\u001b[0m\u001b[0;34m,\u001b[0m\u001b[0;34m)\u001b[0m \u001b[0;32mand\u001b[0m \u001b[0mx\u001b[0m\u001b[0;34m.\u001b[0m\u001b[0mshape\u001b[0m \u001b[0;34m!=\u001b[0m \u001b[0;34m(\u001b[0m\u001b[0mM\u001b[0m\u001b[0;34m,\u001b[0m\u001b[0;36m1\u001b[0m\u001b[0;34m)\u001b[0m\u001b[0;34m:\u001b[0m\u001b[0;34m\u001b[0m\u001b[0;34m\u001b[0m\u001b[0m\n\u001b[0;32m--> 277\u001b[0;31m             \u001b[0;32mraise\u001b[0m \u001b[0mValueError\u001b[0m\u001b[0;34m(\u001b[0m\u001b[0;34m'dimension mismatch'\u001b[0m\u001b[0;34m)\u001b[0m\u001b[0;34m\u001b[0m\u001b[0;34m\u001b[0m\u001b[0m\n\u001b[0m\u001b[1;32m    278\u001b[0m \u001b[0;34m\u001b[0m\u001b[0m\n\u001b[1;32m    279\u001b[0m         \u001b[0my\u001b[0m \u001b[0;34m=\u001b[0m \u001b[0mself\u001b[0m\u001b[0;34m.\u001b[0m\u001b[0m_rmatvec\u001b[0m\u001b[0;34m(\u001b[0m\u001b[0mx\u001b[0m\u001b[0;34m)\u001b[0m\u001b[0;34m\u001b[0m\u001b[0;34m\u001b[0m\u001b[0m\n",
      "\u001b[0;31mValueError\u001b[0m: dimension mismatch"
     ]
    }
   ],
   "source": [
    "y = np.load(\"hs_tomography/y_195.npy\", allow_pickle=True)\n",
    "alphas = np.load(\"hs_tomography/alphas_195.npy\", allow_pickle=True)\n",
    "\n",
    "beta, solution, *_ = scipy.sparse.linalg.lsqr(X, y, atol=1e-3, btol=1e-3)\n",
    "\n",
    "#assert solution == 1\n",
    "img = beta.reshape((195, 195))\n",
    "plt.imshow(img)\n",
    "plt.show()"
   ]
  }
 ],
 "metadata": {
  "interpreter": {
   "hash": "916dbcbb3f70747c44a77c7bcd40155683ae19c65e1c03b4aa3499c5328201f1"
  },
  "kernelspec": {
   "display_name": "Python 3.8.10 64-bit",
   "language": "python",
   "name": "python3"
  },
  "language_info": {
   "codemirror_mode": {
    "name": "ipython",
    "version": 3
   },
   "file_extension": ".py",
   "mimetype": "text/x-python",
   "name": "python",
   "nbconvert_exporter": "python",
   "pygments_lexer": "ipython3",
   "version": "3.8.10"
  },
  "orig_nbformat": 4
 },
 "nbformat": 4,
 "nbformat_minor": 2
}
